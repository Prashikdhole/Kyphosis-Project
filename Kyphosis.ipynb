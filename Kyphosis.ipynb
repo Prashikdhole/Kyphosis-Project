{
  "cells": [
    {
      "cell_type": "markdown",
      "metadata": {
        "id": "view-in-github",
        "colab_type": "text"
      },
      "source": [
        "<a href=\"https://colab.research.google.com/github/Prashikdhole/Kyphosis-Project/blob/main/Kyphosis.ipynb\" target=\"_parent\"><img src=\"https://colab.research.google.com/assets/colab-badge.svg\" alt=\"Open In Colab\"/></a>"
      ]
    },
    {
      "cell_type": "code",
      "execution_count": null,
      "metadata": {
        "id": "1ZETHu7sDi-w"
      },
      "outputs": [],
      "source": [
        "import pandas as pd\n",
        "import numpy as np\n",
        "import matplotlib.pyplot as plt\n",
        "import seaborn as sns\n",
        "from sklearn.model_selection import train_test_split\n",
        "from sklearn.preprocessing import MinMaxScaler\n",
        "from sklearn.preprocessing import StandardScaler\n",
        "from sklearn.linear_model import LogisticRegression\n",
        "from sklearn.naive_bayes import GaussianNB\n",
        "from sklearn.svm import SVC\n",
        "from sklearn.tree import DecisionTreeClassifier\n",
        "from sklearn.model_selection import GridSearchCV\n",
        "from sklearn.ensemble import RandomForestClassifier\n",
        "from sklearn.metrics import r2_score\n",
        "from sklearn.metrics import mean_squared_error\n",
        "from sklearn.metrics import accuracy_score,confusion_matrix,ConfusionMatrixDisplay\n",
        "from sklearn.linear_model import LogisticRegressionCV\n",
        "from sklearn.model_selection import cross_validate\n",
        "from imblearn.over_sampling import SMOTE\n",
        "import seaborn as sns\n",
        "from sklearn import tree\n"
      ]
    },
    {
      "cell_type": "code",
      "execution_count": null,
      "metadata": {
        "colab": {
          "base_uri": "https://localhost:8080/"
        },
        "id": "4wQpyn8ZDr9v",
        "outputId": "4d0c1f25-c56d-4fd0-ad82-edfd5634380d"
      },
      "outputs": [
        {
          "output_type": "stream",
          "name": "stdout",
          "text": [
            "Mounted at /content/drive\n"
          ]
        }
      ],
      "source": [
        "from google.colab import drive\n",
        "drive.mount('/content/drive')"
      ]
    },
    {
      "cell_type": "code",
      "execution_count": null,
      "metadata": {
        "id": "ldMa8qn8Dwf6"
      },
      "outputs": [],
      "source": [
        "df = pd.read_csv('/content/drive/My Drive/kyphosis.csv')\n"
      ]
    },
    {
      "cell_type": "code",
      "execution_count": null,
      "metadata": {
        "colab": {
          "base_uri": "https://localhost:8080/",
          "height": 363
        },
        "id": "hfx7hYWwFUyF",
        "outputId": "b4319aa9-c6f1-4f3d-f068-1b69f06b5752"
      },
      "outputs": [
        {
          "output_type": "execute_result",
          "data": {
            "text/plain": [
              "  Kyphosis  Age  Number  Start\n",
              "0   absent   71       3      5\n",
              "1   absent  158       3     14\n",
              "2  present  128       4      5\n",
              "3   absent    2       5      1\n",
              "4   absent    1       4     15\n",
              "5   absent    1       2     16\n",
              "6   absent   61       2     17\n",
              "7   absent   37       3     16\n",
              "8   absent  113       2     16\n",
              "9  present   59       6     12"
            ],
            "text/html": [
              "\n",
              "  <div id=\"df-12b2bde6-1bc1-4583-a793-e5b3dd5e7c3d\" class=\"colab-df-container\">\n",
              "    <div>\n",
              "<style scoped>\n",
              "    .dataframe tbody tr th:only-of-type {\n",
              "        vertical-align: middle;\n",
              "    }\n",
              "\n",
              "    .dataframe tbody tr th {\n",
              "        vertical-align: top;\n",
              "    }\n",
              "\n",
              "    .dataframe thead th {\n",
              "        text-align: right;\n",
              "    }\n",
              "</style>\n",
              "<table border=\"1\" class=\"dataframe\">\n",
              "  <thead>\n",
              "    <tr style=\"text-align: right;\">\n",
              "      <th></th>\n",
              "      <th>Kyphosis</th>\n",
              "      <th>Age</th>\n",
              "      <th>Number</th>\n",
              "      <th>Start</th>\n",
              "    </tr>\n",
              "  </thead>\n",
              "  <tbody>\n",
              "    <tr>\n",
              "      <th>0</th>\n",
              "      <td>absent</td>\n",
              "      <td>71</td>\n",
              "      <td>3</td>\n",
              "      <td>5</td>\n",
              "    </tr>\n",
              "    <tr>\n",
              "      <th>1</th>\n",
              "      <td>absent</td>\n",
              "      <td>158</td>\n",
              "      <td>3</td>\n",
              "      <td>14</td>\n",
              "    </tr>\n",
              "    <tr>\n",
              "      <th>2</th>\n",
              "      <td>present</td>\n",
              "      <td>128</td>\n",
              "      <td>4</td>\n",
              "      <td>5</td>\n",
              "    </tr>\n",
              "    <tr>\n",
              "      <th>3</th>\n",
              "      <td>absent</td>\n",
              "      <td>2</td>\n",
              "      <td>5</td>\n",
              "      <td>1</td>\n",
              "    </tr>\n",
              "    <tr>\n",
              "      <th>4</th>\n",
              "      <td>absent</td>\n",
              "      <td>1</td>\n",
              "      <td>4</td>\n",
              "      <td>15</td>\n",
              "    </tr>\n",
              "    <tr>\n",
              "      <th>5</th>\n",
              "      <td>absent</td>\n",
              "      <td>1</td>\n",
              "      <td>2</td>\n",
              "      <td>16</td>\n",
              "    </tr>\n",
              "    <tr>\n",
              "      <th>6</th>\n",
              "      <td>absent</td>\n",
              "      <td>61</td>\n",
              "      <td>2</td>\n",
              "      <td>17</td>\n",
              "    </tr>\n",
              "    <tr>\n",
              "      <th>7</th>\n",
              "      <td>absent</td>\n",
              "      <td>37</td>\n",
              "      <td>3</td>\n",
              "      <td>16</td>\n",
              "    </tr>\n",
              "    <tr>\n",
              "      <th>8</th>\n",
              "      <td>absent</td>\n",
              "      <td>113</td>\n",
              "      <td>2</td>\n",
              "      <td>16</td>\n",
              "    </tr>\n",
              "    <tr>\n",
              "      <th>9</th>\n",
              "      <td>present</td>\n",
              "      <td>59</td>\n",
              "      <td>6</td>\n",
              "      <td>12</td>\n",
              "    </tr>\n",
              "  </tbody>\n",
              "</table>\n",
              "</div>\n",
              "    <div class=\"colab-df-buttons\">\n",
              "\n",
              "  <div class=\"colab-df-container\">\n",
              "    <button class=\"colab-df-convert\" onclick=\"convertToInteractive('df-12b2bde6-1bc1-4583-a793-e5b3dd5e7c3d')\"\n",
              "            title=\"Convert this dataframe to an interactive table.\"\n",
              "            style=\"display:none;\">\n",
              "\n",
              "  <svg xmlns=\"http://www.w3.org/2000/svg\" height=\"24px\" viewBox=\"0 -960 960 960\">\n",
              "    <path d=\"M120-120v-720h720v720H120Zm60-500h600v-160H180v160Zm220 220h160v-160H400v160Zm0 220h160v-160H400v160ZM180-400h160v-160H180v160Zm440 0h160v-160H620v160ZM180-180h160v-160H180v160Zm440 0h160v-160H620v160Z\"/>\n",
              "  </svg>\n",
              "    </button>\n",
              "\n",
              "  <style>\n",
              "    .colab-df-container {\n",
              "      display:flex;\n",
              "      gap: 12px;\n",
              "    }\n",
              "\n",
              "    .colab-df-convert {\n",
              "      background-color: #E8F0FE;\n",
              "      border: none;\n",
              "      border-radius: 50%;\n",
              "      cursor: pointer;\n",
              "      display: none;\n",
              "      fill: #1967D2;\n",
              "      height: 32px;\n",
              "      padding: 0 0 0 0;\n",
              "      width: 32px;\n",
              "    }\n",
              "\n",
              "    .colab-df-convert:hover {\n",
              "      background-color: #E2EBFA;\n",
              "      box-shadow: 0px 1px 2px rgba(60, 64, 67, 0.3), 0px 1px 3px 1px rgba(60, 64, 67, 0.15);\n",
              "      fill: #174EA6;\n",
              "    }\n",
              "\n",
              "    .colab-df-buttons div {\n",
              "      margin-bottom: 4px;\n",
              "    }\n",
              "\n",
              "    [theme=dark] .colab-df-convert {\n",
              "      background-color: #3B4455;\n",
              "      fill: #D2E3FC;\n",
              "    }\n",
              "\n",
              "    [theme=dark] .colab-df-convert:hover {\n",
              "      background-color: #434B5C;\n",
              "      box-shadow: 0px 1px 3px 1px rgba(0, 0, 0, 0.15);\n",
              "      filter: drop-shadow(0px 1px 2px rgba(0, 0, 0, 0.3));\n",
              "      fill: #FFFFFF;\n",
              "    }\n",
              "  </style>\n",
              "\n",
              "    <script>\n",
              "      const buttonEl =\n",
              "        document.querySelector('#df-12b2bde6-1bc1-4583-a793-e5b3dd5e7c3d button.colab-df-convert');\n",
              "      buttonEl.style.display =\n",
              "        google.colab.kernel.accessAllowed ? 'block' : 'none';\n",
              "\n",
              "      async function convertToInteractive(key) {\n",
              "        const element = document.querySelector('#df-12b2bde6-1bc1-4583-a793-e5b3dd5e7c3d');\n",
              "        const dataTable =\n",
              "          await google.colab.kernel.invokeFunction('convertToInteractive',\n",
              "                                                    [key], {});\n",
              "        if (!dataTable) return;\n",
              "\n",
              "        const docLinkHtml = 'Like what you see? Visit the ' +\n",
              "          '<a target=\"_blank\" href=https://colab.research.google.com/notebooks/data_table.ipynb>data table notebook</a>'\n",
              "          + ' to learn more about interactive tables.';\n",
              "        element.innerHTML = '';\n",
              "        dataTable['output_type'] = 'display_data';\n",
              "        await google.colab.output.renderOutput(dataTable, element);\n",
              "        const docLink = document.createElement('div');\n",
              "        docLink.innerHTML = docLinkHtml;\n",
              "        element.appendChild(docLink);\n",
              "      }\n",
              "    </script>\n",
              "  </div>\n",
              "\n",
              "\n",
              "<div id=\"df-83f6e571-7883-4742-9fb7-8d0d3a3bf5e2\">\n",
              "  <button class=\"colab-df-quickchart\" onclick=\"quickchart('df-83f6e571-7883-4742-9fb7-8d0d3a3bf5e2')\"\n",
              "            title=\"Suggest charts\"\n",
              "            style=\"display:none;\">\n",
              "\n",
              "<svg xmlns=\"http://www.w3.org/2000/svg\" height=\"24px\"viewBox=\"0 0 24 24\"\n",
              "     width=\"24px\">\n",
              "    <g>\n",
              "        <path d=\"M19 3H5c-1.1 0-2 .9-2 2v14c0 1.1.9 2 2 2h14c1.1 0 2-.9 2-2V5c0-1.1-.9-2-2-2zM9 17H7v-7h2v7zm4 0h-2V7h2v10zm4 0h-2v-4h2v4z\"/>\n",
              "    </g>\n",
              "</svg>\n",
              "  </button>\n",
              "\n",
              "<style>\n",
              "  .colab-df-quickchart {\n",
              "      --bg-color: #E8F0FE;\n",
              "      --fill-color: #1967D2;\n",
              "      --hover-bg-color: #E2EBFA;\n",
              "      --hover-fill-color: #174EA6;\n",
              "      --disabled-fill-color: #AAA;\n",
              "      --disabled-bg-color: #DDD;\n",
              "  }\n",
              "\n",
              "  [theme=dark] .colab-df-quickchart {\n",
              "      --bg-color: #3B4455;\n",
              "      --fill-color: #D2E3FC;\n",
              "      --hover-bg-color: #434B5C;\n",
              "      --hover-fill-color: #FFFFFF;\n",
              "      --disabled-bg-color: #3B4455;\n",
              "      --disabled-fill-color: #666;\n",
              "  }\n",
              "\n",
              "  .colab-df-quickchart {\n",
              "    background-color: var(--bg-color);\n",
              "    border: none;\n",
              "    border-radius: 50%;\n",
              "    cursor: pointer;\n",
              "    display: none;\n",
              "    fill: var(--fill-color);\n",
              "    height: 32px;\n",
              "    padding: 0;\n",
              "    width: 32px;\n",
              "  }\n",
              "\n",
              "  .colab-df-quickchart:hover {\n",
              "    background-color: var(--hover-bg-color);\n",
              "    box-shadow: 0 1px 2px rgba(60, 64, 67, 0.3), 0 1px 3px 1px rgba(60, 64, 67, 0.15);\n",
              "    fill: var(--button-hover-fill-color);\n",
              "  }\n",
              "\n",
              "  .colab-df-quickchart-complete:disabled,\n",
              "  .colab-df-quickchart-complete:disabled:hover {\n",
              "    background-color: var(--disabled-bg-color);\n",
              "    fill: var(--disabled-fill-color);\n",
              "    box-shadow: none;\n",
              "  }\n",
              "\n",
              "  .colab-df-spinner {\n",
              "    border: 2px solid var(--fill-color);\n",
              "    border-color: transparent;\n",
              "    border-bottom-color: var(--fill-color);\n",
              "    animation:\n",
              "      spin 1s steps(1) infinite;\n",
              "  }\n",
              "\n",
              "  @keyframes spin {\n",
              "    0% {\n",
              "      border-color: transparent;\n",
              "      border-bottom-color: var(--fill-color);\n",
              "      border-left-color: var(--fill-color);\n",
              "    }\n",
              "    20% {\n",
              "      border-color: transparent;\n",
              "      border-left-color: var(--fill-color);\n",
              "      border-top-color: var(--fill-color);\n",
              "    }\n",
              "    30% {\n",
              "      border-color: transparent;\n",
              "      border-left-color: var(--fill-color);\n",
              "      border-top-color: var(--fill-color);\n",
              "      border-right-color: var(--fill-color);\n",
              "    }\n",
              "    40% {\n",
              "      border-color: transparent;\n",
              "      border-right-color: var(--fill-color);\n",
              "      border-top-color: var(--fill-color);\n",
              "    }\n",
              "    60% {\n",
              "      border-color: transparent;\n",
              "      border-right-color: var(--fill-color);\n",
              "    }\n",
              "    80% {\n",
              "      border-color: transparent;\n",
              "      border-right-color: var(--fill-color);\n",
              "      border-bottom-color: var(--fill-color);\n",
              "    }\n",
              "    90% {\n",
              "      border-color: transparent;\n",
              "      border-bottom-color: var(--fill-color);\n",
              "    }\n",
              "  }\n",
              "</style>\n",
              "\n",
              "  <script>\n",
              "    async function quickchart(key) {\n",
              "      const quickchartButtonEl =\n",
              "        document.querySelector('#' + key + ' button');\n",
              "      quickchartButtonEl.disabled = true;  // To prevent multiple clicks.\n",
              "      quickchartButtonEl.classList.add('colab-df-spinner');\n",
              "      try {\n",
              "        const charts = await google.colab.kernel.invokeFunction(\n",
              "            'suggestCharts', [key], {});\n",
              "      } catch (error) {\n",
              "        console.error('Error during call to suggestCharts:', error);\n",
              "      }\n",
              "      quickchartButtonEl.classList.remove('colab-df-spinner');\n",
              "      quickchartButtonEl.classList.add('colab-df-quickchart-complete');\n",
              "    }\n",
              "    (() => {\n",
              "      let quickchartButtonEl =\n",
              "        document.querySelector('#df-83f6e571-7883-4742-9fb7-8d0d3a3bf5e2 button');\n",
              "      quickchartButtonEl.style.display =\n",
              "        google.colab.kernel.accessAllowed ? 'block' : 'none';\n",
              "    })();\n",
              "  </script>\n",
              "</div>\n",
              "\n",
              "    </div>\n",
              "  </div>\n"
            ]
          },
          "metadata": {},
          "execution_count": 4
        }
      ],
      "source": [
        "df.head(10)"
      ]
    },
    {
      "cell_type": "code",
      "execution_count": null,
      "metadata": {
        "colab": {
          "base_uri": "https://localhost:8080/",
          "height": 363
        },
        "id": "xyjMc3wiFWe1",
        "outputId": "465d30bb-141c-427c-a229-6e98d0988ece"
      },
      "outputs": [
        {
          "output_type": "execute_result",
          "data": {
            "text/plain": [
              "   Kyphosis  Age  Number  Start\n",
              "71   absent  127       4     12\n",
              "72   absent   87       4     16\n",
              "73   absent  206       4     10\n",
              "74   absent   11       3     15\n",
              "75   absent  178       4     15\n",
              "76  present  157       3     13\n",
              "77   absent   26       7     13\n",
              "78   absent  120       2     13\n",
              "79  present   42       7      6\n",
              "80   absent   36       4     13"
            ],
            "text/html": [
              "\n",
              "  <div id=\"df-12513da9-0f38-4473-909b-89313906e780\" class=\"colab-df-container\">\n",
              "    <div>\n",
              "<style scoped>\n",
              "    .dataframe tbody tr th:only-of-type {\n",
              "        vertical-align: middle;\n",
              "    }\n",
              "\n",
              "    .dataframe tbody tr th {\n",
              "        vertical-align: top;\n",
              "    }\n",
              "\n",
              "    .dataframe thead th {\n",
              "        text-align: right;\n",
              "    }\n",
              "</style>\n",
              "<table border=\"1\" class=\"dataframe\">\n",
              "  <thead>\n",
              "    <tr style=\"text-align: right;\">\n",
              "      <th></th>\n",
              "      <th>Kyphosis</th>\n",
              "      <th>Age</th>\n",
              "      <th>Number</th>\n",
              "      <th>Start</th>\n",
              "    </tr>\n",
              "  </thead>\n",
              "  <tbody>\n",
              "    <tr>\n",
              "      <th>71</th>\n",
              "      <td>absent</td>\n",
              "      <td>127</td>\n",
              "      <td>4</td>\n",
              "      <td>12</td>\n",
              "    </tr>\n",
              "    <tr>\n",
              "      <th>72</th>\n",
              "      <td>absent</td>\n",
              "      <td>87</td>\n",
              "      <td>4</td>\n",
              "      <td>16</td>\n",
              "    </tr>\n",
              "    <tr>\n",
              "      <th>73</th>\n",
              "      <td>absent</td>\n",
              "      <td>206</td>\n",
              "      <td>4</td>\n",
              "      <td>10</td>\n",
              "    </tr>\n",
              "    <tr>\n",
              "      <th>74</th>\n",
              "      <td>absent</td>\n",
              "      <td>11</td>\n",
              "      <td>3</td>\n",
              "      <td>15</td>\n",
              "    </tr>\n",
              "    <tr>\n",
              "      <th>75</th>\n",
              "      <td>absent</td>\n",
              "      <td>178</td>\n",
              "      <td>4</td>\n",
              "      <td>15</td>\n",
              "    </tr>\n",
              "    <tr>\n",
              "      <th>76</th>\n",
              "      <td>present</td>\n",
              "      <td>157</td>\n",
              "      <td>3</td>\n",
              "      <td>13</td>\n",
              "    </tr>\n",
              "    <tr>\n",
              "      <th>77</th>\n",
              "      <td>absent</td>\n",
              "      <td>26</td>\n",
              "      <td>7</td>\n",
              "      <td>13</td>\n",
              "    </tr>\n",
              "    <tr>\n",
              "      <th>78</th>\n",
              "      <td>absent</td>\n",
              "      <td>120</td>\n",
              "      <td>2</td>\n",
              "      <td>13</td>\n",
              "    </tr>\n",
              "    <tr>\n",
              "      <th>79</th>\n",
              "      <td>present</td>\n",
              "      <td>42</td>\n",
              "      <td>7</td>\n",
              "      <td>6</td>\n",
              "    </tr>\n",
              "    <tr>\n",
              "      <th>80</th>\n",
              "      <td>absent</td>\n",
              "      <td>36</td>\n",
              "      <td>4</td>\n",
              "      <td>13</td>\n",
              "    </tr>\n",
              "  </tbody>\n",
              "</table>\n",
              "</div>\n",
              "    <div class=\"colab-df-buttons\">\n",
              "\n",
              "  <div class=\"colab-df-container\">\n",
              "    <button class=\"colab-df-convert\" onclick=\"convertToInteractive('df-12513da9-0f38-4473-909b-89313906e780')\"\n",
              "            title=\"Convert this dataframe to an interactive table.\"\n",
              "            style=\"display:none;\">\n",
              "\n",
              "  <svg xmlns=\"http://www.w3.org/2000/svg\" height=\"24px\" viewBox=\"0 -960 960 960\">\n",
              "    <path d=\"M120-120v-720h720v720H120Zm60-500h600v-160H180v160Zm220 220h160v-160H400v160Zm0 220h160v-160H400v160ZM180-400h160v-160H180v160Zm440 0h160v-160H620v160ZM180-180h160v-160H180v160Zm440 0h160v-160H620v160Z\"/>\n",
              "  </svg>\n",
              "    </button>\n",
              "\n",
              "  <style>\n",
              "    .colab-df-container {\n",
              "      display:flex;\n",
              "      gap: 12px;\n",
              "    }\n",
              "\n",
              "    .colab-df-convert {\n",
              "      background-color: #E8F0FE;\n",
              "      border: none;\n",
              "      border-radius: 50%;\n",
              "      cursor: pointer;\n",
              "      display: none;\n",
              "      fill: #1967D2;\n",
              "      height: 32px;\n",
              "      padding: 0 0 0 0;\n",
              "      width: 32px;\n",
              "    }\n",
              "\n",
              "    .colab-df-convert:hover {\n",
              "      background-color: #E2EBFA;\n",
              "      box-shadow: 0px 1px 2px rgba(60, 64, 67, 0.3), 0px 1px 3px 1px rgba(60, 64, 67, 0.15);\n",
              "      fill: #174EA6;\n",
              "    }\n",
              "\n",
              "    .colab-df-buttons div {\n",
              "      margin-bottom: 4px;\n",
              "    }\n",
              "\n",
              "    [theme=dark] .colab-df-convert {\n",
              "      background-color: #3B4455;\n",
              "      fill: #D2E3FC;\n",
              "    }\n",
              "\n",
              "    [theme=dark] .colab-df-convert:hover {\n",
              "      background-color: #434B5C;\n",
              "      box-shadow: 0px 1px 3px 1px rgba(0, 0, 0, 0.15);\n",
              "      filter: drop-shadow(0px 1px 2px rgba(0, 0, 0, 0.3));\n",
              "      fill: #FFFFFF;\n",
              "    }\n",
              "  </style>\n",
              "\n",
              "    <script>\n",
              "      const buttonEl =\n",
              "        document.querySelector('#df-12513da9-0f38-4473-909b-89313906e780 button.colab-df-convert');\n",
              "      buttonEl.style.display =\n",
              "        google.colab.kernel.accessAllowed ? 'block' : 'none';\n",
              "\n",
              "      async function convertToInteractive(key) {\n",
              "        const element = document.querySelector('#df-12513da9-0f38-4473-909b-89313906e780');\n",
              "        const dataTable =\n",
              "          await google.colab.kernel.invokeFunction('convertToInteractive',\n",
              "                                                    [key], {});\n",
              "        if (!dataTable) return;\n",
              "\n",
              "        const docLinkHtml = 'Like what you see? Visit the ' +\n",
              "          '<a target=\"_blank\" href=https://colab.research.google.com/notebooks/data_table.ipynb>data table notebook</a>'\n",
              "          + ' to learn more about interactive tables.';\n",
              "        element.innerHTML = '';\n",
              "        dataTable['output_type'] = 'display_data';\n",
              "        await google.colab.output.renderOutput(dataTable, element);\n",
              "        const docLink = document.createElement('div');\n",
              "        docLink.innerHTML = docLinkHtml;\n",
              "        element.appendChild(docLink);\n",
              "      }\n",
              "    </script>\n",
              "  </div>\n",
              "\n",
              "\n",
              "<div id=\"df-1584ae77-d84d-479a-a0ac-7c39eacf400e\">\n",
              "  <button class=\"colab-df-quickchart\" onclick=\"quickchart('df-1584ae77-d84d-479a-a0ac-7c39eacf400e')\"\n",
              "            title=\"Suggest charts\"\n",
              "            style=\"display:none;\">\n",
              "\n",
              "<svg xmlns=\"http://www.w3.org/2000/svg\" height=\"24px\"viewBox=\"0 0 24 24\"\n",
              "     width=\"24px\">\n",
              "    <g>\n",
              "        <path d=\"M19 3H5c-1.1 0-2 .9-2 2v14c0 1.1.9 2 2 2h14c1.1 0 2-.9 2-2V5c0-1.1-.9-2-2-2zM9 17H7v-7h2v7zm4 0h-2V7h2v10zm4 0h-2v-4h2v4z\"/>\n",
              "    </g>\n",
              "</svg>\n",
              "  </button>\n",
              "\n",
              "<style>\n",
              "  .colab-df-quickchart {\n",
              "      --bg-color: #E8F0FE;\n",
              "      --fill-color: #1967D2;\n",
              "      --hover-bg-color: #E2EBFA;\n",
              "      --hover-fill-color: #174EA6;\n",
              "      --disabled-fill-color: #AAA;\n",
              "      --disabled-bg-color: #DDD;\n",
              "  }\n",
              "\n",
              "  [theme=dark] .colab-df-quickchart {\n",
              "      --bg-color: #3B4455;\n",
              "      --fill-color: #D2E3FC;\n",
              "      --hover-bg-color: #434B5C;\n",
              "      --hover-fill-color: #FFFFFF;\n",
              "      --disabled-bg-color: #3B4455;\n",
              "      --disabled-fill-color: #666;\n",
              "  }\n",
              "\n",
              "  .colab-df-quickchart {\n",
              "    background-color: var(--bg-color);\n",
              "    border: none;\n",
              "    border-radius: 50%;\n",
              "    cursor: pointer;\n",
              "    display: none;\n",
              "    fill: var(--fill-color);\n",
              "    height: 32px;\n",
              "    padding: 0;\n",
              "    width: 32px;\n",
              "  }\n",
              "\n",
              "  .colab-df-quickchart:hover {\n",
              "    background-color: var(--hover-bg-color);\n",
              "    box-shadow: 0 1px 2px rgba(60, 64, 67, 0.3), 0 1px 3px 1px rgba(60, 64, 67, 0.15);\n",
              "    fill: var(--button-hover-fill-color);\n",
              "  }\n",
              "\n",
              "  .colab-df-quickchart-complete:disabled,\n",
              "  .colab-df-quickchart-complete:disabled:hover {\n",
              "    background-color: var(--disabled-bg-color);\n",
              "    fill: var(--disabled-fill-color);\n",
              "    box-shadow: none;\n",
              "  }\n",
              "\n",
              "  .colab-df-spinner {\n",
              "    border: 2px solid var(--fill-color);\n",
              "    border-color: transparent;\n",
              "    border-bottom-color: var(--fill-color);\n",
              "    animation:\n",
              "      spin 1s steps(1) infinite;\n",
              "  }\n",
              "\n",
              "  @keyframes spin {\n",
              "    0% {\n",
              "      border-color: transparent;\n",
              "      border-bottom-color: var(--fill-color);\n",
              "      border-left-color: var(--fill-color);\n",
              "    }\n",
              "    20% {\n",
              "      border-color: transparent;\n",
              "      border-left-color: var(--fill-color);\n",
              "      border-top-color: var(--fill-color);\n",
              "    }\n",
              "    30% {\n",
              "      border-color: transparent;\n",
              "      border-left-color: var(--fill-color);\n",
              "      border-top-color: var(--fill-color);\n",
              "      border-right-color: var(--fill-color);\n",
              "    }\n",
              "    40% {\n",
              "      border-color: transparent;\n",
              "      border-right-color: var(--fill-color);\n",
              "      border-top-color: var(--fill-color);\n",
              "    }\n",
              "    60% {\n",
              "      border-color: transparent;\n",
              "      border-right-color: var(--fill-color);\n",
              "    }\n",
              "    80% {\n",
              "      border-color: transparent;\n",
              "      border-right-color: var(--fill-color);\n",
              "      border-bottom-color: var(--fill-color);\n",
              "    }\n",
              "    90% {\n",
              "      border-color: transparent;\n",
              "      border-bottom-color: var(--fill-color);\n",
              "    }\n",
              "  }\n",
              "</style>\n",
              "\n",
              "  <script>\n",
              "    async function quickchart(key) {\n",
              "      const quickchartButtonEl =\n",
              "        document.querySelector('#' + key + ' button');\n",
              "      quickchartButtonEl.disabled = true;  // To prevent multiple clicks.\n",
              "      quickchartButtonEl.classList.add('colab-df-spinner');\n",
              "      try {\n",
              "        const charts = await google.colab.kernel.invokeFunction(\n",
              "            'suggestCharts', [key], {});\n",
              "      } catch (error) {\n",
              "        console.error('Error during call to suggestCharts:', error);\n",
              "      }\n",
              "      quickchartButtonEl.classList.remove('colab-df-spinner');\n",
              "      quickchartButtonEl.classList.add('colab-df-quickchart-complete');\n",
              "    }\n",
              "    (() => {\n",
              "      let quickchartButtonEl =\n",
              "        document.querySelector('#df-1584ae77-d84d-479a-a0ac-7c39eacf400e button');\n",
              "      quickchartButtonEl.style.display =\n",
              "        google.colab.kernel.accessAllowed ? 'block' : 'none';\n",
              "    })();\n",
              "  </script>\n",
              "</div>\n",
              "\n",
              "    </div>\n",
              "  </div>\n"
            ]
          },
          "metadata": {},
          "execution_count": 5
        }
      ],
      "source": [
        "df.tail(10)"
      ]
    },
    {
      "cell_type": "code",
      "execution_count": null,
      "metadata": {
        "colab": {
          "base_uri": "https://localhost:8080/"
        },
        "id": "K6pOznvgFYkB",
        "outputId": "1b0c1ef4-2056-4c59-9178-231972a82daa"
      },
      "outputs": [
        {
          "output_type": "execute_result",
          "data": {
            "text/plain": [
              "(81, 4)"
            ]
          },
          "metadata": {},
          "execution_count": 6
        }
      ],
      "source": [
        "df.shape"
      ]
    },
    {
      "cell_type": "code",
      "execution_count": null,
      "metadata": {
        "colab": {
          "base_uri": "https://localhost:8080/",
          "height": 300
        },
        "id": "Daxo0MUxFnqu",
        "outputId": "ee41fbb9-dfe2-4f6d-b025-0a65428b4d77"
      },
      "outputs": [
        {
          "output_type": "execute_result",
          "data": {
            "text/plain": [
              "              Age     Number      Start\n",
              "count   81.000000  81.000000  81.000000\n",
              "mean    83.654321   4.049383  11.493827\n",
              "std     58.104251   1.619423   4.883962\n",
              "min      1.000000   2.000000   1.000000\n",
              "25%     26.000000   3.000000   9.000000\n",
              "50%     87.000000   4.000000  13.000000\n",
              "75%    130.000000   5.000000  16.000000\n",
              "max    206.000000  10.000000  18.000000"
            ],
            "text/html": [
              "\n",
              "  <div id=\"df-202c870f-63a3-4163-be16-9cfae65ae0ca\" class=\"colab-df-container\">\n",
              "    <div>\n",
              "<style scoped>\n",
              "    .dataframe tbody tr th:only-of-type {\n",
              "        vertical-align: middle;\n",
              "    }\n",
              "\n",
              "    .dataframe tbody tr th {\n",
              "        vertical-align: top;\n",
              "    }\n",
              "\n",
              "    .dataframe thead th {\n",
              "        text-align: right;\n",
              "    }\n",
              "</style>\n",
              "<table border=\"1\" class=\"dataframe\">\n",
              "  <thead>\n",
              "    <tr style=\"text-align: right;\">\n",
              "      <th></th>\n",
              "      <th>Age</th>\n",
              "      <th>Number</th>\n",
              "      <th>Start</th>\n",
              "    </tr>\n",
              "  </thead>\n",
              "  <tbody>\n",
              "    <tr>\n",
              "      <th>count</th>\n",
              "      <td>81.000000</td>\n",
              "      <td>81.000000</td>\n",
              "      <td>81.000000</td>\n",
              "    </tr>\n",
              "    <tr>\n",
              "      <th>mean</th>\n",
              "      <td>83.654321</td>\n",
              "      <td>4.049383</td>\n",
              "      <td>11.493827</td>\n",
              "    </tr>\n",
              "    <tr>\n",
              "      <th>std</th>\n",
              "      <td>58.104251</td>\n",
              "      <td>1.619423</td>\n",
              "      <td>4.883962</td>\n",
              "    </tr>\n",
              "    <tr>\n",
              "      <th>min</th>\n",
              "      <td>1.000000</td>\n",
              "      <td>2.000000</td>\n",
              "      <td>1.000000</td>\n",
              "    </tr>\n",
              "    <tr>\n",
              "      <th>25%</th>\n",
              "      <td>26.000000</td>\n",
              "      <td>3.000000</td>\n",
              "      <td>9.000000</td>\n",
              "    </tr>\n",
              "    <tr>\n",
              "      <th>50%</th>\n",
              "      <td>87.000000</td>\n",
              "      <td>4.000000</td>\n",
              "      <td>13.000000</td>\n",
              "    </tr>\n",
              "    <tr>\n",
              "      <th>75%</th>\n",
              "      <td>130.000000</td>\n",
              "      <td>5.000000</td>\n",
              "      <td>16.000000</td>\n",
              "    </tr>\n",
              "    <tr>\n",
              "      <th>max</th>\n",
              "      <td>206.000000</td>\n",
              "      <td>10.000000</td>\n",
              "      <td>18.000000</td>\n",
              "    </tr>\n",
              "  </tbody>\n",
              "</table>\n",
              "</div>\n",
              "    <div class=\"colab-df-buttons\">\n",
              "\n",
              "  <div class=\"colab-df-container\">\n",
              "    <button class=\"colab-df-convert\" onclick=\"convertToInteractive('df-202c870f-63a3-4163-be16-9cfae65ae0ca')\"\n",
              "            title=\"Convert this dataframe to an interactive table.\"\n",
              "            style=\"display:none;\">\n",
              "\n",
              "  <svg xmlns=\"http://www.w3.org/2000/svg\" height=\"24px\" viewBox=\"0 -960 960 960\">\n",
              "    <path d=\"M120-120v-720h720v720H120Zm60-500h600v-160H180v160Zm220 220h160v-160H400v160Zm0 220h160v-160H400v160ZM180-400h160v-160H180v160Zm440 0h160v-160H620v160ZM180-180h160v-160H180v160Zm440 0h160v-160H620v160Z\"/>\n",
              "  </svg>\n",
              "    </button>\n",
              "\n",
              "  <style>\n",
              "    .colab-df-container {\n",
              "      display:flex;\n",
              "      gap: 12px;\n",
              "    }\n",
              "\n",
              "    .colab-df-convert {\n",
              "      background-color: #E8F0FE;\n",
              "      border: none;\n",
              "      border-radius: 50%;\n",
              "      cursor: pointer;\n",
              "      display: none;\n",
              "      fill: #1967D2;\n",
              "      height: 32px;\n",
              "      padding: 0 0 0 0;\n",
              "      width: 32px;\n",
              "    }\n",
              "\n",
              "    .colab-df-convert:hover {\n",
              "      background-color: #E2EBFA;\n",
              "      box-shadow: 0px 1px 2px rgba(60, 64, 67, 0.3), 0px 1px 3px 1px rgba(60, 64, 67, 0.15);\n",
              "      fill: #174EA6;\n",
              "    }\n",
              "\n",
              "    .colab-df-buttons div {\n",
              "      margin-bottom: 4px;\n",
              "    }\n",
              "\n",
              "    [theme=dark] .colab-df-convert {\n",
              "      background-color: #3B4455;\n",
              "      fill: #D2E3FC;\n",
              "    }\n",
              "\n",
              "    [theme=dark] .colab-df-convert:hover {\n",
              "      background-color: #434B5C;\n",
              "      box-shadow: 0px 1px 3px 1px rgba(0, 0, 0, 0.15);\n",
              "      filter: drop-shadow(0px 1px 2px rgba(0, 0, 0, 0.3));\n",
              "      fill: #FFFFFF;\n",
              "    }\n",
              "  </style>\n",
              "\n",
              "    <script>\n",
              "      const buttonEl =\n",
              "        document.querySelector('#df-202c870f-63a3-4163-be16-9cfae65ae0ca button.colab-df-convert');\n",
              "      buttonEl.style.display =\n",
              "        google.colab.kernel.accessAllowed ? 'block' : 'none';\n",
              "\n",
              "      async function convertToInteractive(key) {\n",
              "        const element = document.querySelector('#df-202c870f-63a3-4163-be16-9cfae65ae0ca');\n",
              "        const dataTable =\n",
              "          await google.colab.kernel.invokeFunction('convertToInteractive',\n",
              "                                                    [key], {});\n",
              "        if (!dataTable) return;\n",
              "\n",
              "        const docLinkHtml = 'Like what you see? Visit the ' +\n",
              "          '<a target=\"_blank\" href=https://colab.research.google.com/notebooks/data_table.ipynb>data table notebook</a>'\n",
              "          + ' to learn more about interactive tables.';\n",
              "        element.innerHTML = '';\n",
              "        dataTable['output_type'] = 'display_data';\n",
              "        await google.colab.output.renderOutput(dataTable, element);\n",
              "        const docLink = document.createElement('div');\n",
              "        docLink.innerHTML = docLinkHtml;\n",
              "        element.appendChild(docLink);\n",
              "      }\n",
              "    </script>\n",
              "  </div>\n",
              "\n",
              "\n",
              "<div id=\"df-00b5872c-8e83-4a80-a3d4-9ab5f1de8585\">\n",
              "  <button class=\"colab-df-quickchart\" onclick=\"quickchart('df-00b5872c-8e83-4a80-a3d4-9ab5f1de8585')\"\n",
              "            title=\"Suggest charts\"\n",
              "            style=\"display:none;\">\n",
              "\n",
              "<svg xmlns=\"http://www.w3.org/2000/svg\" height=\"24px\"viewBox=\"0 0 24 24\"\n",
              "     width=\"24px\">\n",
              "    <g>\n",
              "        <path d=\"M19 3H5c-1.1 0-2 .9-2 2v14c0 1.1.9 2 2 2h14c1.1 0 2-.9 2-2V5c0-1.1-.9-2-2-2zM9 17H7v-7h2v7zm4 0h-2V7h2v10zm4 0h-2v-4h2v4z\"/>\n",
              "    </g>\n",
              "</svg>\n",
              "  </button>\n",
              "\n",
              "<style>\n",
              "  .colab-df-quickchart {\n",
              "      --bg-color: #E8F0FE;\n",
              "      --fill-color: #1967D2;\n",
              "      --hover-bg-color: #E2EBFA;\n",
              "      --hover-fill-color: #174EA6;\n",
              "      --disabled-fill-color: #AAA;\n",
              "      --disabled-bg-color: #DDD;\n",
              "  }\n",
              "\n",
              "  [theme=dark] .colab-df-quickchart {\n",
              "      --bg-color: #3B4455;\n",
              "      --fill-color: #D2E3FC;\n",
              "      --hover-bg-color: #434B5C;\n",
              "      --hover-fill-color: #FFFFFF;\n",
              "      --disabled-bg-color: #3B4455;\n",
              "      --disabled-fill-color: #666;\n",
              "  }\n",
              "\n",
              "  .colab-df-quickchart {\n",
              "    background-color: var(--bg-color);\n",
              "    border: none;\n",
              "    border-radius: 50%;\n",
              "    cursor: pointer;\n",
              "    display: none;\n",
              "    fill: var(--fill-color);\n",
              "    height: 32px;\n",
              "    padding: 0;\n",
              "    width: 32px;\n",
              "  }\n",
              "\n",
              "  .colab-df-quickchart:hover {\n",
              "    background-color: var(--hover-bg-color);\n",
              "    box-shadow: 0 1px 2px rgba(60, 64, 67, 0.3), 0 1px 3px 1px rgba(60, 64, 67, 0.15);\n",
              "    fill: var(--button-hover-fill-color);\n",
              "  }\n",
              "\n",
              "  .colab-df-quickchart-complete:disabled,\n",
              "  .colab-df-quickchart-complete:disabled:hover {\n",
              "    background-color: var(--disabled-bg-color);\n",
              "    fill: var(--disabled-fill-color);\n",
              "    box-shadow: none;\n",
              "  }\n",
              "\n",
              "  .colab-df-spinner {\n",
              "    border: 2px solid var(--fill-color);\n",
              "    border-color: transparent;\n",
              "    border-bottom-color: var(--fill-color);\n",
              "    animation:\n",
              "      spin 1s steps(1) infinite;\n",
              "  }\n",
              "\n",
              "  @keyframes spin {\n",
              "    0% {\n",
              "      border-color: transparent;\n",
              "      border-bottom-color: var(--fill-color);\n",
              "      border-left-color: var(--fill-color);\n",
              "    }\n",
              "    20% {\n",
              "      border-color: transparent;\n",
              "      border-left-color: var(--fill-color);\n",
              "      border-top-color: var(--fill-color);\n",
              "    }\n",
              "    30% {\n",
              "      border-color: transparent;\n",
              "      border-left-color: var(--fill-color);\n",
              "      border-top-color: var(--fill-color);\n",
              "      border-right-color: var(--fill-color);\n",
              "    }\n",
              "    40% {\n",
              "      border-color: transparent;\n",
              "      border-right-color: var(--fill-color);\n",
              "      border-top-color: var(--fill-color);\n",
              "    }\n",
              "    60% {\n",
              "      border-color: transparent;\n",
              "      border-right-color: var(--fill-color);\n",
              "    }\n",
              "    80% {\n",
              "      border-color: transparent;\n",
              "      border-right-color: var(--fill-color);\n",
              "      border-bottom-color: var(--fill-color);\n",
              "    }\n",
              "    90% {\n",
              "      border-color: transparent;\n",
              "      border-bottom-color: var(--fill-color);\n",
              "    }\n",
              "  }\n",
              "</style>\n",
              "\n",
              "  <script>\n",
              "    async function quickchart(key) {\n",
              "      const quickchartButtonEl =\n",
              "        document.querySelector('#' + key + ' button');\n",
              "      quickchartButtonEl.disabled = true;  // To prevent multiple clicks.\n",
              "      quickchartButtonEl.classList.add('colab-df-spinner');\n",
              "      try {\n",
              "        const charts = await google.colab.kernel.invokeFunction(\n",
              "            'suggestCharts', [key], {});\n",
              "      } catch (error) {\n",
              "        console.error('Error during call to suggestCharts:', error);\n",
              "      }\n",
              "      quickchartButtonEl.classList.remove('colab-df-spinner');\n",
              "      quickchartButtonEl.classList.add('colab-df-quickchart-complete');\n",
              "    }\n",
              "    (() => {\n",
              "      let quickchartButtonEl =\n",
              "        document.querySelector('#df-00b5872c-8e83-4a80-a3d4-9ab5f1de8585 button');\n",
              "      quickchartButtonEl.style.display =\n",
              "        google.colab.kernel.accessAllowed ? 'block' : 'none';\n",
              "    })();\n",
              "  </script>\n",
              "</div>\n",
              "\n",
              "    </div>\n",
              "  </div>\n"
            ]
          },
          "metadata": {},
          "execution_count": 7
        }
      ],
      "source": [
        "df.describe()"
      ]
    },
    {
      "cell_type": "code",
      "execution_count": null,
      "metadata": {
        "colab": {
          "base_uri": "https://localhost:8080/"
        },
        "id": "w7SbEBVqG86W",
        "outputId": "67d65f1f-b578-4565-ec99-51f7da5ce4e1"
      },
      "outputs": [
        {
          "output_type": "stream",
          "name": "stdout",
          "text": [
            "<class 'pandas.core.frame.DataFrame'>\n",
            "RangeIndex: 81 entries, 0 to 80\n",
            "Data columns (total 4 columns):\n",
            " #   Column    Non-Null Count  Dtype \n",
            "---  ------    --------------  ----- \n",
            " 0   Kyphosis  81 non-null     object\n",
            " 1   Age       81 non-null     int64 \n",
            " 2   Number    81 non-null     int64 \n",
            " 3   Start     81 non-null     int64 \n",
            "dtypes: int64(3), object(1)\n",
            "memory usage: 2.7+ KB\n"
          ]
        }
      ],
      "source": [
        "df.info()"
      ]
    },
    {
      "cell_type": "code",
      "execution_count": null,
      "metadata": {
        "colab": {
          "base_uri": "https://localhost:8080/"
        },
        "id": "w1USmmvdG-dS",
        "outputId": "d3009e30-d921-43b4-899f-108fc2307c0d"
      },
      "outputs": [
        {
          "output_type": "execute_result",
          "data": {
            "text/plain": [
              "Kyphosis    0\n",
              "Age         0\n",
              "Number      0\n",
              "Start       0\n",
              "dtype: int64"
            ]
          },
          "metadata": {},
          "execution_count": 9
        }
      ],
      "source": [
        "df.isnull().sum()"
      ]
    },
    {
      "cell_type": "code",
      "execution_count": null,
      "metadata": {
        "colab": {
          "base_uri": "https://localhost:8080/",
          "height": 53
        },
        "id": "3aO2xC9nHB-4",
        "outputId": "cc1bcc83-e306-4c8a-e259-50f8e982fad9"
      },
      "outputs": [
        {
          "output_type": "execute_result",
          "data": {
            "text/plain": [
              "Empty DataFrame\n",
              "Columns: [Kyphosis, Age, Number, Start]\n",
              "Index: []"
            ],
            "text/html": [
              "\n",
              "  <div id=\"df-efe3bf8d-23cb-4da8-b26c-ee227904697d\" class=\"colab-df-container\">\n",
              "    <div>\n",
              "<style scoped>\n",
              "    .dataframe tbody tr th:only-of-type {\n",
              "        vertical-align: middle;\n",
              "    }\n",
              "\n",
              "    .dataframe tbody tr th {\n",
              "        vertical-align: top;\n",
              "    }\n",
              "\n",
              "    .dataframe thead th {\n",
              "        text-align: right;\n",
              "    }\n",
              "</style>\n",
              "<table border=\"1\" class=\"dataframe\">\n",
              "  <thead>\n",
              "    <tr style=\"text-align: right;\">\n",
              "      <th></th>\n",
              "      <th>Kyphosis</th>\n",
              "      <th>Age</th>\n",
              "      <th>Number</th>\n",
              "      <th>Start</th>\n",
              "    </tr>\n",
              "  </thead>\n",
              "  <tbody>\n",
              "  </tbody>\n",
              "</table>\n",
              "</div>\n",
              "    <div class=\"colab-df-buttons\">\n",
              "\n",
              "  <div class=\"colab-df-container\">\n",
              "    <button class=\"colab-df-convert\" onclick=\"convertToInteractive('df-efe3bf8d-23cb-4da8-b26c-ee227904697d')\"\n",
              "            title=\"Convert this dataframe to an interactive table.\"\n",
              "            style=\"display:none;\">\n",
              "\n",
              "  <svg xmlns=\"http://www.w3.org/2000/svg\" height=\"24px\" viewBox=\"0 -960 960 960\">\n",
              "    <path d=\"M120-120v-720h720v720H120Zm60-500h600v-160H180v160Zm220 220h160v-160H400v160Zm0 220h160v-160H400v160ZM180-400h160v-160H180v160Zm440 0h160v-160H620v160ZM180-180h160v-160H180v160Zm440 0h160v-160H620v160Z\"/>\n",
              "  </svg>\n",
              "    </button>\n",
              "\n",
              "  <style>\n",
              "    .colab-df-container {\n",
              "      display:flex;\n",
              "      gap: 12px;\n",
              "    }\n",
              "\n",
              "    .colab-df-convert {\n",
              "      background-color: #E8F0FE;\n",
              "      border: none;\n",
              "      border-radius: 50%;\n",
              "      cursor: pointer;\n",
              "      display: none;\n",
              "      fill: #1967D2;\n",
              "      height: 32px;\n",
              "      padding: 0 0 0 0;\n",
              "      width: 32px;\n",
              "    }\n",
              "\n",
              "    .colab-df-convert:hover {\n",
              "      background-color: #E2EBFA;\n",
              "      box-shadow: 0px 1px 2px rgba(60, 64, 67, 0.3), 0px 1px 3px 1px rgba(60, 64, 67, 0.15);\n",
              "      fill: #174EA6;\n",
              "    }\n",
              "\n",
              "    .colab-df-buttons div {\n",
              "      margin-bottom: 4px;\n",
              "    }\n",
              "\n",
              "    [theme=dark] .colab-df-convert {\n",
              "      background-color: #3B4455;\n",
              "      fill: #D2E3FC;\n",
              "    }\n",
              "\n",
              "    [theme=dark] .colab-df-convert:hover {\n",
              "      background-color: #434B5C;\n",
              "      box-shadow: 0px 1px 3px 1px rgba(0, 0, 0, 0.15);\n",
              "      filter: drop-shadow(0px 1px 2px rgba(0, 0, 0, 0.3));\n",
              "      fill: #FFFFFF;\n",
              "    }\n",
              "  </style>\n",
              "\n",
              "    <script>\n",
              "      const buttonEl =\n",
              "        document.querySelector('#df-efe3bf8d-23cb-4da8-b26c-ee227904697d button.colab-df-convert');\n",
              "      buttonEl.style.display =\n",
              "        google.colab.kernel.accessAllowed ? 'block' : 'none';\n",
              "\n",
              "      async function convertToInteractive(key) {\n",
              "        const element = document.querySelector('#df-efe3bf8d-23cb-4da8-b26c-ee227904697d');\n",
              "        const dataTable =\n",
              "          await google.colab.kernel.invokeFunction('convertToInteractive',\n",
              "                                                    [key], {});\n",
              "        if (!dataTable) return;\n",
              "\n",
              "        const docLinkHtml = 'Like what you see? Visit the ' +\n",
              "          '<a target=\"_blank\" href=https://colab.research.google.com/notebooks/data_table.ipynb>data table notebook</a>'\n",
              "          + ' to learn more about interactive tables.';\n",
              "        element.innerHTML = '';\n",
              "        dataTable['output_type'] = 'display_data';\n",
              "        await google.colab.output.renderOutput(dataTable, element);\n",
              "        const docLink = document.createElement('div');\n",
              "        docLink.innerHTML = docLinkHtml;\n",
              "        element.appendChild(docLink);\n",
              "      }\n",
              "    </script>\n",
              "  </div>\n",
              "\n",
              "\n",
              "    </div>\n",
              "  </div>\n"
            ]
          },
          "metadata": {},
          "execution_count": 10
        }
      ],
      "source": [
        "df[df.duplicated()]"
      ]
    },
    {
      "cell_type": "code",
      "execution_count": null,
      "metadata": {
        "colab": {
          "base_uri": "https://localhost:8080/"
        },
        "id": "bnnwwzz7HHsD",
        "outputId": "eddfee5d-9d6c-405d-8740-54e3fa053c63"
      },
      "outputs": [
        {
          "output_type": "execute_result",
          "data": {
            "text/plain": [
              "absent     64\n",
              "present    17\n",
              "Name: Kyphosis, dtype: int64"
            ]
          },
          "metadata": {},
          "execution_count": 11
        }
      ],
      "source": [
        "df.Kyphosis.value_counts()"
      ]
    },
    {
      "cell_type": "code",
      "execution_count": null,
      "metadata": {
        "colab": {
          "base_uri": "https://localhost:8080/",
          "height": 851
        },
        "id": "Ouats-8wHOp4",
        "outputId": "4db061d4-7d89-4de5-f726-b5d32ae24cba"
      },
      "outputs": [
        {
          "output_type": "execute_result",
          "data": {
            "text/plain": [
              "<Axes: title={'center': 'Percentage of vertebrae present'}, ylabel='Kyphosis'>"
            ]
          },
          "metadata": {},
          "execution_count": 12
        },
        {
          "output_type": "display_data",
          "data": {
            "text/plain": [
              "<Figure size 1000x2000 with 1 Axes>"
            ],
            "image/png": "[encoded data removed]"
          },
          "metadata": {}
        }
      ],
      "source": [
        "df.Kyphosis.value_counts().plot(kind='pie',figsize=(10,20),title='Percentage of vertebrae present',autopct='%1.2f%%',startangle=90,shadow=True,labeldistance=1,explode=[0,0.02])"
      ]
    },
    {
      "cell_type": "code",
      "execution_count": null,
      "metadata": {
        "colab": {
          "base_uri": "https://localhost:8080/",
          "height": 447
        },
        "id": "jFScJGPEPT1m",
        "outputId": "6fea0d7f-5edc-4155-e2bf-015d3e6e20d0"
      },
      "outputs": [
        {
          "output_type": "execute_result",
          "data": {
            "text/plain": [
              "<Axes: >"
            ]
          },
          "metadata": {},
          "execution_count": 13
        },
        {
          "output_type": "display_data",
          "data": {
            "text/plain": [
              "<Figure size 640x480 with 1 Axes>"
            ],
            "image/png": "[encoded data removed]"
          },
          "metadata": {}
        }
      ],
      "source": [
        "vc = df.Kyphosis.value_counts()\n",
        "sns.barplot(x = vc.index,y=vc.values)"
      ]
    },
    {
      "cell_type": "code",
      "execution_count": null,
      "metadata": {
        "colab": {
          "base_uri": "https://localhost:8080/"
        },
        "id": "on8i2dNPPyZV",
        "outputId": "88a2260a-b6aa-439f-d670-688968f5304c"
      },
      "outputs": [
        {
          "output_type": "execute_result",
          "data": {
            "text/plain": [
              "array([ 71, 158, 128,   2,   1,  61,  37, 113,  59,  82, 148,  18, 168,\n",
              "        78, 175,  80,  27,  22, 105,  96, 131,  15,   9,   8, 100,   4,\n",
              "       151,  31, 125, 130, 112, 140,  93,  52,  20,  91,  73,  35, 143,\n",
              "        97, 139, 136, 121, 177,  68,  72, 120,  51, 102, 114,  81, 118,\n",
              "        17, 195, 159, 127,  87, 206,  11, 178, 157,  26,  42,  36])"
            ]
          },
          "metadata": {},
          "execution_count": 14
        }
      ],
      "source": [
        "df.Age.unique()"
      ]
    },
    {
      "cell_type": "code",
      "execution_count": null,
      "metadata": {
        "colab": {
          "base_uri": "https://localhost:8080/",
          "height": 731
        },
        "id": "tAZ8seZDP60E",
        "outputId": "36d7047e-b0aa-4ff5-8000-fbedf668be35"
      },
      "outputs": [
        {
          "output_type": "display_data",
          "data": {
            "text/plain": [
              "<Figure size 1500x800 with 1 Axes>"
            ],
            "image/png": "[encoded data removed]"
          },
          "metadata": {}
        }
      ],
      "source": [
        "plt.figure(figsize=(15,8))\n",
        "sns.countplot(data=df,x='Age')\n",
        "plt.title('Count of Age')\n",
        "plt.xticks(rotation=90)\n",
        "plt.show()"
      ]
    },
    {
      "cell_type": "code",
      "execution_count": null,
      "metadata": {
        "colab": {
          "base_uri": "https://localhost:8080/",
          "height": 827
        },
        "id": "tf6HL-7DQkYv",
        "outputId": "5a4cc833-e03c-4af9-90c3-4850169dfaf9"
      },
      "outputs": [
        {
          "output_type": "stream",
          "name": "stderr",
          "text": [
            "<ipython-input-16-f8a66a75c64f>:2: UserWarning: \n",
            "\n",
            "`distplot` is a deprecated function and will be removed in seaborn v0.14.0.\n",
            "\n",
            "Please adapt your code to use either `displot` (a figure-level function with\n",
            "similar flexibility) or `histplot` (an axes-level function for histograms).\n",
            "\n",
            "For a guide to updating your code to use the new functions, please see\n",
            "https://gist.github.com/mwaskom/de44147ed2974457ad6372750bbe5751\n",
            "\n",
            "  sns.distplot(df['Number'],color = \"y\")\n"
          ]
        },
        {
          "output_type": "execute_result",
          "data": {
            "text/plain": [
              "<Axes: xlabel='Number', ylabel='Density'>"
            ]
          },
          "metadata": {},
          "execution_count": 16
        },
        {
          "output_type": "display_data",
          "data": {
            "text/plain": [
              "<Figure size 700x700 with 1 Axes>"
            ],
            "image/png": "[encoded data removed]"
          },
          "metadata": {}
        }
      ],
      "source": [
        "plt.figure(figsize=(7,7))\n",
        "sns.distplot(df['Number'],color = \"y\")"
      ]
    },
    {
      "cell_type": "code",
      "execution_count": null,
      "metadata": {
        "colab": {
          "base_uri": "https://localhost:8080/",
          "height": 827
        },
        "id": "TR8RLaopQplf",
        "outputId": "91c62f98-b21b-44de-cebe-444084212a97"
      },
      "outputs": [
        {
          "output_type": "stream",
          "name": "stderr",
          "text": [
            "<ipython-input-17-efd64347ee0e>:2: UserWarning: \n",
            "\n",
            "`distplot` is a deprecated function and will be removed in seaborn v0.14.0.\n",
            "\n",
            "Please adapt your code to use either `displot` (a figure-level function with\n",
            "similar flexibility) or `histplot` (an axes-level function for histograms).\n",
            "\n",
            "For a guide to updating your code to use the new functions, please see\n",
            "https://gist.github.com/mwaskom/de44147ed2974457ad6372750bbe5751\n",
            "\n",
            "  sns.distplot(df['Start'],color = \"y\")\n"
          ]
        },
        {
          "output_type": "execute_result",
          "data": {
            "text/plain": [
              "<Axes: xlabel='Start', ylabel='Density'>"
            ]
          },
          "metadata": {},
          "execution_count": 17
        },
        {
          "output_type": "display_data",
          "data": {
            "text/plain": [
              "<Figure size 700x700 with 1 Axes>"
            ],
            "image/png": "[encoded data removed]"
          },
          "metadata": {}
        }
      ],
      "source": [
        "plt.figure(figsize=(7,7))\n",
        "sns.distplot(df['Start'],color = \"y\")"
      ]
    },
    {
      "cell_type": "code",
      "execution_count": null,
      "metadata": {
        "colab": {
          "base_uri": "https://localhost:8080/",
          "height": 754
        },
        "id": "TPGWlhIdQtGN",
        "outputId": "a058ba44-a44c-4628-f499-70cf0a944e42"
      },
      "outputs": [
        {
          "output_type": "stream",
          "name": "stderr",
          "text": [
            "<ipython-input-18-ee535b2cc5be>:2: FutureWarning: The default value of numeric_only in DataFrame.corr is deprecated. In a future version, it will default to False. Select only valid columns or specify the value of numeric_only to silence this warning.\n",
            "  sns.heatmap(df.corr(), annot=True)\n"
          ]
        },
        {
          "output_type": "execute_result",
          "data": {
            "text/plain": [
              "<Axes: >"
            ]
          },
          "metadata": {},
          "execution_count": 18
        },
        {
          "output_type": "display_data",
          "data": {
            "text/plain": [
              "<Figure size 1000x800 with 2 Axes>"
            ],
            "image/png": "[encoded data removed]"
          },
          "metadata": {}
        }
      ],
      "source": [
        "plt.figure(figsize=(10,8))\n",
        "sns.heatmap(df.corr(), annot=True)"
      ]
    },
    {
      "cell_type": "code",
      "execution_count": null,
      "metadata": {
        "id": "SZW_RjyYUAt2"
      },
      "outputs": [],
      "source": [
        "X= df.drop('Kyphosis',axis=1)\n",
        "Y = df['Kyphosis']"
      ]
    },
    {
      "cell_type": "code",
      "source": [
        "smote = SMOTE()\n",
        "x_resampled, y_resampled = smote.fit_resample(X,Y)"
      ],
      "metadata": {
        "id": "sfISdqK5eWGk"
      },
      "execution_count": null,
      "outputs": []
    },
    {
      "cell_type": "code",
      "source": [
        "balanced_Kyphosis = pd.concat([x_resampled, y_resampled], axis=1)\n",
        "balanced_Kyphosis.to_csv('balanced_kyphosis_data.csv', index=False)"
      ],
      "metadata": {
        "id": "7QhR5qzEefJz"
      },
      "execution_count": null,
      "outputs": []
    },
    {
      "cell_type": "code",
      "source": [
        "df2 = pd.read_csv('balanced_kyphosis_data.csv')\n",
        "df2.head(10)"
      ],
      "metadata": {
        "colab": {
          "base_uri": "https://localhost:8080/",
          "height": 363
        },
        "id": "tSGuGoTZemXg",
        "outputId": "1d7f6e39-78e5-498d-911a-fabc6c93a5cd"
      },
      "execution_count": null,
      "outputs": [
        {
          "output_type": "execute_result",
          "data": {
            "text/plain": [
              "   Age  Number  Start Kyphosis\n",
              "0   71       3      5   absent\n",
              "1  158       3     14   absent\n",
              "2  128       4      5  present\n",
              "3    2       5      1   absent\n",
              "4    1       4     15   absent\n",
              "5    1       2     16   absent\n",
              "6   61       2     17   absent\n",
              "7   37       3     16   absent\n",
              "8  113       2     16   absent\n",
              "9   59       6     12  present"
            ],
            "text/html": [
              "\n",
              "  <div id=\"df-c5a23167-027a-4ec7-a866-1c39233aebc3\" class=\"colab-df-container\">\n",
              "    <div>\n",
              "<style scoped>\n",
              "    .dataframe tbody tr th:only-of-type {\n",
              "        vertical-align: middle;\n",
              "    }\n",
              "\n",
              "    .dataframe tbody tr th {\n",
              "        vertical-align: top;\n",
              "    }\n",
              "\n",
              "    .dataframe thead th {\n",
              "        text-align: right;\n",
              "    }\n",
              "</style>\n",
              "<table border=\"1\" class=\"dataframe\">\n",
              "  <thead>\n",
              "    <tr style=\"text-align: right;\">\n",
              "      <th></th>\n",
              "      <th>Age</th>\n",
              "      <th>Number</th>\n",
              "      <th>Start</th>\n",
              "      <th>Kyphosis</th>\n",
              "    </tr>\n",
              "  </thead>\n",
              "  <tbody>\n",
              "    <tr>\n",
              "      <th>0</th>\n",
              "      <td>71</td>\n",
              "      <td>3</td>\n",
              "      <td>5</td>\n",
              "      <td>absent</td>\n",
              "    </tr>\n",
              "    <tr>\n",
              "      <th>1</th>\n",
              "      <td>158</td>\n",
              "      <td>3</td>\n",
              "      <td>14</td>\n",
              "      <td>absent</td>\n",
              "    </tr>\n",
              "    <tr>\n",
              "      <th>2</th>\n",
              "      <td>128</td>\n",
              "      <td>4</td>\n",
              "      <td>5</td>\n",
              "      <td>present</td>\n",
              "    </tr>\n",
              "    <tr>\n",
              "      <th>3</th>\n",
              "      <td>2</td>\n",
              "      <td>5</td>\n",
              "      <td>1</td>\n",
              "      <td>absent</td>\n",
              "    </tr>\n",
              "    <tr>\n",
              "      <th>4</th>\n",
              "      <td>1</td>\n",
              "      <td>4</td>\n",
              "      <td>15</td>\n",
              "      <td>absent</td>\n",
              "    </tr>\n",
              "    <tr>\n",
              "      <th>5</th>\n",
              "      <td>1</td>\n",
              "      <td>2</td>\n",
              "      <td>16</td>\n",
              "      <td>absent</td>\n",
              "    </tr>\n",
              "    <tr>\n",
              "      <th>6</th>\n",
              "      <td>61</td>\n",
              "      <td>2</td>\n",
              "      <td>17</td>\n",
              "      <td>absent</td>\n",
              "    </tr>\n",
              "    <tr>\n",
              "      <th>7</th>\n",
              "      <td>37</td>\n",
              "      <td>3</td>\n",
              "      <td>16</td>\n",
              "      <td>absent</td>\n",
              "    </tr>\n",
              "    <tr>\n",
              "      <th>8</th>\n",
              "      <td>113</td>\n",
              "      <td>2</td>\n",
              "      <td>16</td>\n",
              "      <td>absent</td>\n",
              "    </tr>\n",
              "    <tr>\n",
              "      <th>9</th>\n",
              "      <td>59</td>\n",
              "      <td>6</td>\n",
              "      <td>12</td>\n",
              "      <td>present</td>\n",
              "    </tr>\n",
              "  </tbody>\n",
              "</table>\n",
              "</div>\n",
              "    <div class=\"colab-df-buttons\">\n",
              "\n",
              "  <div class=\"colab-df-container\">\n",
              "    <button class=\"colab-df-convert\" onclick=\"convertToInteractive('df-c5a23167-027a-4ec7-a866-1c39233aebc3')\"\n",
              "            title=\"Convert this dataframe to an interactive table.\"\n",
              "            style=\"display:none;\">\n",
              "\n",
              "  <svg xmlns=\"http://www.w3.org/2000/svg\" height=\"24px\" viewBox=\"0 -960 960 960\">\n",
              "    <path d=\"M120-120v-720h720v720H120Zm60-500h600v-160H180v160Zm220 220h160v-160H400v160Zm0 220h160v-160H400v160ZM180-400h160v-160H180v160Zm440 0h160v-160H620v160ZM180-180h160v-160H180v160Zm440 0h160v-160H620v160Z\"/>\n",
              "  </svg>\n",
              "    </button>\n",
              "\n",
              "  <style>\n",
              "    .colab-df-container {\n",
              "      display:flex;\n",
              "      gap: 12px;\n",
              "    }\n",
              "\n",
              "    .colab-df-convert {\n",
              "      background-color: #E8F0FE;\n",
              "      border: none;\n",
              "      border-radius: 50%;\n",
              "      cursor: pointer;\n",
              "      display: none;\n",
              "      fill: #1967D2;\n",
              "      height: 32px;\n",
              "      padding: 0 0 0 0;\n",
              "      width: 32px;\n",
              "    }\n",
              "\n",
              "    .colab-df-convert:hover {\n",
              "      background-color: #E2EBFA;\n",
              "      box-shadow: 0px 1px 2px rgba(60, 64, 67, 0.3), 0px 1px 3px 1px rgba(60, 64, 67, 0.15);\n",
              "      fill: #174EA6;\n",
              "    }\n",
              "\n",
              "    .colab-df-buttons div {\n",
              "      margin-bottom: 4px;\n",
              "    }\n",
              "\n",
              "    [theme=dark] .colab-df-convert {\n",
              "      background-color: #3B4455;\n",
              "      fill: #D2E3FC;\n",
              "    }\n",
              "\n",
              "    [theme=dark] .colab-df-convert:hover {\n",
              "      background-color: #434B5C;\n",
              "      box-shadow: 0px 1px 3px 1px rgba(0, 0, 0, 0.15);\n",
              "      filter: drop-shadow(0px 1px 2px rgba(0, 0, 0, 0.3));\n",
              "      fill: #FFFFFF;\n",
              "    }\n",
              "  </style>\n",
              "\n",
              "    <script>\n",
              "      const buttonEl =\n",
              "        document.querySelector('#df-c5a23167-027a-4ec7-a866-1c39233aebc3 button.colab-df-convert');\n",
              "      buttonEl.style.display =\n",
              "        google.colab.kernel.accessAllowed ? 'block' : 'none';\n",
              "\n",
              "      async function convertToInteractive(key) {\n",
              "        const element = document.querySelector('#df-c5a23167-027a-4ec7-a866-1c39233aebc3');\n",
              "        const dataTable =\n",
              "          await google.colab.kernel.invokeFunction('convertToInteractive',\n",
              "                                                    [key], {});\n",
              "        if (!dataTable) return;\n",
              "\n",
              "        const docLinkHtml = 'Like what you see? Visit the ' +\n",
              "          '<a target=\"_blank\" href=https://colab.research.google.com/notebooks/data_table.ipynb>data table notebook</a>'\n",
              "          + ' to learn more about interactive tables.';\n",
              "        element.innerHTML = '';\n",
              "        dataTable['output_type'] = 'display_data';\n",
              "        await google.colab.output.renderOutput(dataTable, element);\n",
              "        const docLink = document.createElement('div');\n",
              "        docLink.innerHTML = docLinkHtml;\n",
              "        element.appendChild(docLink);\n",
              "      }\n",
              "    </script>\n",
              "  </div>\n",
              "\n",
              "\n",
              "<div id=\"df-a2974ba6-ee3e-450d-8241-9ca3737afdad\">\n",
              "  <button class=\"colab-df-quickchart\" onclick=\"quickchart('df-a2974ba6-ee3e-450d-8241-9ca3737afdad')\"\n",
              "            title=\"Suggest charts\"\n",
              "            style=\"display:none;\">\n",
              "\n",
              "<svg xmlns=\"http://www.w3.org/2000/svg\" height=\"24px\"viewBox=\"0 0 24 24\"\n",
              "     width=\"24px\">\n",
              "    <g>\n",
              "        <path d=\"M19 3H5c-1.1 0-2 .9-2 2v14c0 1.1.9 2 2 2h14c1.1 0 2-.9 2-2V5c0-1.1-.9-2-2-2zM9 17H7v-7h2v7zm4 0h-2V7h2v10zm4 0h-2v-4h2v4z\"/>\n",
              "    </g>\n",
              "</svg>\n",
              "  </button>\n",
              "\n",
              "<style>\n",
              "  .colab-df-quickchart {\n",
              "      --bg-color: #E8F0FE;\n",
              "      --fill-color: #1967D2;\n",
              "      --hover-bg-color: #E2EBFA;\n",
              "      --hover-fill-color: #174EA6;\n",
              "      --disabled-fill-color: #AAA;\n",
              "      --disabled-bg-color: #DDD;\n",
              "  }\n",
              "\n",
              "  [theme=dark] .colab-df-quickchart {\n",
              "      --bg-color: #3B4455;\n",
              "      --fill-color: #D2E3FC;\n",
              "      --hover-bg-color: #434B5C;\n",
              "      --hover-fill-color: #FFFFFF;\n",
              "      --disabled-bg-color: #3B4455;\n",
              "      --disabled-fill-color: #666;\n",
              "  }\n",
              "\n",
              "  .colab-df-quickchart {\n",
              "    background-color: var(--bg-color);\n",
              "    border: none;\n",
              "    border-radius: 50%;\n",
              "    cursor: pointer;\n",
              "    display: none;\n",
              "    fill: var(--fill-color);\n",
              "    height: 32px;\n",
              "    padding: 0;\n",
              "    width: 32px;\n",
              "  }\n",
              "\n",
              "  .colab-df-quickchart:hover {\n",
              "    background-color: var(--hover-bg-color);\n",
              "    box-shadow: 0 1px 2px rgba(60, 64, 67, 0.3), 0 1px 3px 1px rgba(60, 64, 67, 0.15);\n",
              "    fill: var(--button-hover-fill-color);\n",
              "  }\n",
              "\n",
              "  .colab-df-quickchart-complete:disabled,\n",
              "  .colab-df-quickchart-complete:disabled:hover {\n",
              "    background-color: var(--disabled-bg-color);\n",
              "    fill: var(--disabled-fill-color);\n",
              "    box-shadow: none;\n",
              "  }\n",
              "\n",
              "  .colab-df-spinner {\n",
              "    border: 2px solid var(--fill-color);\n",
              "    border-color: transparent;\n",
              "    border-bottom-color: var(--fill-color);\n",
              "    animation:\n",
              "      spin 1s steps(1) infinite;\n",
              "  }\n",
              "\n",
              "  @keyframes spin {\n",
              "    0% {\n",
              "      border-color: transparent;\n",
              "      border-bottom-color: var(--fill-color);\n",
              "      border-left-color: var(--fill-color);\n",
              "    }\n",
              "    20% {\n",
              "      border-color: transparent;\n",
              "      border-left-color: var(--fill-color);\n",
              "      border-top-color: var(--fill-color);\n",
              "    }\n",
              "    30% {\n",
              "      border-color: transparent;\n",
              "      border-left-color: var(--fill-color);\n",
              "      border-top-color: var(--fill-color);\n",
              "      border-right-color: var(--fill-color);\n",
              "    }\n",
              "    40% {\n",
              "      border-color: transparent;\n",
              "      border-right-color: var(--fill-color);\n",
              "      border-top-color: var(--fill-color);\n",
              "    }\n",
              "    60% {\n",
              "      border-color: transparent;\n",
              "      border-right-color: var(--fill-color);\n",
              "    }\n",
              "    80% {\n",
              "      border-color: transparent;\n",
              "      border-right-color: var(--fill-color);\n",
              "      border-bottom-color: var(--fill-color);\n",
              "    }\n",
              "    90% {\n",
              "      border-color: transparent;\n",
              "      border-bottom-color: var(--fill-color);\n",
              "    }\n",
              "  }\n",
              "</style>\n",
              "\n",
              "  <script>\n",
              "    async function quickchart(key) {\n",
              "      const quickchartButtonEl =\n",
              "        document.querySelector('#' + key + ' button');\n",
              "      quickchartButtonEl.disabled = true;  // To prevent multiple clicks.\n",
              "      quickchartButtonEl.classList.add('colab-df-spinner');\n",
              "      try {\n",
              "        const charts = await google.colab.kernel.invokeFunction(\n",
              "            'suggestCharts', [key], {});\n",
              "      } catch (error) {\n",
              "        console.error('Error during call to suggestCharts:', error);\n",
              "      }\n",
              "      quickchartButtonEl.classList.remove('colab-df-spinner');\n",
              "      quickchartButtonEl.classList.add('colab-df-quickchart-complete');\n",
              "    }\n",
              "    (() => {\n",
              "      let quickchartButtonEl =\n",
              "        document.querySelector('#df-a2974ba6-ee3e-450d-8241-9ca3737afdad button');\n",
              "      quickchartButtonEl.style.display =\n",
              "        google.colab.kernel.accessAllowed ? 'block' : 'none';\n",
              "    })();\n",
              "  </script>\n",
              "</div>\n",
              "\n",
              "    </div>\n",
              "  </div>\n"
            ]
          },
          "metadata": {},
          "execution_count": 22
        }
      ]
    },
    {
      "cell_type": "code",
      "source": [
        "df2.describe()"
      ],
      "metadata": {
        "colab": {
          "base_uri": "https://localhost:8080/",
          "height": 300
        },
        "id": "Wz-grBoIeuMB",
        "outputId": "20abbc55-063b-4079-8951-76aaa2c67ec3"
      },
      "execution_count": null,
      "outputs": [
        {
          "output_type": "execute_result",
          "data": {
            "text/plain": [
              "              Age      Number       Start\n",
              "count  128.000000  128.000000  128.000000\n",
              "mean    89.320312    4.273438    9.671875\n",
              "std     50.495331    1.472663    5.072870\n",
              "min      1.000000    2.000000    1.000000\n",
              "25%     53.500000    3.000000    5.000000\n",
              "50%     92.500000    4.000000   11.000000\n",
              "75%    129.000000    5.000000   14.000000\n",
              "max    206.000000   10.000000   18.000000"
            ],
            "text/html": [
              "\n",
              "  <div id=\"df-a3d13847-e9d9-4b74-9d73-1f15cfacf29f\" class=\"colab-df-container\">\n",
              "    <div>\n",
              "<style scoped>\n",
              "    .dataframe tbody tr th:only-of-type {\n",
              "        vertical-align: middle;\n",
              "    }\n",
              "\n",
              "    .dataframe tbody tr th {\n",
              "        vertical-align: top;\n",
              "    }\n",
              "\n",
              "    .dataframe thead th {\n",
              "        text-align: right;\n",
              "    }\n",
              "</style>\n",
              "<table border=\"1\" class=\"dataframe\">\n",
              "  <thead>\n",
              "    <tr style=\"text-align: right;\">\n",
              "      <th></th>\n",
              "      <th>Age</th>\n",
              "      <th>Number</th>\n",
              "      <th>Start</th>\n",
              "    </tr>\n",
              "  </thead>\n",
              "  <tbody>\n",
              "    <tr>\n",
              "      <th>count</th>\n",
              "      <td>128.000000</td>\n",
              "      <td>128.000000</td>\n",
              "      <td>128.000000</td>\n",
              "    </tr>\n",
              "    <tr>\n",
              "      <th>mean</th>\n",
              "      <td>89.320312</td>\n",
              "      <td>4.273438</td>\n",
              "      <td>9.671875</td>\n",
              "    </tr>\n",
              "    <tr>\n",
              "      <th>std</th>\n",
              "      <td>50.495331</td>\n",
              "      <td>1.472663</td>\n",
              "      <td>5.072870</td>\n",
              "    </tr>\n",
              "    <tr>\n",
              "      <th>min</th>\n",
              "      <td>1.000000</td>\n",
              "      <td>2.000000</td>\n",
              "      <td>1.000000</td>\n",
              "    </tr>\n",
              "    <tr>\n",
              "      <th>25%</th>\n",
              "      <td>53.500000</td>\n",
              "      <td>3.000000</td>\n",
              "      <td>5.000000</td>\n",
              "    </tr>\n",
              "    <tr>\n",
              "      <th>50%</th>\n",
              "      <td>92.500000</td>\n",
              "      <td>4.000000</td>\n",
              "      <td>11.000000</td>\n",
              "    </tr>\n",
              "    <tr>\n",
              "      <th>75%</th>\n",
              "      <td>129.000000</td>\n",
              "      <td>5.000000</td>\n",
              "      <td>14.000000</td>\n",
              "    </tr>\n",
              "    <tr>\n",
              "      <th>max</th>\n",
              "      <td>206.000000</td>\n",
              "      <td>10.000000</td>\n",
              "      <td>18.000000</td>\n",
              "    </tr>\n",
              "  </tbody>\n",
              "</table>\n",
              "</div>\n",
              "    <div class=\"colab-df-buttons\">\n",
              "\n",
              "  <div class=\"colab-df-container\">\n",
              "    <button class=\"colab-df-convert\" onclick=\"convertToInteractive('df-a3d13847-e9d9-4b74-9d73-1f15cfacf29f')\"\n",
              "            title=\"Convert this dataframe to an interactive table.\"\n",
              "            style=\"display:none;\">\n",
              "\n",
              "  <svg xmlns=\"http://www.w3.org/2000/svg\" height=\"24px\" viewBox=\"0 -960 960 960\">\n",
              "    <path d=\"M120-120v-720h720v720H120Zm60-500h600v-160H180v160Zm220 220h160v-160H400v160Zm0 220h160v-160H400v160ZM180-400h160v-160H180v160Zm440 0h160v-160H620v160ZM180-180h160v-160H180v160Zm440 0h160v-160H620v160Z\"/>\n",
              "  </svg>\n",
              "    </button>\n",
              "\n",
              "  <style>\n",
              "    .colab-df-container {\n",
              "      display:flex;\n",
              "      gap: 12px;\n",
              "    }\n",
              "\n",
              "    .colab-df-convert {\n",
              "      background-color: #E8F0FE;\n",
              "      border: none;\n",
              "      border-radius: 50%;\n",
              "      cursor: pointer;\n",
              "      display: none;\n",
              "      fill: #1967D2;\n",
              "      height: 32px;\n",
              "      padding: 0 0 0 0;\n",
              "      width: 32px;\n",
              "    }\n",
              "\n",
              "    .colab-df-convert:hover {\n",
              "      background-color: #E2EBFA;\n",
              "      box-shadow: 0px 1px 2px rgba(60, 64, 67, 0.3), 0px 1px 3px 1px rgba(60, 64, 67, 0.15);\n",
              "      fill: #174EA6;\n",
              "    }\n",
              "\n",
              "    .colab-df-buttons div {\n",
              "      margin-bottom: 4px;\n",
              "    }\n",
              "\n",
              "    [theme=dark] .colab-df-convert {\n",
              "      background-color: #3B4455;\n",
              "      fill: #D2E3FC;\n",
              "    }\n",
              "\n",
              "    [theme=dark] .colab-df-convert:hover {\n",
              "      background-color: #434B5C;\n",
              "      box-shadow: 0px 1px 3px 1px rgba(0, 0, 0, 0.15);\n",
              "      filter: drop-shadow(0px 1px 2px rgba(0, 0, 0, 0.3));\n",
              "      fill: #FFFFFF;\n",
              "    }\n",
              "  </style>\n",
              "\n",
              "    <script>\n",
              "      const buttonEl =\n",
              "        document.querySelector('#df-a3d13847-e9d9-4b74-9d73-1f15cfacf29f button.colab-df-convert');\n",
              "      buttonEl.style.display =\n",
              "        google.colab.kernel.accessAllowed ? 'block' : 'none';\n",
              "\n",
              "      async function convertToInteractive(key) {\n",
              "        const element = document.querySelector('#df-a3d13847-e9d9-4b74-9d73-1f15cfacf29f');\n",
              "        const dataTable =\n",
              "          await google.colab.kernel.invokeFunction('convertToInteractive',\n",
              "                                                    [key], {});\n",
              "        if (!dataTable) return;\n",
              "\n",
              "        const docLinkHtml = 'Like what you see? Visit the ' +\n",
              "          '<a target=\"_blank\" href=https://colab.research.google.com/notebooks/data_table.ipynb>data table notebook</a>'\n",
              "          + ' to learn more about interactive tables.';\n",
              "        element.innerHTML = '';\n",
              "        dataTable['output_type'] = 'display_data';\n",
              "        await google.colab.output.renderOutput(dataTable, element);\n",
              "        const docLink = document.createElement('div');\n",
              "        docLink.innerHTML = docLinkHtml;\n",
              "        element.appendChild(docLink);\n",
              "      }\n",
              "    </script>\n",
              "  </div>\n",
              "\n",
              "\n",
              "<div id=\"df-cfe9b666-3efb-45aa-9636-c1dfbdafff85\">\n",
              "  <button class=\"colab-df-quickchart\" onclick=\"quickchart('df-cfe9b666-3efb-45aa-9636-c1dfbdafff85')\"\n",
              "            title=\"Suggest charts\"\n",
              "            style=\"display:none;\">\n",
              "\n",
              "<svg xmlns=\"http://www.w3.org/2000/svg\" height=\"24px\"viewBox=\"0 0 24 24\"\n",
              "     width=\"24px\">\n",
              "    <g>\n",
              "        <path d=\"M19 3H5c-1.1 0-2 .9-2 2v14c0 1.1.9 2 2 2h14c1.1 0 2-.9 2-2V5c0-1.1-.9-2-2-2zM9 17H7v-7h2v7zm4 0h-2V7h2v10zm4 0h-2v-4h2v4z\"/>\n",
              "    </g>\n",
              "</svg>\n",
              "  </button>\n",
              "\n",
              "<style>\n",
              "  .colab-df-quickchart {\n",
              "      --bg-color: #E8F0FE;\n",
              "      --fill-color: #1967D2;\n",
              "      --hover-bg-color: #E2EBFA;\n",
              "      --hover-fill-color: #174EA6;\n",
              "      --disabled-fill-color: #AAA;\n",
              "      --disabled-bg-color: #DDD;\n",
              "  }\n",
              "\n",
              "  [theme=dark] .colab-df-quickchart {\n",
              "      --bg-color: #3B4455;\n",
              "      --fill-color: #D2E3FC;\n",
              "      --hover-bg-color: #434B5C;\n",
              "      --hover-fill-color: #FFFFFF;\n",
              "      --disabled-bg-color: #3B4455;\n",
              "      --disabled-fill-color: #666;\n",
              "  }\n",
              "\n",
              "  .colab-df-quickchart {\n",
              "    background-color: var(--bg-color);\n",
              "    border: none;\n",
              "    border-radius: 50%;\n",
              "    cursor: pointer;\n",
              "    display: none;\n",
              "    fill: var(--fill-color);\n",
              "    height: 32px;\n",
              "    padding: 0;\n",
              "    width: 32px;\n",
              "  }\n",
              "\n",
              "  .colab-df-quickchart:hover {\n",
              "    background-color: var(--hover-bg-color);\n",
              "    box-shadow: 0 1px 2px rgba(60, 64, 67, 0.3), 0 1px 3px 1px rgba(60, 64, 67, 0.15);\n",
              "    fill: var(--button-hover-fill-color);\n",
              "  }\n",
              "\n",
              "  .colab-df-quickchart-complete:disabled,\n",
              "  .colab-df-quickchart-complete:disabled:hover {\n",
              "    background-color: var(--disabled-bg-color);\n",
              "    fill: var(--disabled-fill-color);\n",
              "    box-shadow: none;\n",
              "  }\n",
              "\n",
              "  .colab-df-spinner {\n",
              "    border: 2px solid var(--fill-color);\n",
              "    border-color: transparent;\n",
              "    border-bottom-color: var(--fill-color);\n",
              "    animation:\n",
              "      spin 1s steps(1) infinite;\n",
              "  }\n",
              "\n",
              "  @keyframes spin {\n",
              "    0% {\n",
              "      border-color: transparent;\n",
              "      border-bottom-color: var(--fill-color);\n",
              "      border-left-color: var(--fill-color);\n",
              "    }\n",
              "    20% {\n",
              "      border-color: transparent;\n",
              "      border-left-color: var(--fill-color);\n",
              "      border-top-color: var(--fill-color);\n",
              "    }\n",
              "    30% {\n",
              "      border-color: transparent;\n",
              "      border-left-color: var(--fill-color);\n",
              "      border-top-color: var(--fill-color);\n",
              "      border-right-color: var(--fill-color);\n",
              "    }\n",
              "    40% {\n",
              "      border-color: transparent;\n",
              "      border-right-color: var(--fill-color);\n",
              "      border-top-color: var(--fill-color);\n",
              "    }\n",
              "    60% {\n",
              "      border-color: transparent;\n",
              "      border-right-color: var(--fill-color);\n",
              "    }\n",
              "    80% {\n",
              "      border-color: transparent;\n",
              "      border-right-color: var(--fill-color);\n",
              "      border-bottom-color: var(--fill-color);\n",
              "    }\n",
              "    90% {\n",
              "      border-color: transparent;\n",
              "      border-bottom-color: var(--fill-color);\n",
              "    }\n",
              "  }\n",
              "</style>\n",
              "\n",
              "  <script>\n",
              "    async function quickchart(key) {\n",
              "      const quickchartButtonEl =\n",
              "        document.querySelector('#' + key + ' button');\n",
              "      quickchartButtonEl.disabled = true;  // To prevent multiple clicks.\n",
              "      quickchartButtonEl.classList.add('colab-df-spinner');\n",
              "      try {\n",
              "        const charts = await google.colab.kernel.invokeFunction(\n",
              "            'suggestCharts', [key], {});\n",
              "      } catch (error) {\n",
              "        console.error('Error during call to suggestCharts:', error);\n",
              "      }\n",
              "      quickchartButtonEl.classList.remove('colab-df-spinner');\n",
              "      quickchartButtonEl.classList.add('colab-df-quickchart-complete');\n",
              "    }\n",
              "    (() => {\n",
              "      let quickchartButtonEl =\n",
              "        document.querySelector('#df-cfe9b666-3efb-45aa-9636-c1dfbdafff85 button');\n",
              "      quickchartButtonEl.style.display =\n",
              "        google.colab.kernel.accessAllowed ? 'block' : 'none';\n",
              "    })();\n",
              "  </script>\n",
              "</div>\n",
              "\n",
              "    </div>\n",
              "  </div>\n"
            ]
          },
          "metadata": {},
          "execution_count": 23
        }
      ]
    },
    {
      "cell_type": "code",
      "source": [
        "balance_visualize = df2.Kyphosis.value_counts()\n",
        "sns.barplot(x = balance_visualize.index,y=balance_visualize.values)"
      ],
      "metadata": {
        "colab": {
          "base_uri": "https://localhost:8080/",
          "height": 447
        },
        "id": "Wt4jnCxKe054",
        "outputId": "068444f1-1ff0-459b-9897-4ba028ef5a53"
      },
      "execution_count": null,
      "outputs": [
        {
          "output_type": "execute_result",
          "data": {
            "text/plain": [
              "<Axes: >"
            ]
          },
          "metadata": {},
          "execution_count": 24
        },
        {
          "output_type": "display_data",
          "data": {
            "text/plain": [
              "<Figure size 640x480 with 1 Axes>"
            ],
            "image/png": "[encoded data removed]"
          },
          "metadata": {}
        }
      ]
    },
    {
      "cell_type": "code",
      "source": [
        "x = df2.drop('Kyphosis',axis=1)\n",
        "y = df2['Kyphosis']"
      ],
      "metadata": {
        "id": "ulwNRn-New1X"
      },
      "execution_count": null,
      "outputs": []
    },
    {
      "cell_type": "code",
      "execution_count": null,
      "metadata": {
        "id": "TmM9GhQtUbs0"
      },
      "outputs": [],
      "source": [
        "x_np = x.to_numpy()\n",
        "y_np = y.to_numpy()"
      ]
    },
    {
      "cell_type": "code",
      "execution_count": null,
      "metadata": {
        "id": "UNcFRLN9UoHR"
      },
      "outputs": [],
      "source": [
        "y = y.apply(lambda x:1 if x=='Present' else 0)\n",
        "y_np = np.where(y_np =='present',1,0)"
      ]
    },
    {
      "cell_type": "code",
      "execution_count": null,
      "metadata": {
        "colab": {
          "base_uri": "https://localhost:8080/"
        },
        "id": "lpDnMAsTVGxL",
        "outputId": "a2d184b8-7bad-419f-8909-484cb8c23dac"
      },
      "outputs": [
        {
          "output_type": "execute_result",
          "data": {
            "text/plain": [
              "array([[ 71,   3,   5],\n",
              "       [158,   3,  14],\n",
              "       [128,   4,   5],\n",
              "       [  2,   5,   1],\n",
              "       [  1,   4,  15],\n",
              "       [  1,   2,  16],\n",
              "       [ 61,   2,  17],\n",
              "       [ 37,   3,  16],\n",
              "       [113,   2,  16],\n",
              "       [ 59,   6,  12],\n",
              "       [ 82,   5,  14],\n",
              "       [148,   3,  16],\n",
              "       [ 18,   5,   2],\n",
              "       [  1,   4,  12],\n",
              "       [168,   3,  18],\n",
              "       [  1,   3,  16],\n",
              "       [ 78,   6,  15],\n",
              "       [175,   5,  13],\n",
              "       [ 80,   5,  16],\n",
              "       [ 27,   4,   9],\n",
              "       [ 22,   2,  16],\n",
              "       [105,   6,   5],\n",
              "       [ 96,   3,  12],\n",
              "       [131,   2,   3],\n",
              "       [ 15,   7,   2],\n",
              "       [  9,   5,  13],\n",
              "       [  8,   3,   6],\n",
              "       [100,   3,  14],\n",
              "       [  4,   3,  16],\n",
              "       [151,   2,  16],\n",
              "       [ 31,   3,  16],\n",
              "       [125,   2,  11],\n",
              "       [130,   5,  13],\n",
              "       [112,   3,  16],\n",
              "       [140,   5,  11],\n",
              "       [ 93,   3,  16],\n",
              "       [  1,   3,   9],\n",
              "       [ 52,   5,   6],\n",
              "       [ 20,   6,   9],\n",
              "       [ 91,   5,  12],\n",
              "       [ 73,   5,   1],\n",
              "       [ 35,   3,  13],\n",
              "       [143,   9,   3],\n",
              "       [ 61,   4,   1],\n",
              "       [ 97,   3,  16],\n",
              "       [139,   3,  10],\n",
              "       [136,   4,  15],\n",
              "       [131,   5,  13],\n",
              "       [121,   3,   3],\n",
              "       [177,   2,  14],\n",
              "       [ 68,   5,  10],\n",
              "       [  9,   2,  17],\n",
              "       [139,  10,   6],\n",
              "       [  2,   2,  17],\n",
              "       [140,   4,  15],\n",
              "       [ 72,   5,  15],\n",
              "       [  2,   3,  13],\n",
              "       [120,   5,   8],\n",
              "       [ 51,   7,   9],\n",
              "       [102,   3,  13],\n",
              "       [130,   4,   1],\n",
              "       [114,   7,   8],\n",
              "       [ 81,   4,   1],\n",
              "       [118,   3,  16],\n",
              "       [118,   4,  16],\n",
              "       [ 17,   4,  10],\n",
              "       [195,   2,  17],\n",
              "       [159,   4,  13],\n",
              "       [ 18,   4,  11],\n",
              "       [ 15,   5,  16],\n",
              "       [158,   5,  14],\n",
              "       [127,   4,  12],\n",
              "       [ 87,   4,  16],\n",
              "       [206,   4,  10],\n",
              "       [ 11,   3,  15],\n",
              "       [178,   4,  15],\n",
              "       [157,   3,  13],\n",
              "       [ 26,   7,  13],\n",
              "       [120,   2,  13],\n",
              "       [ 42,   7,   6],\n",
              "       [ 36,   4,  13],\n",
              "       [107,   6,   5],\n",
              "       [154,   3,  12],\n",
              "       [129,   4,   1],\n",
              "       [142,   3,  10],\n",
              "       [ 80,   5,   5],\n",
              "       [114,   6,   7],\n",
              "       [ 60,   5,  12],\n",
              "       [132,   6,   5],\n",
              "       [129,   6,   4],\n",
              "       [115,   5,   7],\n",
              "       [ 65,   5,  10],\n",
              "       [ 88,   5,  10],\n",
              "       [ 92,   5,  11],\n",
              "       [ 55,   6,  11],\n",
              "       [ 75,   5,   2],\n",
              "       [ 73,   5,   1],\n",
              "       [ 91,   4,  12],\n",
              "       [ 64,   5,   9],\n",
              "       [ 60,   5,  11],\n",
              "       [ 29,   7,   4],\n",
              "       [ 84,   5,  13],\n",
              "       [ 58,   5,  11],\n",
              "       [117,   5,   5],\n",
              "       [ 79,   5,   4],\n",
              "       [129,   3,   5],\n",
              "       [ 34,   6,   1],\n",
              "       [131,   3,   9],\n",
              "       [139,   6,   7],\n",
              "       [114,   6,   7],\n",
              "       [108,   5,   5],\n",
              "       [129,   4,   1],\n",
              "       [ 52,   5,   5],\n",
              "       [138,   3,   4],\n",
              "       [ 88,   5,  11],\n",
              "       [121,   3,   2],\n",
              "       [136,   3,   7],\n",
              "       [129,   4,   2],\n",
              "       [ 69,   5,   3],\n",
              "       [ 89,   3,  12],\n",
              "       [117,   3,   3],\n",
              "       [128,   4,   5],\n",
              "       [ 90,   3,  12],\n",
              "       [126,   4,   5],\n",
              "       [109,   5,   4],\n",
              "       [106,   6,   5],\n",
              "       [129,   4,   2],\n",
              "       [ 54,   5,   8]])"
            ]
          },
          "metadata": {},
          "execution_count": 28
        }
      ],
      "source": [
        "x_np"
      ]
    },
    {
      "cell_type": "code",
      "execution_count": null,
      "metadata": {
        "colab": {
          "base_uri": "https://localhost:8080/"
        },
        "id": "U0vIaXbRVJBj",
        "outputId": "9956bfe3-05f3-4bf9-f875-f2c3812a6bf4"
      },
      "outputs": [
        {
          "output_type": "execute_result",
          "data": {
            "text/plain": [
              "array([0, 0, 1, 0, 0, 0, 0, 0, 0, 1, 1, 0, 0, 0, 0, 0, 0, 0, 0, 0, 0, 1,\n",
              "       1, 0, 1, 0, 0, 0, 0, 0, 0, 0, 0, 0, 0, 0, 0, 1, 0, 1, 1, 0, 0, 0,\n",
              "       0, 1, 0, 0, 1, 0, 0, 0, 1, 0, 0, 0, 0, 1, 0, 0, 1, 1, 0, 0, 0, 0,\n",
              "       0, 0, 0, 0, 0, 0, 0, 0, 0, 0, 1, 0, 0, 1, 0, 1, 1, 1, 1, 1, 1, 1,\n",
              "       1, 1, 1, 1, 1, 1, 1, 1, 1, 1, 1, 1, 1, 1, 1, 1, 1, 1, 1, 1, 1, 1,\n",
              "       1, 1, 1, 1, 1, 1, 1, 1, 1, 1, 1, 1, 1, 1, 1, 1, 1, 1])"
            ]
          },
          "metadata": {},
          "execution_count": 29
        }
      ],
      "source": [
        "y_np"
      ]
    },
    {
      "cell_type": "code",
      "execution_count": null,
      "metadata": {
        "id": "nHD4krPdKher"
      },
      "outputs": [],
      "source": [
        "x_train,x_test,y_train,y_test = train_test_split(x_np,y_np, test_size = 0.3,stratify = y)"
      ]
    },
    {
      "cell_type": "code",
      "execution_count": null,
      "metadata": {
        "colab": {
          "base_uri": "https://localhost:8080/"
        },
        "id": "A2-hbtDMLQI6",
        "outputId": "e210e451-d6ad-4efc-c295-518299089bb7"
      },
      "outputs": [
        {
          "output_type": "stream",
          "name": "stdout",
          "text": [
            "(89, 3)\n",
            "(39, 3)\n",
            "(89,)\n",
            "(39,)\n"
          ]
        }
      ],
      "source": [
        "print(x_train.shape)\n",
        "print(x_test.shape)\n",
        "print(y_train.shape)\n",
        "print(y_test.shape)\n"
      ]
    },
    {
      "cell_type": "code",
      "execution_count": null,
      "metadata": {
        "id": "kn73LSGNtwOg"
      },
      "outputs": [],
      "source": [
        "min_max_scaler = MinMaxScaler()\n",
        "standard_scaler = StandardScaler()"
      ]
    },
    {
      "cell_type": "code",
      "execution_count": null,
      "metadata": {
        "id": "EWON_h22uRjP"
      },
      "outputs": [],
      "source": [
        "x_train_mm = min_max_scaler.fit_transform(x_train)\n",
        "x_test_mm = min_max_scaler.fit_transform(x_test)"
      ]
    },
    {
      "cell_type": "code",
      "execution_count": null,
      "metadata": {
        "id": "OmCtrAcnwbbA"
      },
      "outputs": [],
      "source": [
        "x_train_std =standard_scaler.fit_transform(x_train)\n",
        "x_test_std =standard_scaler.fit_transform(x_test)"
      ]
    },
    {
      "cell_type": "markdown",
      "metadata": {
        "id": "rT882URusUqJ"
      },
      "source": [
        "**Logistic Regression**"
      ]
    },
    {
      "cell_type": "code",
      "execution_count": null,
      "metadata": {
        "colab": {
          "base_uri": "https://localhost:8080/",
          "height": 74
        },
        "id": "ZuV707gyLR5z",
        "outputId": "0808e0d9-a223-4c94-ee58-df64351ec3af"
      },
      "outputs": [
        {
          "output_type": "execute_result",
          "data": {
            "text/plain": [
              "LogisticRegression(multi_class='ovr')"
            ],
            "text/html": [
              "<style>#sk-container-id-2 {color: black;background-color: white;}#sk-container-id-2 pre{padding: 0;}#sk-container-id-2 div.sk-toggleable {background-color: white;}#sk-container-id-2 label.sk-toggleable__label {cursor: pointer;display: block;width: 100%;margin-bottom: 0;padding: 0.3em;box-sizing: border-box;text-align: center;}#sk-container-id-2 label.sk-toggleable__label-arrow:before {content: \"▸\";float: left;margin-right: 0.25em;color: #696969;}#sk-container-id-2 label.sk-toggleable__label-arrow:hover:before {color: black;}#sk-container-id-2 div.sk-estimator:hover label.sk-toggleable__label-arrow:before {color: black;}#sk-container-id-2 div.sk-toggleable__content {max-height: 0;max-width: 0;overflow: hidden;text-align: left;background-color: #f0f8ff;}#sk-container-id-2 div.sk-toggleable__content pre {margin: 0.2em;color: black;border-radius: 0.25em;background-color: #f0f8ff;}#sk-container-id-2 input.sk-toggleable__control:checked~div.sk-toggleable__content {max-height: 200px;max-width: 100%;overflow: auto;}#sk-container-id-2 input.sk-toggleable__control:checked~label.sk-toggleable__label-arrow:before {content: \"▾\";}#sk-container-id-2 div.sk-estimator input.sk-toggleable__control:checked~label.sk-toggleable__label {background-color: #d4ebff;}#sk-container-id-2 div.sk-label input.sk-toggleable__control:checked~label.sk-toggleable__label {background-color: #d4ebff;}#sk-container-id-2 input.sk-hidden--visually {border: 0;clip: rect(1px 1px 1px 1px);clip: rect(1px, 1px, 1px, 1px);height: 1px;margin: -1px;overflow: hidden;padding: 0;position: absolute;width: 1px;}#sk-container-id-2 div.sk-estimator {font-family: monospace;background-color: #f0f8ff;border: 1px dotted black;border-radius: 0.25em;box-sizing: border-box;margin-bottom: 0.5em;}#sk-container-id-2 div.sk-estimator:hover {background-color: #d4ebff;}#sk-container-id-2 div.sk-parallel-item::after {content: \"\";width: 100%;border-bottom: 1px solid gray;flex-grow: 1;}#sk-container-id-2 div.sk-label:hover label.sk-toggleable__label {background-color: #d4ebff;}#sk-container-id-2 div.sk-serial::before {content: \"\";position: absolute;border-left: 1px solid gray;box-sizing: border-box;top: 0;bottom: 0;left: 50%;z-index: 0;}#sk-container-id-2 div.sk-serial {display: flex;flex-direction: column;align-items: center;background-color: white;padding-right: 0.2em;padding-left: 0.2em;position: relative;}#sk-container-id-2 div.sk-item {position: relative;z-index: 1;}#sk-container-id-2 div.sk-parallel {display: flex;align-items: stretch;justify-content: center;background-color: white;position: relative;}#sk-container-id-2 div.sk-item::before, #sk-container-id-2 div.sk-parallel-item::before {content: \"\";position: absolute;border-left: 1px solid gray;box-sizing: border-box;top: 0;bottom: 0;left: 50%;z-index: -1;}#sk-container-id-2 div.sk-parallel-item {display: flex;flex-direction: column;z-index: 1;position: relative;background-color: white;}#sk-container-id-2 div.sk-parallel-item:first-child::after {align-self: flex-end;width: 50%;}#sk-container-id-2 div.sk-parallel-item:last-child::after {align-self: flex-start;width: 50%;}#sk-container-id-2 div.sk-parallel-item:only-child::after {width: 0;}#sk-container-id-2 div.sk-dashed-wrapped {border: 1px dashed gray;margin: 0 0.4em 0.5em 0.4em;box-sizing: border-box;padding-bottom: 0.4em;background-color: white;}#sk-container-id-2 div.sk-label label {font-family: monospace;font-weight: bold;display: inline-block;line-height: 1.2em;}#sk-container-id-2 div.sk-label-container {text-align: center;}#sk-container-id-2 div.sk-container {/* jupyter's `normalize.less` sets `[hidden] { display: none; }` but bootstrap.min.css set `[hidden] { display: none !important; }` so we also need the `!important` here to be able to override the default hidden behavior on the sphinx rendered scikit-learn.org. See: https://github.com/scikit-learn/scikit-learn/issues/21755 */display: inline-block !important;position: relative;}#sk-container-id-2 div.sk-text-repr-fallback {display: none;}</style><div id=\"sk-container-id-2\" class=\"sk-top-container\"><div class=\"sk-text-repr-fallback\"><pre>LogisticRegression(multi_class=&#x27;ovr&#x27;)</pre><b>In a Jupyter environment, please rerun this cell to show the HTML representation or trust the notebook. <br />On GitHub, the HTML representation is unable to render, please try loading this page with nbviewer.org.</b></div><div class=\"sk-container\" hidden><div class=\"sk-item\"><div class=\"sk-estimator sk-toggleable\"><input class=\"sk-toggleable__control sk-hidden--visually\" id=\"sk-estimator-id-2\" type=\"checkbox\" checked><label for=\"sk-estimator-id-2\" class=\"sk-toggleable__label sk-toggleable__label-arrow\">LogisticRegression</label><div class=\"sk-toggleable__content\"><pre>LogisticRegression(multi_class=&#x27;ovr&#x27;)</pre></div></div></div></div></div>"
            ]
          },
          "metadata": {},
          "execution_count": 38
        }
      ],
      "source": [
        "lr = LogisticRegression(multi_class='ovr')\n",
        "lr.fit(x_train_std,y_train)"
      ]
    },
    {
      "cell_type": "code",
      "execution_count": null,
      "metadata": {
        "colab": {
          "base_uri": "https://localhost:8080/"
        },
        "id": "I1R8sj_PWad-",
        "outputId": "053e3438-a7ee-4982-dba8-be1be817f1bd"
      },
      "outputs": [
        {
          "output_type": "execute_result",
          "data": {
            "text/plain": [
              "array([[ 0.50678154,  0.46260411, -1.10659393]])"
            ]
          },
          "metadata": {},
          "execution_count": 39
        }
      ],
      "source": [
        "lr.coef_"
      ]
    },
    {
      "cell_type": "code",
      "execution_count": null,
      "metadata": {
        "colab": {
          "base_uri": "https://localhost:8080/"
        },
        "id": "L5bcqVxsWdvH",
        "outputId": "a080d70c-a04f-4bb3-93fd-6af5b47be9ce"
      },
      "outputs": [
        {
          "output_type": "execute_result",
          "data": {
            "text/plain": [
              "array([-0.16694638])"
            ]
          },
          "metadata": {},
          "execution_count": 40
        }
      ],
      "source": [
        "lr.intercept_"
      ]
    },
    {
      "cell_type": "code",
      "execution_count": null,
      "metadata": {
        "id": "UxseKLcVWk9P"
      },
      "outputs": [],
      "source": [
        "train_preds = lr.predict_proba(x_train_std)\n",
        "test_preds = lr.predict_proba(x_test_std)"
      ]
    },
    {
      "cell_type": "code",
      "execution_count": null,
      "metadata": {
        "colab": {
          "base_uri": "https://localhost:8080/"
        },
        "id": "e4aRijckWrS0",
        "outputId": "4ad81470-a307-4d8b-a606-cea68f2b4d2a"
      },
      "outputs": [
        {
          "output_type": "execute_result",
          "data": {
            "text/plain": [
              "array([[0.27463772, 0.72536228],\n",
              "       [0.53987235, 0.46012765],\n",
              "       [0.58648571, 0.41351429],\n",
              "       [0.74239398, 0.25760602],\n",
              "       [0.52979212, 0.47020788],\n",
              "       [0.8650986 , 0.1349014 ],\n",
              "       [0.50168778, 0.49831222],\n",
              "       [0.77548814, 0.22451186],\n",
              "       [0.85991141, 0.14008859],\n",
              "       [0.33054431, 0.66945569],\n",
              "       [0.20463816, 0.79536184],\n",
              "       [0.82799397, 0.17200603],\n",
              "       [0.70362554, 0.29637446],\n",
              "       [0.26821228, 0.73178772],\n",
              "       [0.75537572, 0.24462428],\n",
              "       [0.48895451, 0.51104549],\n",
              "       [0.9442208 , 0.0557792 ],\n",
              "       [0.96793956, 0.03206044],\n",
              "       [0.78623603, 0.21376397],\n",
              "       [0.86508522, 0.13491478],\n",
              "       [0.37874401, 0.62125599],\n",
              "       [0.10886568, 0.89113432],\n",
              "       [0.69015959, 0.30984041],\n",
              "       [0.26675752, 0.73324248],\n",
              "       [0.65293509, 0.34706491],\n",
              "       [0.17678288, 0.82321712],\n",
              "       [0.16950729, 0.83049271],\n",
              "       [0.16089659, 0.83910341],\n",
              "       [0.23347919, 0.76652081],\n",
              "       [0.54156695, 0.45843305],\n",
              "       [0.3755651 , 0.6244349 ],\n",
              "       [0.82998137, 0.17001863],\n",
              "       [0.68420479, 0.31579521],\n",
              "       [0.21201264, 0.78798736],\n",
              "       [0.16430615, 0.83569385],\n",
              "       [0.92652218, 0.07347782],\n",
              "       [0.68054175, 0.31945825],\n",
              "       [0.24148823, 0.75851177],\n",
              "       [0.11365383, 0.88634617]])"
            ]
          },
          "metadata": {},
          "execution_count": 42
        }
      ],
      "source": [
        "test_preds"
      ]
    },
    {
      "cell_type": "code",
      "execution_count": null,
      "metadata": {
        "colab": {
          "base_uri": "https://localhost:8080/"
        },
        "id": "FHJW_ChNWtQw",
        "outputId": "0fc4983e-9a82-45f2-8f72-3085fa8e8ee2"
      },
      "outputs": [
        {
          "output_type": "execute_result",
          "data": {
            "text/plain": [
              "array([[0.55787613, 0.44212387],\n",
              "       [0.14183957, 0.85816043],\n",
              "       [0.94506423, 0.05493577],\n",
              "       [0.26838123, 0.73161877],\n",
              "       [0.03671029, 0.96328971],\n",
              "       [0.53990256, 0.46009744],\n",
              "       [0.78908463, 0.21091537],\n",
              "       [0.42792842, 0.57207158],\n",
              "       [0.15001783, 0.84998217],\n",
              "       [0.19041674, 0.80958326],\n",
              "       [0.74017038, 0.25982962],\n",
              "       [0.26552931, 0.73447069],\n",
              "       [0.78328445, 0.21671555],\n",
              "       [0.17564258, 0.82435742],\n",
              "       [0.8865378 , 0.1134622 ],\n",
              "       [0.53261598, 0.46738402],\n",
              "       [0.85332911, 0.14667089],\n",
              "       [0.22079834, 0.77920166],\n",
              "       [0.5761936 , 0.4238064 ],\n",
              "       [0.14055279, 0.85944721],\n",
              "       [0.2591022 , 0.7408978 ],\n",
              "       [0.48376675, 0.51623325],\n",
              "       [0.5607168 , 0.4392832 ],\n",
              "       [0.91031921, 0.08968079],\n",
              "       [0.60306496, 0.39693504],\n",
              "       [0.72310765, 0.27689235],\n",
              "       [0.95889907, 0.04110093],\n",
              "       [0.821996  , 0.178004  ],\n",
              "       [0.65763948, 0.34236052],\n",
              "       [0.24376294, 0.75623706],\n",
              "       [0.74730633, 0.25269367],\n",
              "       [0.23135775, 0.76864225],\n",
              "       [0.73608051, 0.26391949],\n",
              "       [0.22092085, 0.77907915],\n",
              "       [0.19423895, 0.80576105],\n",
              "       [0.61424618, 0.38575382],\n",
              "       [0.54620206, 0.45379794],\n",
              "       [0.70389355, 0.29610645],\n",
              "       [0.39601287, 0.60398713],\n",
              "       [0.83874111, 0.16125889],\n",
              "       [0.96423971, 0.03576029],\n",
              "       [0.89721661, 0.10278339],\n",
              "       [0.56379398, 0.43620602],\n",
              "       [0.17020499, 0.82979501],\n",
              "       [0.63364679, 0.36635321],\n",
              "       [0.81216863, 0.18783137],\n",
              "       [0.67119579, 0.32880421],\n",
              "       [0.63299569, 0.36700431],\n",
              "       [0.24018005, 0.75981995],\n",
              "       [0.23729305, 0.76270695],\n",
              "       [0.81592375, 0.18407625],\n",
              "       [0.32969251, 0.67030749],\n",
              "       [0.7280997 , 0.2719003 ],\n",
              "       [0.78898823, 0.21101177],\n",
              "       [0.46696149, 0.53303851],\n",
              "       [0.73086137, 0.26913863],\n",
              "       [0.13822549, 0.86177451],\n",
              "       [0.64308615, 0.35691385],\n",
              "       [0.80727384, 0.19272616],\n",
              "       [0.57181446, 0.42818554],\n",
              "       [0.11375062, 0.88624938],\n",
              "       [0.29800988, 0.70199012],\n",
              "       [0.22715919, 0.77284081],\n",
              "       [0.95000996, 0.04999004],\n",
              "       [0.56792069, 0.43207931],\n",
              "       [0.20604652, 0.79395348],\n",
              "       [0.44120627, 0.55879373],\n",
              "       [0.845595  , 0.154405  ],\n",
              "       [0.23531773, 0.76468227],\n",
              "       [0.17706124, 0.82293876],\n",
              "       [0.84020694, 0.15979306],\n",
              "       [0.94194846, 0.05805154],\n",
              "       [0.11375062, 0.88624938],\n",
              "       [0.77902092, 0.22097908],\n",
              "       [0.14055279, 0.85944721],\n",
              "       [0.63752176, 0.36247824],\n",
              "       [0.8036623 , 0.1963377 ],\n",
              "       [0.89080757, 0.10919243],\n",
              "       [0.68308216, 0.31691784],\n",
              "       [0.68349133, 0.31650867],\n",
              "       [0.92368328, 0.07631672],\n",
              "       [0.05394945, 0.94605055],\n",
              "       [0.19959371, 0.80040629],\n",
              "       [0.13822549, 0.86177451],\n",
              "       [0.23531773, 0.76468227],\n",
              "       [0.50380083, 0.49619917],\n",
              "       [0.92584408, 0.07415592],\n",
              "       [0.31021725, 0.68978275],\n",
              "       [0.61611075, 0.38388925]])"
            ]
          },
          "metadata": {},
          "execution_count": 43
        }
      ],
      "source": [
        "train_preds"
      ]
    },
    {
      "cell_type": "code",
      "execution_count": null,
      "metadata": {
        "id": "9ewwRWAuWxdN"
      },
      "outputs": [],
      "source": [
        "train_class_preds = lr.predict(x_train_std)\n",
        "test_class_pred = lr.predict(x_test_std)"
      ]
    },
    {
      "cell_type": "code",
      "execution_count": null,
      "metadata": {
        "id": "OebQQ_KhW6wA"
      },
      "outputs": [],
      "source": [
        "train_accuracy = accuracy_score(train_class_preds,y_train)\n",
        "test_accuracy = accuracy_score(test_class_pred,y_test)"
      ]
    },
    {
      "cell_type": "code",
      "execution_count": null,
      "metadata": {
        "colab": {
          "base_uri": "https://localhost:8080/"
        },
        "id": "zZDxSYp6W9FK",
        "outputId": "987e6db8-b4a7-40ee-df20-5fe4f9495cfc"
      },
      "outputs": [
        {
          "output_type": "execute_result",
          "data": {
            "text/plain": [
              "0.7191011235955056"
            ]
          },
          "metadata": {},
          "execution_count": 46
        }
      ],
      "source": [
        "train_accuracy"
      ]
    },
    {
      "cell_type": "code",
      "execution_count": null,
      "metadata": {
        "colab": {
          "base_uri": "https://localhost:8080/"
        },
        "id": "x8tgxPssW_JK",
        "outputId": "abf0b8f7-5324-4562-9631-0d9c8ae976a7"
      },
      "outputs": [
        {
          "output_type": "execute_result",
          "data": {
            "text/plain": [
              "0.8205128205128205"
            ]
          },
          "metadata": {},
          "execution_count": 47
        }
      ],
      "source": [
        "test_accuracy"
      ]
    },
    {
      "cell_type": "code",
      "execution_count": null,
      "metadata": {
        "colab": {
          "base_uri": "https://localhost:8080/",
          "height": 524
        },
        "id": "pUs4ZGiAXIj9",
        "outputId": "d6f87974-3dcc-4cf9-a216-42e393cc729f"
      },
      "outputs": [
        {
          "output_type": "stream",
          "name": "stdout",
          "text": [
            "[[37 10]\n",
            " [15 27]]\n"
          ]
        },
        {
          "output_type": "execute_result",
          "data": {
            "text/plain": [
              "[Text(0, 0.5, 'Present'), Text(0, 1.5, 'absent')]"
            ]
          },
          "metadata": {},
          "execution_count": 48
        },
        {
          "output_type": "display_data",
          "data": {
            "text/plain": [
              "<Figure size 640x480 with 2 Axes>"
            ],
            "image/png": "[encoded data removed]"
          },
          "metadata": {}
        }
      ],
      "source": [
        "labels = ['Present','absent']\n",
        "cm = confusion_matrix(y_train,train_class_preds)\n",
        "print(cm)\n",
        "\n",
        "\n",
        "ax = plt.subplot()\n",
        "sns.heatmap(cm,annot=True)\n",
        "ax.set_xlabel('Predicted labels')\n",
        "ax.set_ylabel('True labels')\n",
        "ax.set_title('confusion matrix')\n",
        "ax.xaxis.set_ticklabels(labels)\n",
        "ax.yaxis.set_ticklabels(labels)"
      ]
    },
    {
      "cell_type": "code",
      "execution_count": null,
      "metadata": {
        "colab": {
          "base_uri": "https://localhost:8080/",
          "height": 524
        },
        "id": "O1p67KLXXNTa",
        "outputId": "a87c8703-5c92-4d37-c1ac-ae2d607097e4"
      },
      "outputs": [
        {
          "output_type": "stream",
          "name": "stdout",
          "text": [
            "[[16  1]\n",
            " [ 6 16]]\n"
          ]
        },
        {
          "output_type": "execute_result",
          "data": {
            "text/plain": [
              "[Text(0, 0.5, 'Present'), Text(0, 1.5, 'absent')]"
            ]
          },
          "metadata": {},
          "execution_count": 49
        },
        {
          "output_type": "display_data",
          "data": {
            "text/plain": [
              "<Figure size 640x480 with 2 Axes>"
            ],
            "image/png": "[encoded data removed]"
          },
          "metadata": {}
        }
      ],
      "source": [
        "labels = ['Present','absent']\n",
        "cm = confusion_matrix(y_test,test_class_pred)\n",
        "print(cm)\n",
        "\n",
        "\n",
        "ax = plt.subplot()\n",
        "sns.heatmap(cm,annot=True)\n",
        "ax.set_xlabel('Predicted labels')\n",
        "ax.set_ylabel('True labels')\n",
        "ax.set_title('confusion matrix')\n",
        "ax.xaxis.set_ticklabels(labels)\n",
        "ax.yaxis.set_ticklabels(labels)"
      ]
    },
    {
      "cell_type": "markdown",
      "metadata": {
        "id": "go5LzCqmxY3D"
      },
      "source": [
        "**Naive Bayes Classifier**"
      ]
    },
    {
      "cell_type": "code",
      "execution_count": null,
      "metadata": {
        "id": "sVmvY8S1Z15u"
      },
      "outputs": [],
      "source": [
        "nb = GaussianNB().fit(x_train_mm,y_train)"
      ]
    },
    {
      "cell_type": "code",
      "execution_count": null,
      "metadata": {
        "id": "dklFK-ZmadLH"
      },
      "outputs": [],
      "source": [
        "train_pred = nb.predict(x_train_mm)\n",
        "test_pred = nb.predict(x_test_mm)"
      ]
    },
    {
      "cell_type": "code",
      "execution_count": null,
      "metadata": {
        "colab": {
          "base_uri": "https://localhost:8080/"
        },
        "id": "bKHLm7m5au2a",
        "outputId": "40b715ef-8a03-48f9-d2e0-6900deeea41b"
      },
      "outputs": [
        {
          "output_type": "execute_result",
          "data": {
            "text/plain": [
              "array([1, 1, 0, 1, 1, 0, 0, 1, 1, 1, 0, 1, 0, 1, 0, 0, 0, 1, 0, 1, 0, 1,\n",
              "       1, 0, 0, 0, 0, 0, 0, 1, 0, 1, 0, 1, 1, 1, 0, 0, 1, 0, 0, 0, 0, 1,\n",
              "       0, 0, 0, 0, 1, 1, 0, 1, 0, 0, 0, 0, 1, 0, 0, 0, 1, 1, 1, 0, 1, 1,\n",
              "       1, 0, 1, 1, 0, 0, 1, 0, 1, 0, 0, 0, 0, 0, 0, 1, 1, 1, 1, 1, 0, 0,\n",
              "       0])"
            ]
          },
          "metadata": {},
          "execution_count": 52
        }
      ],
      "source": [
        "train_pred"
      ]
    },
    {
      "cell_type": "code",
      "execution_count": null,
      "metadata": {
        "colab": {
          "base_uri": "https://localhost:8080/"
        },
        "id": "9BUuJjkjatbt",
        "outputId": "df66d530-b86b-42db-9c65-ecca8d297410"
      },
      "outputs": [
        {
          "output_type": "execute_result",
          "data": {
            "text/plain": [
              "array([1, 0, 0, 0, 1, 0, 1, 0, 0, 1, 1, 0, 0, 0, 0, 1, 0, 0, 0, 0, 1, 1,\n",
              "       0, 1, 1, 1, 1, 1, 1, 1, 1, 0, 0, 1, 1, 0, 0, 1, 1])"
            ]
          },
          "metadata": {},
          "execution_count": 53
        }
      ],
      "source": [
        "test_pred"
      ]
    },
    {
      "cell_type": "code",
      "execution_count": null,
      "metadata": {
        "colab": {
          "base_uri": "https://localhost:8080/"
        },
        "id": "14CATD6Ba5Bd",
        "outputId": "2ec6f2e5-3214-48e5-c57e-0858502a19b0"
      },
      "outputs": [
        {
          "output_type": "execute_result",
          "data": {
            "text/plain": [
              "0.8974358974358975"
            ]
          },
          "metadata": {},
          "execution_count": 55
        }
      ],
      "source": [
        "accuracy_score(nb.predict(x_test_mm), y_test)"
      ]
    },
    {
      "cell_type": "markdown",
      "metadata": {
        "id": "VCEwe3Dhx9uu"
      },
      "source": [
        "**SVM**"
      ]
    },
    {
      "cell_type": "code",
      "execution_count": null,
      "metadata": {
        "colab": {
          "base_uri": "https://localhost:8080/",
          "height": 74
        },
        "id": "VLBbNQkhbi2t",
        "outputId": "492a5aeb-8cd2-4b25-a635-9ab1d5dcee22"
      },
      "outputs": [
        {
          "output_type": "execute_result",
          "data": {
            "text/plain": [
              "SVC(gamma=0.2)"
            ],
            "text/html": [
              "<style>#sk-container-id-3 {color: black;background-color: white;}#sk-container-id-3 pre{padding: 0;}#sk-container-id-3 div.sk-toggleable {background-color: white;}#sk-container-id-3 label.sk-toggleable__label {cursor: pointer;display: block;width: 100%;margin-bottom: 0;padding: 0.3em;box-sizing: border-box;text-align: center;}#sk-container-id-3 label.sk-toggleable__label-arrow:before {content: \"▸\";float: left;margin-right: 0.25em;color: #696969;}#sk-container-id-3 label.sk-toggleable__label-arrow:hover:before {color: black;}#sk-container-id-3 div.sk-estimator:hover label.sk-toggleable__label-arrow:before {color: black;}#sk-container-id-3 div.sk-toggleable__content {max-height: 0;max-width: 0;overflow: hidden;text-align: left;background-color: #f0f8ff;}#sk-container-id-3 div.sk-toggleable__content pre {margin: 0.2em;color: black;border-radius: 0.25em;background-color: #f0f8ff;}#sk-container-id-3 input.sk-toggleable__control:checked~div.sk-toggleable__content {max-height: 200px;max-width: 100%;overflow: auto;}#sk-container-id-3 input.sk-toggleable__control:checked~label.sk-toggleable__label-arrow:before {content: \"▾\";}#sk-container-id-3 div.sk-estimator input.sk-toggleable__control:checked~label.sk-toggleable__label {background-color: #d4ebff;}#sk-container-id-3 div.sk-label input.sk-toggleable__control:checked~label.sk-toggleable__label {background-color: #d4ebff;}#sk-container-id-3 input.sk-hidden--visually {border: 0;clip: rect(1px 1px 1px 1px);clip: rect(1px, 1px, 1px, 1px);height: 1px;margin: -1px;overflow: hidden;padding: 0;position: absolute;width: 1px;}#sk-container-id-3 div.sk-estimator {font-family: monospace;background-color: #f0f8ff;border: 1px dotted black;border-radius: 0.25em;box-sizing: border-box;margin-bottom: 0.5em;}#sk-container-id-3 div.sk-estimator:hover {background-color: #d4ebff;}#sk-container-id-3 div.sk-parallel-item::after {content: \"\";width: 100%;border-bottom: 1px solid gray;flex-grow: 1;}#sk-container-id-3 div.sk-label:hover label.sk-toggleable__label {background-color: #d4ebff;}#sk-container-id-3 div.sk-serial::before {content: \"\";position: absolute;border-left: 1px solid gray;box-sizing: border-box;top: 0;bottom: 0;left: 50%;z-index: 0;}#sk-container-id-3 div.sk-serial {display: flex;flex-direction: column;align-items: center;background-color: white;padding-right: 0.2em;padding-left: 0.2em;position: relative;}#sk-container-id-3 div.sk-item {position: relative;z-index: 1;}#sk-container-id-3 div.sk-parallel {display: flex;align-items: stretch;justify-content: center;background-color: white;position: relative;}#sk-container-id-3 div.sk-item::before, #sk-container-id-3 div.sk-parallel-item::before {content: \"\";position: absolute;border-left: 1px solid gray;box-sizing: border-box;top: 0;bottom: 0;left: 50%;z-index: -1;}#sk-container-id-3 div.sk-parallel-item {display: flex;flex-direction: column;z-index: 1;position: relative;background-color: white;}#sk-container-id-3 div.sk-parallel-item:first-child::after {align-self: flex-end;width: 50%;}#sk-container-id-3 div.sk-parallel-item:last-child::after {align-self: flex-start;width: 50%;}#sk-container-id-3 div.sk-parallel-item:only-child::after {width: 0;}#sk-container-id-3 div.sk-dashed-wrapped {border: 1px dashed gray;margin: 0 0.4em 0.5em 0.4em;box-sizing: border-box;padding-bottom: 0.4em;background-color: white;}#sk-container-id-3 div.sk-label label {font-family: monospace;font-weight: bold;display: inline-block;line-height: 1.2em;}#sk-container-id-3 div.sk-label-container {text-align: center;}#sk-container-id-3 div.sk-container {/* jupyter's `normalize.less` sets `[hidden] { display: none; }` but bootstrap.min.css set `[hidden] { display: none !important; }` so we also need the `!important` here to be able to override the default hidden behavior on the sphinx rendered scikit-learn.org. See: https://github.com/scikit-learn/scikit-learn/issues/21755 */display: inline-block !important;position: relative;}#sk-container-id-3 div.sk-text-repr-fallback {display: none;}</style><div id=\"sk-container-id-3\" class=\"sk-top-container\"><div class=\"sk-text-repr-fallback\"><pre>SVC(gamma=0.2)</pre><b>In a Jupyter environment, please rerun this cell to show the HTML representation or trust the notebook. <br />On GitHub, the HTML representation is unable to render, please try loading this page with nbviewer.org.</b></div><div class=\"sk-container\" hidden><div class=\"sk-item\"><div class=\"sk-estimator sk-toggleable\"><input class=\"sk-toggleable__control sk-hidden--visually\" id=\"sk-estimator-id-3\" type=\"checkbox\" checked><label for=\"sk-estimator-id-3\" class=\"sk-toggleable__label sk-toggleable__label-arrow\">SVC</label><div class=\"sk-toggleable__content\"><pre>SVC(gamma=0.2)</pre></div></div></div></div></div>"
            ]
          },
          "metadata": {},
          "execution_count": 56
        }
      ],
      "source": [
        "from sklearn.svm import SVC\n",
        "svm= SVC(kernel='rbf',gamma=0.2, C=1.0)\n",
        "svm.fit(x_train_mm,y_train)"
      ]
    },
    {
      "cell_type": "code",
      "execution_count": null,
      "metadata": {
        "colab": {
          "base_uri": "https://localhost:8080/"
        },
        "id": "3lmfY-lAcpOg",
        "outputId": "c8fbb2e6-6e0b-4e15-88fa-45d9151cf135"
      },
      "outputs": [
        {
          "output_type": "execute_result",
          "data": {
            "text/plain": [
              "array([[0.69268293, 0.875     , 0.11764706],\n",
              "       [0.34634146, 0.375     , 0.82352941],\n",
              "       [0.34146341, 0.125     , 0.23529412],\n",
              "       [0.07804878, 0.25      , 0.52941176],\n",
              "       [0.63414634, 0.        , 0.11764706],\n",
              "       [0.        , 0.125     , 0.47058824],\n",
              "       [0.54146341, 0.125     , 0.88235294],\n",
              "       [0.62926829, 0.375     , 0.70588235],\n",
              "       [0.08292683, 0.375     , 0.05882353],\n",
              "       [0.32682927, 0.375     , 0.52941176],\n",
              "       [0.61463415, 0.25      , 0.64705882],\n",
              "       [0.67804878, 0.25      , 0.82352941],\n",
              "       [0.17073171, 0.25      , 0.70588235],\n",
              "       [0.09268293, 0.5       , 0.47058824],\n",
              "       [0.76585366, 0.125     , 0.76470588],\n",
              "       [0.24390244, 0.625     , 0.47058824],\n",
              "       [0.        , 0.25      , 0.64705882],\n",
              "       [0.00487805, 0.125     , 0.70588235],\n",
              "       [0.76585366, 0.375     , 0.76470588],\n",
              "       [0.3902439 , 0.25      , 0.        ],\n",
              "       [0.03414634, 0.125     , 0.29411765],\n",
              "       [0.38536585, 0.375     , 0.88235294],\n",
              "       [0.12195122, 0.625     , 0.70588235],\n",
              "       [0.03902439, 0.375     , 0.70588235],\n",
              "       [0.85853659, 0.        , 0.76470588],\n",
              "       [0.5804878 , 0.        , 0.70588235],\n",
              "       [0.84878049, 0.375     , 0.70588235],\n",
              "       [0.65853659, 0.25      , 0.82352941],\n",
              "       [0.86341463, 0.25      , 0.82352941],\n",
              "       [0.48292683, 0.125     , 0.76470588],\n",
              "       [0.67804878, 0.375     , 0.58823529],\n",
              "       [0.4195122 , 0.25      , 0.88235294],\n",
              "       [0.08292683, 0.25      , 0.58823529],\n",
              "       [0.71707317, 0.125     , 0.88235294],\n",
              "       [0.29268293, 0.25      , 0.        ],\n",
              "       [1.        , 0.25      , 0.52941176],\n",
              "       [0.44390244, 0.375     , 0.58823529],\n",
              "       [0.63902439, 0.5       , 0.23529412],\n",
              "       [0.2       , 0.625     , 0.29411765],\n",
              "       [0.67317073, 0.125     , 0.52941176],\n",
              "       [0.16097561, 0.5       , 0.        ],\n",
              "       [0.58536585, 0.125     , 0.05882353],\n",
              "       [0.51219512, 0.5       , 0.23529412],\n",
              "       [0.68780488, 0.125     , 0.52941176],\n",
              "       [0.52195122, 0.375     , 0.23529412],\n",
              "       [0.25853659, 0.375     , 0.41176471],\n",
              "       [0.76097561, 0.125     , 0.70588235],\n",
              "       [0.6097561 , 0.25      , 0.23529412],\n",
              "       [0.43414634, 0.125     , 0.64705882],\n",
              "       [0.3804878 , 0.375     , 0.17647059],\n",
              "       [0.46341463, 0.125     , 0.64705882],\n",
              "       [0.55121951, 0.625     , 0.41176471],\n",
              "       [0.67317073, 0.5       , 0.35294118],\n",
              "       [0.43902439, 0.375     , 0.64705882],\n",
              "       [0.28780488, 0.375     , 0.58823529],\n",
              "       [0.6195122 , 0.25      , 0.23529412],\n",
              "       [0.66829268, 0.125     , 0.17647059],\n",
              "       [0.5804878 , 0.375     , 0.41176471],\n",
              "       [0.26341463, 0.5       , 0.58823529],\n",
              "       [0.62439024, 0.125     , 0.23529412],\n",
              "       [0.58536585, 0.125     , 0.11764706],\n",
              "       [0.31219512, 0.375     , 0.52941176],\n",
              "       [0.56585366, 0.375     , 0.23529412],\n",
              "       [0.55121951, 0.5       , 0.35294118],\n",
              "       [0.50731707, 0.5       , 0.23529412],\n",
              "       [0.27804878, 0.375     , 0.58823529],\n",
              "       [0.28780488, 0.375     , 0.64705882],\n",
              "       [0.43902439, 0.25      , 0.64705882],\n",
              "       [0.55121951, 0.5       , 0.35294118],\n",
              "       [0.63414634, 0.125     , 0.47058824],\n",
              "       [0.28292683, 0.5       , 0.64705882]])"
            ]
          },
          "metadata": {},
          "execution_count": 57
        }
      ],
      "source": [
        "svm.support_vectors_"
      ]
    },
    {
      "cell_type": "code",
      "execution_count": null,
      "metadata": {
        "colab": {
          "base_uri": "https://localhost:8080/"
        },
        "id": "Bg2PIy6_c3h0",
        "outputId": "ebf21892-a9c9-47db-945b-e09d82fb7e10"
      },
      "outputs": [
        {
          "output_type": "execute_result",
          "data": {
            "text/plain": [
              "0.8461538461538461"
            ]
          },
          "metadata": {},
          "execution_count": 58
        }
      ],
      "source": [
        "accuracy_score(svm.predict(x_test_mm), y_test)"
      ]
    },
    {
      "cell_type": "markdown",
      "metadata": {
        "id": "SJcGwOoeyATZ"
      },
      "source": [
        "**Decision Tree Classifier**"
      ]
    },
    {
      "cell_type": "code",
      "execution_count": null,
      "metadata": {
        "colab": {
          "base_uri": "https://localhost:8080/",
          "height": 74
        },
        "id": "BF3BABUMden-",
        "outputId": "52fc4f77-47e4-4b66-aace-334d736904cd"
      },
      "outputs": [
        {
          "output_type": "execute_result",
          "data": {
            "text/plain": [
              "DecisionTreeClassifier(max_depth=4)"
            ],
            "text/html": [
              "<style>#sk-container-id-4 {color: black;background-color: white;}#sk-container-id-4 pre{padding: 0;}#sk-container-id-4 div.sk-toggleable {background-color: white;}#sk-container-id-4 label.sk-toggleable__label {cursor: pointer;display: block;width: 100%;margin-bottom: 0;padding: 0.3em;box-sizing: border-box;text-align: center;}#sk-container-id-4 label.sk-toggleable__label-arrow:before {content: \"▸\";float: left;margin-right: 0.25em;color: #696969;}#sk-container-id-4 label.sk-toggleable__label-arrow:hover:before {color: black;}#sk-container-id-4 div.sk-estimator:hover label.sk-toggleable__label-arrow:before {color: black;}#sk-container-id-4 div.sk-toggleable__content {max-height: 0;max-width: 0;overflow: hidden;text-align: left;background-color: #f0f8ff;}#sk-container-id-4 div.sk-toggleable__content pre {margin: 0.2em;color: black;border-radius: 0.25em;background-color: #f0f8ff;}#sk-container-id-4 input.sk-toggleable__control:checked~div.sk-toggleable__content {max-height: 200px;max-width: 100%;overflow: auto;}#sk-container-id-4 input.sk-toggleable__control:checked~label.sk-toggleable__label-arrow:before {content: \"▾\";}#sk-container-id-4 div.sk-estimator input.sk-toggleable__control:checked~label.sk-toggleable__label {background-color: #d4ebff;}#sk-container-id-4 div.sk-label input.sk-toggleable__control:checked~label.sk-toggleable__label {background-color: #d4ebff;}#sk-container-id-4 input.sk-hidden--visually {border: 0;clip: rect(1px 1px 1px 1px);clip: rect(1px, 1px, 1px, 1px);height: 1px;margin: -1px;overflow: hidden;padding: 0;position: absolute;width: 1px;}#sk-container-id-4 div.sk-estimator {font-family: monospace;background-color: #f0f8ff;border: 1px dotted black;border-radius: 0.25em;box-sizing: border-box;margin-bottom: 0.5em;}#sk-container-id-4 div.sk-estimator:hover {background-color: #d4ebff;}#sk-container-id-4 div.sk-parallel-item::after {content: \"\";width: 100%;border-bottom: 1px solid gray;flex-grow: 1;}#sk-container-id-4 div.sk-label:hover label.sk-toggleable__label {background-color: #d4ebff;}#sk-container-id-4 div.sk-serial::before {content: \"\";position: absolute;border-left: 1px solid gray;box-sizing: border-box;top: 0;bottom: 0;left: 50%;z-index: 0;}#sk-container-id-4 div.sk-serial {display: flex;flex-direction: column;align-items: center;background-color: white;padding-right: 0.2em;padding-left: 0.2em;position: relative;}#sk-container-id-4 div.sk-item {position: relative;z-index: 1;}#sk-container-id-4 div.sk-parallel {display: flex;align-items: stretch;justify-content: center;background-color: white;position: relative;}#sk-container-id-4 div.sk-item::before, #sk-container-id-4 div.sk-parallel-item::before {content: \"\";position: absolute;border-left: 1px solid gray;box-sizing: border-box;top: 0;bottom: 0;left: 50%;z-index: -1;}#sk-container-id-4 div.sk-parallel-item {display: flex;flex-direction: column;z-index: 1;position: relative;background-color: white;}#sk-container-id-4 div.sk-parallel-item:first-child::after {align-self: flex-end;width: 50%;}#sk-container-id-4 div.sk-parallel-item:last-child::after {align-self: flex-start;width: 50%;}#sk-container-id-4 div.sk-parallel-item:only-child::after {width: 0;}#sk-container-id-4 div.sk-dashed-wrapped {border: 1px dashed gray;margin: 0 0.4em 0.5em 0.4em;box-sizing: border-box;padding-bottom: 0.4em;background-color: white;}#sk-container-id-4 div.sk-label label {font-family: monospace;font-weight: bold;display: inline-block;line-height: 1.2em;}#sk-container-id-4 div.sk-label-container {text-align: center;}#sk-container-id-4 div.sk-container {/* jupyter's `normalize.less` sets `[hidden] { display: none; }` but bootstrap.min.css set `[hidden] { display: none !important; }` so we also need the `!important` here to be able to override the default hidden behavior on the sphinx rendered scikit-learn.org. See: https://github.com/scikit-learn/scikit-learn/issues/21755 */display: inline-block !important;position: relative;}#sk-container-id-4 div.sk-text-repr-fallback {display: none;}</style><div id=\"sk-container-id-4\" class=\"sk-top-container\"><div class=\"sk-text-repr-fallback\"><pre>DecisionTreeClassifier(max_depth=4)</pre><b>In a Jupyter environment, please rerun this cell to show the HTML representation or trust the notebook. <br />On GitHub, the HTML representation is unable to render, please try loading this page with nbviewer.org.</b></div><div class=\"sk-container\" hidden><div class=\"sk-item\"><div class=\"sk-estimator sk-toggleable\"><input class=\"sk-toggleable__control sk-hidden--visually\" id=\"sk-estimator-id-4\" type=\"checkbox\" checked><label for=\"sk-estimator-id-4\" class=\"sk-toggleable__label sk-toggleable__label-arrow\">DecisionTreeClassifier</label><div class=\"sk-toggleable__content\"><pre>DecisionTreeClassifier(max_depth=4)</pre></div></div></div></div></div>"
            ]
          },
          "metadata": {},
          "execution_count": 59
        }
      ],
      "source": [
        "dtc = DecisionTreeClassifier(criterion='gini',max_depth = 4)\n",
        "dtc.fit(x_train_mm,y_train)"
      ]
    },
    {
      "cell_type": "code",
      "execution_count": null,
      "metadata": {
        "colab": {
          "base_uri": "https://localhost:8080/",
          "height": 134
        },
        "id": "fT9fuqqHebb0",
        "outputId": "9e25a544-6bb6-45cc-d563-bcd3258d7e72"
      },
      "outputs": [
        {
          "output_type": "stream",
          "name": "stdout",
          "text": [
            "Fitting 3 folds for each of 882 candidates, totalling 2646 fits\n"
          ]
        },
        {
          "output_type": "execute_result",
          "data": {
            "text/plain": [
              "GridSearchCV(cv=3, estimator=DecisionTreeClassifier(random_state=0),\n",
              "             param_grid={'max_depth': [4, 5, 6],\n",
              "                         'max_leaf_nodes': [2, 3, 4, 5, 6, 7, 8, 9, 10, 11, 12,\n",
              "                                            13, 14, 15, 16, 17, 18, 19, 20, 21,\n",
              "                                            22, 23, 24, 25, 26, 27, 28, 29, 30,\n",
              "                                            31, ...],\n",
              "                         'min_samples_split': [2, 3, 4]},\n",
              "             verbose=1)"
            ],
            "text/html": [
              "<style>#sk-container-id-5 {color: black;background-color: white;}#sk-container-id-5 pre{padding: 0;}#sk-container-id-5 div.sk-toggleable {background-color: white;}#sk-container-id-5 label.sk-toggleable__label {cursor: pointer;display: block;width: 100%;margin-bottom: 0;padding: 0.3em;box-sizing: border-box;text-align: center;}#sk-container-id-5 label.sk-toggleable__label-arrow:before {content: \"▸\";float: left;margin-right: 0.25em;color: #696969;}#sk-container-id-5 label.sk-toggleable__label-arrow:hover:before {color: black;}#sk-container-id-5 div.sk-estimator:hover label.sk-toggleable__label-arrow:before {color: black;}#sk-container-id-5 div.sk-toggleable__content {max-height: 0;max-width: 0;overflow: hidden;text-align: left;background-color: #f0f8ff;}#sk-container-id-5 div.sk-toggleable__content pre {margin: 0.2em;color: black;border-radius: 0.25em;background-color: #f0f8ff;}#sk-container-id-5 input.sk-toggleable__control:checked~div.sk-toggleable__content {max-height: 200px;max-width: 100%;overflow: auto;}#sk-container-id-5 input.sk-toggleable__control:checked~label.sk-toggleable__label-arrow:before {content: \"▾\";}#sk-container-id-5 div.sk-estimator input.sk-toggleable__control:checked~label.sk-toggleable__label {background-color: #d4ebff;}#sk-container-id-5 div.sk-label input.sk-toggleable__control:checked~label.sk-toggleable__label {background-color: #d4ebff;}#sk-container-id-5 input.sk-hidden--visually {border: 0;clip: rect(1px 1px 1px 1px);clip: rect(1px, 1px, 1px, 1px);height: 1px;margin: -1px;overflow: hidden;padding: 0;position: absolute;width: 1px;}#sk-container-id-5 div.sk-estimator {font-family: monospace;background-color: #f0f8ff;border: 1px dotted black;border-radius: 0.25em;box-sizing: border-box;margin-bottom: 0.5em;}#sk-container-id-5 div.sk-estimator:hover {background-color: #d4ebff;}#sk-container-id-5 div.sk-parallel-item::after {content: \"\";width: 100%;border-bottom: 1px solid gray;flex-grow: 1;}#sk-container-id-5 div.sk-label:hover label.sk-toggleable__label {background-color: #d4ebff;}#sk-container-id-5 div.sk-serial::before {content: \"\";position: absolute;border-left: 1px solid gray;box-sizing: border-box;top: 0;bottom: 0;left: 50%;z-index: 0;}#sk-container-id-5 div.sk-serial {display: flex;flex-direction: column;align-items: center;background-color: white;padding-right: 0.2em;padding-left: 0.2em;position: relative;}#sk-container-id-5 div.sk-item {position: relative;z-index: 1;}#sk-container-id-5 div.sk-parallel {display: flex;align-items: stretch;justify-content: center;background-color: white;position: relative;}#sk-container-id-5 div.sk-item::before, #sk-container-id-5 div.sk-parallel-item::before {content: \"\";position: absolute;border-left: 1px solid gray;box-sizing: border-box;top: 0;bottom: 0;left: 50%;z-index: -1;}#sk-container-id-5 div.sk-parallel-item {display: flex;flex-direction: column;z-index: 1;position: relative;background-color: white;}#sk-container-id-5 div.sk-parallel-item:first-child::after {align-self: flex-end;width: 50%;}#sk-container-id-5 div.sk-parallel-item:last-child::after {align-self: flex-start;width: 50%;}#sk-container-id-5 div.sk-parallel-item:only-child::after {width: 0;}#sk-container-id-5 div.sk-dashed-wrapped {border: 1px dashed gray;margin: 0 0.4em 0.5em 0.4em;box-sizing: border-box;padding-bottom: 0.4em;background-color: white;}#sk-container-id-5 div.sk-label label {font-family: monospace;font-weight: bold;display: inline-block;line-height: 1.2em;}#sk-container-id-5 div.sk-label-container {text-align: center;}#sk-container-id-5 div.sk-container {/* jupyter's `normalize.less` sets `[hidden] { display: none; }` but bootstrap.min.css set `[hidden] { display: none !important; }` so we also need the `!important` here to be able to override the default hidden behavior on the sphinx rendered scikit-learn.org. See: https://github.com/scikit-learn/scikit-learn/issues/21755 */display: inline-block !important;position: relative;}#sk-container-id-5 div.sk-text-repr-fallback {display: none;}</style><div id=\"sk-container-id-5\" class=\"sk-top-container\"><div class=\"sk-text-repr-fallback\"><pre>GridSearchCV(cv=3, estimator=DecisionTreeClassifier(random_state=0),\n",
              "             param_grid={&#x27;max_depth&#x27;: [4, 5, 6],\n",
              "                         &#x27;max_leaf_nodes&#x27;: [2, 3, 4, 5, 6, 7, 8, 9, 10, 11, 12,\n",
              "                                            13, 14, 15, 16, 17, 18, 19, 20, 21,\n",
              "                                            22, 23, 24, 25, 26, 27, 28, 29, 30,\n",
              "                                            31, ...],\n",
              "                         &#x27;min_samples_split&#x27;: [2, 3, 4]},\n",
              "             verbose=1)</pre><b>In a Jupyter environment, please rerun this cell to show the HTML representation or trust the notebook. <br />On GitHub, the HTML representation is unable to render, please try loading this page with nbviewer.org.</b></div><div class=\"sk-container\" hidden><div class=\"sk-item sk-dashed-wrapped\"><div class=\"sk-label-container\"><div class=\"sk-label sk-toggleable\"><input class=\"sk-toggleable__control sk-hidden--visually\" id=\"sk-estimator-id-5\" type=\"checkbox\" ><label for=\"sk-estimator-id-5\" class=\"sk-toggleable__label sk-toggleable__label-arrow\">GridSearchCV</label><div class=\"sk-toggleable__content\"><pre>GridSearchCV(cv=3, estimator=DecisionTreeClassifier(random_state=0),\n",
              "             param_grid={&#x27;max_depth&#x27;: [4, 5, 6],\n",
              "                         &#x27;max_leaf_nodes&#x27;: [2, 3, 4, 5, 6, 7, 8, 9, 10, 11, 12,\n",
              "                                            13, 14, 15, 16, 17, 18, 19, 20, 21,\n",
              "                                            22, 23, 24, 25, 26, 27, 28, 29, 30,\n",
              "                                            31, ...],\n",
              "                         &#x27;min_samples_split&#x27;: [2, 3, 4]},\n",
              "             verbose=1)</pre></div></div></div><div class=\"sk-parallel\"><div class=\"sk-parallel-item\"><div class=\"sk-item\"><div class=\"sk-label-container\"><div class=\"sk-label sk-toggleable\"><input class=\"sk-toggleable__control sk-hidden--visually\" id=\"sk-estimator-id-6\" type=\"checkbox\" ><label for=\"sk-estimator-id-6\" class=\"sk-toggleable__label sk-toggleable__label-arrow\">estimator: DecisionTreeClassifier</label><div class=\"sk-toggleable__content\"><pre>DecisionTreeClassifier(random_state=0)</pre></div></div></div><div class=\"sk-serial\"><div class=\"sk-item\"><div class=\"sk-estimator sk-toggleable\"><input class=\"sk-toggleable__control sk-hidden--visually\" id=\"sk-estimator-id-7\" type=\"checkbox\" ><label for=\"sk-estimator-id-7\" class=\"sk-toggleable__label sk-toggleable__label-arrow\">DecisionTreeClassifier</label><div class=\"sk-toggleable__content\"><pre>DecisionTreeClassifier(random_state=0)</pre></div></div></div></div></div></div></div></div></div></div>"
            ]
          },
          "metadata": {},
          "execution_count": 60
        }
      ],
      "source": [
        "params = {'max_leaf_nodes':list(range(2,100)),'max_depth':[4,5,6],'min_samples_split':[2,3,4]}\n",
        "grid_cv = GridSearchCV(DecisionTreeClassifier(random_state = 0), params,verbose=1,cv=3)\n",
        "grid_cv.fit(x_train_mm, y_train)"
      ]
    },
    {
      "cell_type": "code",
      "execution_count": null,
      "metadata": {
        "colab": {
          "base_uri": "https://localhost:8080/"
        },
        "id": "o-3EVcGdmleM",
        "outputId": "90cfb87b-b069-4928-fc48-5f2df4920b3c"
      },
      "outputs": [
        {
          "output_type": "execute_result",
          "data": {
            "text/plain": [
              "{'max_depth': 6, 'max_leaf_nodes': 7, 'min_samples_split': 2}"
            ]
          },
          "metadata": {},
          "execution_count": 61
        }
      ],
      "source": [
        "grid_cv.best_params_"
      ]
    },
    {
      "cell_type": "code",
      "execution_count": null,
      "metadata": {
        "id": "gZt-mCGreI-X"
      },
      "outputs": [],
      "source": [
        "best_dtc = DecisionTreeClassifier(criterion='gini', max_leaf_nodes = 7, min_samples_split = 2,max_depth = 6, random_state = 0)\n",
        "best_dtc.fit(x_train_mm,y_train)\n",
        "y_predict = best_dtc.predict(x_test_mm)"
      ]
    },
    {
      "cell_type": "code",
      "execution_count": null,
      "metadata": {
        "colab": {
          "base_uri": "https://localhost:8080/"
        },
        "id": "E0IaUE6oeN2x",
        "outputId": "5fb6e1c9-1ac6-463d-c7ae-8452accf88aa"
      },
      "outputs": [
        {
          "output_type": "execute_result",
          "data": {
            "text/plain": [
              "array([1, 0, 0, 0, 0, 0, 1, 0, 0, 1, 1, 0, 0, 0, 0, 1, 0, 0, 0, 0, 1, 1,\n",
              "       0, 1, 0, 1, 1, 1, 1, 1, 0, 0, 0, 1, 0, 0, 1, 1, 1])"
            ]
          },
          "metadata": {},
          "execution_count": 63
        }
      ],
      "source": [
        "y_predict"
      ]
    },
    {
      "cell_type": "code",
      "execution_count": null,
      "metadata": {
        "colab": {
          "base_uri": "https://localhost:8080/"
        },
        "id": "uZpbYTYfnRAN",
        "outputId": "17fefce0-0831-4de7-f722-4bb1f4dae82a"
      },
      "outputs": [
        {
          "output_type": "execute_result",
          "data": {
            "text/plain": [
              "82.05128205128204"
            ]
          },
          "metadata": {},
          "execution_count": 64
        }
      ],
      "source": [
        "accuracy_score(y_test,y_predict)*100"
      ]
    },
    {
      "cell_type": "code",
      "execution_count": null,
      "metadata": {
        "colab": {
          "base_uri": "https://localhost:8080/",
          "height": 632
        },
        "id": "I1-g3z5LnayC",
        "outputId": "93a06c2b-7efe-4733-b521-c4e28eeea419"
      },
      "outputs": [
        {
          "output_type": "execute_result",
          "data": {
            "text/plain": [
              "[Text(0.6, 0.9285714285714286, 'x[2] <= 0.676\\ngini = 0.498\\nsamples = 89\\nvalue = [47, 42]'),\n",
              " Text(0.4, 0.7857142857142857, 'x[0] <= 0.127\\ngini = 0.414\\nsamples = 58\\nvalue = [17, 41]'),\n",
              " Text(0.2, 0.6428571428571429, 'gini = 0.0\\nsamples = 7\\nvalue = [7, 0]'),\n",
              " Text(0.6, 0.6428571428571429, 'x[0] <= 0.69\\ngini = 0.315\\nsamples = 51\\nvalue = [10, 41]'),\n",
              " Text(0.4, 0.5, 'x[1] <= 0.062\\ngini = 0.273\\nsamples = 49\\nvalue = [8, 41]'),\n",
              " Text(0.2, 0.35714285714285715, 'gini = 0.0\\nsamples = 1\\nvalue = [1, 0]'),\n",
              " Text(0.6, 0.35714285714285715, 'x[0] <= 0.412\\ngini = 0.249\\nsamples = 48\\nvalue = [7, 41]'),\n",
              " Text(0.4, 0.21428571428571427, 'x[1] <= 0.312\\ngini = 0.415\\nsamples = 17\\nvalue = [5, 12]'),\n",
              " Text(0.2, 0.07142857142857142, 'gini = 0.0\\nsamples = 3\\nvalue = [3, 0]'),\n",
              " Text(0.6, 0.07142857142857142, 'gini = 0.245\\nsamples = 14\\nvalue = [2, 12]'),\n",
              " Text(0.8, 0.21428571428571427, 'gini = 0.121\\nsamples = 31\\nvalue = [2, 29]'),\n",
              " Text(0.8, 0.5, 'gini = 0.0\\nsamples = 2\\nvalue = [2, 0]'),\n",
              " Text(0.8, 0.7857142857142857, 'gini = 0.062\\nsamples = 31\\nvalue = [30, 1]')]"
            ]
          },
          "metadata": {},
          "execution_count": 65
        },
        {
          "output_type": "display_data",
          "data": {
            "text/plain": [
              "<Figure size 640x480 with 1 Axes>"
            ],
            "image/png": "[encoded data removed]"
          },
          "metadata": {}
        }
      ],
      "source": [
        "tree.plot_tree(best_dtc)"
      ]
    },
    {
      "cell_type": "markdown",
      "metadata": {
        "id": "uyabg67myFz8"
      },
      "source": [
        "**Random Forest Model**"
      ]
    },
    {
      "cell_type": "code",
      "execution_count": null,
      "metadata": {
        "id": "Ztw8xXq0i6Dh"
      },
      "outputs": [],
      "source": [
        "n_estimators = [10,50,100,150,200]\n",
        "\n",
        "max_depth = list(range(2,12))\n",
        "\n",
        "\n",
        "\n",
        "param_dict = {'n_estimators':n_estimators,\n",
        "              'max_depth':max_depth\n",
        "              }"
      ]
    },
    {
      "cell_type": "code",
      "execution_count": null,
      "metadata": {
        "colab": {
          "base_uri": "https://localhost:8080/"
        },
        "id": "-GYEF8CojFep",
        "outputId": "183198cf-7336-4aa0-91b8-a9361c93d1fc"
      },
      "outputs": [
        {
          "output_type": "execute_result",
          "data": {
            "text/plain": [
              "{'n_estimators': [10, 50, 100, 150, 200],\n",
              " 'max_depth': [2, 3, 4, 5, 6, 7, 8, 9, 10, 11]}"
            ]
          },
          "metadata": {},
          "execution_count": 89
        }
      ],
      "source": [
        "param_dict"
      ]
    },
    {
      "cell_type": "code",
      "execution_count": null,
      "metadata": {
        "colab": {
          "base_uri": "https://localhost:8080/",
          "height": 1000
        },
        "id": "MhTg6761jHzy",
        "outputId": "9550731e-0f96-4f88-fa58-3998b34a8c42"
      },
      "outputs": [
        {
          "output_type": "stream",
          "name": "stdout",
          "text": [
            "Fitting 10 folds for each of 50 candidates, totalling 500 fits\n",
            "[CV] END .......................max_depth=2, n_estimators=10; total time=   0.0s\n",
            "[CV] END .......................max_depth=2, n_estimators=10; total time=   0.0s\n",
            "[CV] END .......................max_depth=2, n_estimators=10; total time=   0.0s\n",
            "[CV] END .......................max_depth=2, n_estimators=10; total time=   0.0s\n",
            "[CV] END .......................max_depth=2, n_estimators=10; total time=   0.0s\n",
            "[CV] END .......................max_depth=2, n_estimators=10; total time=   0.0s\n",
            "[CV] END .......................max_depth=2, n_estimators=10; total time=   0.0s\n",
            "[CV] END .......................max_depth=2, n_estimators=10; total time=   0.0s\n",
            "[CV] END .......................max_depth=2, n_estimators=10; total time=   0.0s\n",
            "[CV] END .......................max_depth=2, n_estimators=10; total time=   0.0s\n",
            "[CV] END .......................max_depth=2, n_estimators=50; total time=   0.1s\n",
            "[CV] END .......................max_depth=2, n_estimators=50; total time=   0.1s\n",
            "[CV] END .......................max_depth=2, n_estimators=50; total time=   0.1s\n",
            "[CV] END .......................max_depth=2, n_estimators=50; total time=   0.1s\n",
            "[CV] END .......................max_depth=2, n_estimators=50; total time=   0.1s\n",
            "[CV] END .......................max_depth=2, n_estimators=50; total time=   0.1s\n",
            "[CV] END .......................max_depth=2, n_estimators=50; total time=   0.1s\n",
            "[CV] END .......................max_depth=2, n_estimators=50; total time=   0.1s\n",
            "[CV] END .......................max_depth=2, n_estimators=50; total time=   0.1s\n",
            "[CV] END .......................max_depth=2, n_estimators=50; total time=   0.1s\n",
            "[CV] END ......................max_depth=2, n_estimators=100; total time=   0.1s\n",
            "[CV] END ......................max_depth=2, n_estimators=100; total time=   0.1s\n",
            "[CV] END ......................max_depth=2, n_estimators=100; total time=   0.1s\n",
            "[CV] END ......................max_depth=2, n_estimators=100; total time=   0.1s\n",
            "[CV] END ......................max_depth=2, n_estimators=100; total time=   0.1s\n",
            "[CV] END ......................max_depth=2, n_estimators=100; total time=   0.1s\n",
            "[CV] END ......................max_depth=2, n_estimators=100; total time=   0.1s\n",
            "[CV] END ......................max_depth=2, n_estimators=100; total time=   0.1s\n",
            "[CV] END ......................max_depth=2, n_estimators=100; total time=   0.1s\n",
            "[CV] END ......................max_depth=2, n_estimators=100; total time=   0.1s\n",
            "[CV] END ......................max_depth=2, n_estimators=150; total time=   0.2s\n",
            "[CV] END ......................max_depth=2, n_estimators=150; total time=   0.3s\n",
            "[CV] END ......................max_depth=2, n_estimators=150; total time=   0.4s\n",
            "[CV] END ......................max_depth=2, n_estimators=150; total time=   0.3s\n",
            "[CV] END ......................max_depth=2, n_estimators=150; total time=   0.3s\n",
            "[CV] END ......................max_depth=2, n_estimators=150; total time=   0.3s\n",
            "[CV] END ......................max_depth=2, n_estimators=150; total time=   0.4s\n",
            "[CV] END ......................max_depth=2, n_estimators=150; total time=   0.3s\n",
            "[CV] END ......................max_depth=2, n_estimators=150; total time=   0.3s\n",
            "[CV] END ......................max_depth=2, n_estimators=150; total time=   0.4s\n",
            "[CV] END ......................max_depth=2, n_estimators=200; total time=   0.4s\n",
            "[CV] END ......................max_depth=2, n_estimators=200; total time=   0.4s\n",
            "[CV] END ......................max_depth=2, n_estimators=200; total time=   0.4s\n",
            "[CV] END ......................max_depth=2, n_estimators=200; total time=   0.5s\n",
            "[CV] END ......................max_depth=2, n_estimators=200; total time=   0.5s\n",
            "[CV] END ......................max_depth=2, n_estimators=200; total time=   0.3s\n",
            "[CV] END ......................max_depth=2, n_estimators=200; total time=   0.3s\n",
            "[CV] END ......................max_depth=2, n_estimators=200; total time=   0.3s\n",
            "[CV] END ......................max_depth=2, n_estimators=200; total time=   0.3s\n",
            "[CV] END ......................max_depth=2, n_estimators=200; total time=   0.3s\n",
            "[CV] END .......................max_depth=3, n_estimators=10; total time=   0.0s\n",
            "[CV] END .......................max_depth=3, n_estimators=10; total time=   0.0s\n",
            "[CV] END .......................max_depth=3, n_estimators=10; total time=   0.0s\n",
            "[CV] END .......................max_depth=3, n_estimators=10; total time=   0.0s\n",
            "[CV] END .......................max_depth=3, n_estimators=10; total time=   0.0s\n",
            "[CV] END .......................max_depth=3, n_estimators=10; total time=   0.0s\n",
            "[CV] END .......................max_depth=3, n_estimators=10; total time=   0.0s\n",
            "[CV] END .......................max_depth=3, n_estimators=10; total time=   0.0s\n",
            "[CV] END .......................max_depth=3, n_estimators=10; total time=   0.0s\n",
            "[CV] END .......................max_depth=3, n_estimators=10; total time=   0.0s\n",
            "[CV] END .......................max_depth=3, n_estimators=50; total time=   0.1s\n",
            "[CV] END .......................max_depth=3, n_estimators=50; total time=   0.1s\n",
            "[CV] END .......................max_depth=3, n_estimators=50; total time=   0.1s\n",
            "[CV] END .......................max_depth=3, n_estimators=50; total time=   0.1s\n",
            "[CV] END .......................max_depth=3, n_estimators=50; total time=   0.1s\n",
            "[CV] END .......................max_depth=3, n_estimators=50; total time=   0.1s\n",
            "[CV] END .......................max_depth=3, n_estimators=50; total time=   0.1s\n",
            "[CV] END .......................max_depth=3, n_estimators=50; total time=   0.1s\n",
            "[CV] END .......................max_depth=3, n_estimators=50; total time=   0.1s\n",
            "[CV] END .......................max_depth=3, n_estimators=50; total time=   0.1s\n",
            "[CV] END ......................max_depth=3, n_estimators=100; total time=   0.1s\n",
            "[CV] END ......................max_depth=3, n_estimators=100; total time=   0.1s\n",
            "[CV] END ......................max_depth=3, n_estimators=100; total time=   0.1s\n",
            "[CV] END ......................max_depth=3, n_estimators=100; total time=   0.1s\n",
            "[CV] END ......................max_depth=3, n_estimators=100; total time=   0.1s\n",
            "[CV] END ......................max_depth=3, n_estimators=100; total time=   0.1s\n",
            "[CV] END ......................max_depth=3, n_estimators=100; total time=   0.1s\n",
            "[CV] END ......................max_depth=3, n_estimators=100; total time=   0.1s\n",
            "[CV] END ......................max_depth=3, n_estimators=100; total time=   0.1s\n",
            "[CV] END ......................max_depth=3, n_estimators=100; total time=   0.2s\n",
            "[CV] END ......................max_depth=3, n_estimators=150; total time=   0.2s\n",
            "[CV] END ......................max_depth=3, n_estimators=150; total time=   0.2s\n",
            "[CV] END ......................max_depth=3, n_estimators=150; total time=   0.2s\n",
            "[CV] END ......................max_depth=3, n_estimators=150; total time=   0.2s\n",
            "[CV] END ......................max_depth=3, n_estimators=150; total time=   0.2s\n",
            "[CV] END ......................max_depth=3, n_estimators=150; total time=   0.2s\n",
            "[CV] END ......................max_depth=3, n_estimators=150; total time=   0.2s\n",
            "[CV] END ......................max_depth=3, n_estimators=150; total time=   0.2s\n",
            "[CV] END ......................max_depth=3, n_estimators=150; total time=   0.2s\n",
            "[CV] END ......................max_depth=3, n_estimators=150; total time=   0.2s\n",
            "[CV] END ......................max_depth=3, n_estimators=200; total time=   0.3s\n",
            "[CV] END ......................max_depth=3, n_estimators=200; total time=   0.3s\n",
            "[CV] END ......................max_depth=3, n_estimators=200; total time=   0.3s\n",
            "[CV] END ......................max_depth=3, n_estimators=200; total time=   0.3s\n",
            "[CV] END ......................max_depth=3, n_estimators=200; total time=   0.3s\n",
            "[CV] END ......................max_depth=3, n_estimators=200; total time=   0.3s\n",
            "[CV] END ......................max_depth=3, n_estimators=200; total time=   0.3s\n",
            "[CV] END ......................max_depth=3, n_estimators=200; total time=   0.3s\n",
            "[CV] END ......................max_depth=3, n_estimators=200; total time=   0.3s\n",
            "[CV] END ......................max_depth=3, n_estimators=200; total time=   0.3s\n",
            "[CV] END .......................max_depth=4, n_estimators=10; total time=   0.0s\n",
            "[CV] END .......................max_depth=4, n_estimators=10; total time=   0.0s\n",
            "[CV] END .......................max_depth=4, n_estimators=10; total time=   0.0s\n",
            "[CV] END .......................max_depth=4, n_estimators=10; total time=   0.0s\n",
            "[CV] END .......................max_depth=4, n_estimators=10; total time=   0.0s\n",
            "[CV] END .......................max_depth=4, n_estimators=10; total time=   0.0s\n",
            "[CV] END .......................max_depth=4, n_estimators=10; total time=   0.0s\n",
            "[CV] END .......................max_depth=4, n_estimators=10; total time=   0.0s\n",
            "[CV] END .......................max_depth=4, n_estimators=10; total time=   0.0s\n",
            "[CV] END .......................max_depth=4, n_estimators=10; total time=   0.0s\n",
            "[CV] END .......................max_depth=4, n_estimators=50; total time=   0.1s\n",
            "[CV] END .......................max_depth=4, n_estimators=50; total time=   0.1s\n",
            "[CV] END .......................max_depth=4, n_estimators=50; total time=   0.1s\n",
            "[CV] END .......................max_depth=4, n_estimators=50; total time=   0.1s\n",
            "[CV] END .......................max_depth=4, n_estimators=50; total time=   0.1s\n",
            "[CV] END .......................max_depth=4, n_estimators=50; total time=   0.1s\n",
            "[CV] END .......................max_depth=4, n_estimators=50; total time=   0.1s\n",
            "[CV] END .......................max_depth=4, n_estimators=50; total time=   0.1s\n",
            "[CV] END .......................max_depth=4, n_estimators=50; total time=   0.1s\n",
            "[CV] END .......................max_depth=4, n_estimators=50; total time=   0.1s\n",
            "[CV] END ......................max_depth=4, n_estimators=100; total time=   0.1s\n",
            "[CV] END ......................max_depth=4, n_estimators=100; total time=   0.2s\n",
            "[CV] END ......................max_depth=4, n_estimators=100; total time=   0.2s\n",
            "[CV] END ......................max_depth=4, n_estimators=100; total time=   0.2s\n",
            "[CV] END ......................max_depth=4, n_estimators=100; total time=   0.2s\n",
            "[CV] END ......................max_depth=4, n_estimators=100; total time=   0.2s\n",
            "[CV] END ......................max_depth=4, n_estimators=100; total time=   0.2s\n",
            "[CV] END ......................max_depth=4, n_estimators=100; total time=   0.3s\n",
            "[CV] END ......................max_depth=4, n_estimators=100; total time=   0.2s\n",
            "[CV] END ......................max_depth=4, n_estimators=100; total time=   0.2s\n",
            "[CV] END ......................max_depth=4, n_estimators=150; total time=   0.3s\n",
            "[CV] END ......................max_depth=4, n_estimators=150; total time=   0.3s\n",
            "[CV] END ......................max_depth=4, n_estimators=150; total time=   0.3s\n",
            "[CV] END ......................max_depth=4, n_estimators=150; total time=   0.4s\n",
            "[CV] END ......................max_depth=4, n_estimators=150; total time=   0.3s\n",
            "[CV] END ......................max_depth=4, n_estimators=150; total time=   0.3s\n",
            "[CV] END ......................max_depth=4, n_estimators=150; total time=   0.3s\n",
            "[CV] END ......................max_depth=4, n_estimators=150; total time=   0.3s\n",
            "[CV] END ......................max_depth=4, n_estimators=150; total time=   0.3s\n",
            "[CV] END ......................max_depth=4, n_estimators=150; total time=   0.4s\n",
            "[CV] END ......................max_depth=4, n_estimators=200; total time=   0.4s\n",
            "[CV] END ......................max_depth=4, n_estimators=200; total time=   0.3s\n",
            "[CV] END ......................max_depth=4, n_estimators=200; total time=   0.3s\n",
            "[CV] END ......................max_depth=4, n_estimators=200; total time=   0.3s\n",
            "[CV] END ......................max_depth=4, n_estimators=200; total time=   0.3s\n",
            "[CV] END ......................max_depth=4, n_estimators=200; total time=   0.3s\n",
            "[CV] END ......................max_depth=4, n_estimators=200; total time=   0.3s\n",
            "[CV] END ......................max_depth=4, n_estimators=200; total time=   0.3s\n",
            "[CV] END ......................max_depth=4, n_estimators=200; total time=   0.3s\n",
            "[CV] END ......................max_depth=4, n_estimators=200; total time=   0.3s\n",
            "[CV] END .......................max_depth=5, n_estimators=10; total time=   0.0s\n",
            "[CV] END .......................max_depth=5, n_estimators=10; total time=   0.0s\n",
            "[CV] END .......................max_depth=5, n_estimators=10; total time=   0.0s\n",
            "[CV] END .......................max_depth=5, n_estimators=10; total time=   0.0s\n",
            "[CV] END .......................max_depth=5, n_estimators=10; total time=   0.0s\n",
            "[CV] END .......................max_depth=5, n_estimators=10; total time=   0.0s\n",
            "[CV] END .......................max_depth=5, n_estimators=10; total time=   0.0s\n",
            "[CV] END .......................max_depth=5, n_estimators=10; total time=   0.0s\n",
            "[CV] END .......................max_depth=5, n_estimators=10; total time=   0.0s\n",
            "[CV] END .......................max_depth=5, n_estimators=10; total time=   0.0s\n",
            "[CV] END .......................max_depth=5, n_estimators=50; total time=   0.1s\n",
            "[CV] END .......................max_depth=5, n_estimators=50; total time=   0.1s\n",
            "[CV] END .......................max_depth=5, n_estimators=50; total time=   0.1s\n",
            "[CV] END .......................max_depth=5, n_estimators=50; total time=   0.1s\n",
            "[CV] END .......................max_depth=5, n_estimators=50; total time=   0.1s\n",
            "[CV] END .......................max_depth=5, n_estimators=50; total time=   0.1s\n",
            "[CV] END .......................max_depth=5, n_estimators=50; total time=   0.1s\n",
            "[CV] END .......................max_depth=5, n_estimators=50; total time=   0.1s\n",
            "[CV] END .......................max_depth=5, n_estimators=50; total time=   0.1s\n",
            "[CV] END .......................max_depth=5, n_estimators=50; total time=   0.1s\n",
            "[CV] END ......................max_depth=5, n_estimators=100; total time=   0.2s\n",
            "[CV] END ......................max_depth=5, n_estimators=100; total time=   0.1s\n",
            "[CV] END ......................max_depth=5, n_estimators=100; total time=   0.2s\n",
            "[CV] END ......................max_depth=5, n_estimators=100; total time=   0.2s\n",
            "[CV] END ......................max_depth=5, n_estimators=100; total time=   0.2s\n",
            "[CV] END ......................max_depth=5, n_estimators=100; total time=   0.1s\n",
            "[CV] END ......................max_depth=5, n_estimators=100; total time=   0.2s\n",
            "[CV] END ......................max_depth=5, n_estimators=100; total time=   0.2s\n",
            "[CV] END ......................max_depth=5, n_estimators=100; total time=   0.2s\n",
            "[CV] END ......................max_depth=5, n_estimators=100; total time=   0.1s\n",
            "[CV] END ......................max_depth=5, n_estimators=150; total time=   0.2s\n",
            "[CV] END ......................max_depth=5, n_estimators=150; total time=   0.2s\n",
            "[CV] END ......................max_depth=5, n_estimators=150; total time=   0.2s\n",
            "[CV] END ......................max_depth=5, n_estimators=150; total time=   0.2s\n",
            "[CV] END ......................max_depth=5, n_estimators=150; total time=   0.2s\n",
            "[CV] END ......................max_depth=5, n_estimators=150; total time=   0.2s\n",
            "[CV] END ......................max_depth=5, n_estimators=150; total time=   0.2s\n",
            "[CV] END ......................max_depth=5, n_estimators=150; total time=   0.2s\n",
            "[CV] END ......................max_depth=5, n_estimators=150; total time=   0.2s\n",
            "[CV] END ......................max_depth=5, n_estimators=150; total time=   0.2s\n",
            "[CV] END ......................max_depth=5, n_estimators=200; total time=   0.3s\n",
            "[CV] END ......................max_depth=5, n_estimators=200; total time=   0.3s\n",
            "[CV] END ......................max_depth=5, n_estimators=200; total time=   0.3s\n",
            "[CV] END ......................max_depth=5, n_estimators=200; total time=   0.3s\n",
            "[CV] END ......................max_depth=5, n_estimators=200; total time=   0.3s\n",
            "[CV] END ......................max_depth=5, n_estimators=200; total time=   0.3s\n",
            "[CV] END ......................max_depth=5, n_estimators=200; total time=   0.3s\n",
            "[CV] END ......................max_depth=5, n_estimators=200; total time=   0.3s\n",
            "[CV] END ......................max_depth=5, n_estimators=200; total time=   0.5s\n",
            "[CV] END ......................max_depth=5, n_estimators=200; total time=   0.5s\n",
            "[CV] END .......................max_depth=6, n_estimators=10; total time=   0.0s\n",
            "[CV] END .......................max_depth=6, n_estimators=10; total time=   0.0s\n",
            "[CV] END .......................max_depth=6, n_estimators=10; total time=   0.0s\n",
            "[CV] END .......................max_depth=6, n_estimators=10; total time=   0.0s\n",
            "[CV] END .......................max_depth=6, n_estimators=10; total time=   0.0s\n",
            "[CV] END .......................max_depth=6, n_estimators=10; total time=   0.0s\n",
            "[CV] END .......................max_depth=6, n_estimators=10; total time=   0.0s\n",
            "[CV] END .......................max_depth=6, n_estimators=10; total time=   0.0s\n",
            "[CV] END .......................max_depth=6, n_estimators=10; total time=   0.0s\n",
            "[CV] END .......................max_depth=6, n_estimators=10; total time=   0.0s\n",
            "[CV] END .......................max_depth=6, n_estimators=50; total time=   0.1s\n",
            "[CV] END .......................max_depth=6, n_estimators=50; total time=   0.1s\n",
            "[CV] END .......................max_depth=6, n_estimators=50; total time=   0.1s\n",
            "[CV] END .......................max_depth=6, n_estimators=50; total time=   0.1s\n",
            "[CV] END .......................max_depth=6, n_estimators=50; total time=   0.1s\n",
            "[CV] END .......................max_depth=6, n_estimators=50; total time=   0.1s\n",
            "[CV] END .......................max_depth=6, n_estimators=50; total time=   0.2s\n",
            "[CV] END .......................max_depth=6, n_estimators=50; total time=   0.1s\n",
            "[CV] END .......................max_depth=6, n_estimators=50; total time=   0.1s\n",
            "[CV] END .......................max_depth=6, n_estimators=50; total time=   0.1s\n",
            "[CV] END ......................max_depth=6, n_estimators=100; total time=   0.2s\n",
            "[CV] END ......................max_depth=6, n_estimators=100; total time=   0.2s\n",
            "[CV] END ......................max_depth=6, n_estimators=100; total time=   0.3s\n",
            "[CV] END ......................max_depth=6, n_estimators=100; total time=   0.2s\n",
            "[CV] END ......................max_depth=6, n_estimators=100; total time=   0.2s\n",
            "[CV] END ......................max_depth=6, n_estimators=100; total time=   0.2s\n",
            "[CV] END ......................max_depth=6, n_estimators=100; total time=   0.2s\n",
            "[CV] END ......................max_depth=6, n_estimators=100; total time=   0.3s\n",
            "[CV] END ......................max_depth=6, n_estimators=100; total time=   0.2s\n",
            "[CV] END ......................max_depth=6, n_estimators=100; total time=   0.2s\n",
            "[CV] END ......................max_depth=6, n_estimators=150; total time=   0.3s\n",
            "[CV] END ......................max_depth=6, n_estimators=150; total time=   0.3s\n",
            "[CV] END ......................max_depth=6, n_estimators=150; total time=   0.2s\n",
            "[CV] END ......................max_depth=6, n_estimators=150; total time=   0.2s\n",
            "[CV] END ......................max_depth=6, n_estimators=150; total time=   0.2s\n",
            "[CV] END ......................max_depth=6, n_estimators=150; total time=   0.2s\n",
            "[CV] END ......................max_depth=6, n_estimators=150; total time=   0.2s\n",
            "[CV] END ......................max_depth=6, n_estimators=150; total time=   0.2s\n",
            "[CV] END ......................max_depth=6, n_estimators=150; total time=   0.2s\n",
            "[CV] END ......................max_depth=6, n_estimators=150; total time=   0.2s\n",
            "[CV] END ......................max_depth=6, n_estimators=200; total time=   0.3s\n",
            "[CV] END ......................max_depth=6, n_estimators=200; total time=   0.3s\n",
            "[CV] END ......................max_depth=6, n_estimators=200; total time=   0.3s\n",
            "[CV] END ......................max_depth=6, n_estimators=200; total time=   0.3s\n",
            "[CV] END ......................max_depth=6, n_estimators=200; total time=   0.3s\n",
            "[CV] END ......................max_depth=6, n_estimators=200; total time=   0.3s\n",
            "[CV] END ......................max_depth=6, n_estimators=200; total time=   0.3s\n",
            "[CV] END ......................max_depth=6, n_estimators=200; total time=   0.3s\n",
            "[CV] END ......................max_depth=6, n_estimators=200; total time=   0.3s\n",
            "[CV] END ......................max_depth=6, n_estimators=200; total time=   0.3s\n",
            "[CV] END .......................max_depth=7, n_estimators=10; total time=   0.0s\n",
            "[CV] END .......................max_depth=7, n_estimators=10; total time=   0.0s\n",
            "[CV] END .......................max_depth=7, n_estimators=10; total time=   0.0s\n",
            "[CV] END .......................max_depth=7, n_estimators=10; total time=   0.0s\n",
            "[CV] END .......................max_depth=7, n_estimators=10; total time=   0.0s\n",
            "[CV] END .......................max_depth=7, n_estimators=10; total time=   0.0s\n",
            "[CV] END .......................max_depth=7, n_estimators=10; total time=   0.0s\n",
            "[CV] END .......................max_depth=7, n_estimators=10; total time=   0.0s\n",
            "[CV] END .......................max_depth=7, n_estimators=10; total time=   0.0s\n",
            "[CV] END .......................max_depth=7, n_estimators=10; total time=   0.0s\n",
            "[CV] END .......................max_depth=7, n_estimators=50; total time=   0.1s\n",
            "[CV] END .......................max_depth=7, n_estimators=50; total time=   0.1s\n",
            "[CV] END .......................max_depth=7, n_estimators=50; total time=   0.1s\n",
            "[CV] END .......................max_depth=7, n_estimators=50; total time=   0.1s\n",
            "[CV] END .......................max_depth=7, n_estimators=50; total time=   0.1s\n",
            "[CV] END .......................max_depth=7, n_estimators=50; total time=   0.1s\n",
            "[CV] END .......................max_depth=7, n_estimators=50; total time=   0.1s\n",
            "[CV] END .......................max_depth=7, n_estimators=50; total time=   0.1s\n",
            "[CV] END .......................max_depth=7, n_estimators=50; total time=   0.1s\n",
            "[CV] END .......................max_depth=7, n_estimators=50; total time=   0.1s\n",
            "[CV] END ......................max_depth=7, n_estimators=100; total time=   0.1s\n",
            "[CV] END ......................max_depth=7, n_estimators=100; total time=   0.1s\n",
            "[CV] END ......................max_depth=7, n_estimators=100; total time=   0.1s\n",
            "[CV] END ......................max_depth=7, n_estimators=100; total time=   0.2s\n",
            "[CV] END ......................max_depth=7, n_estimators=100; total time=   0.1s\n",
            "[CV] END ......................max_depth=7, n_estimators=100; total time=   0.2s\n",
            "[CV] END ......................max_depth=7, n_estimators=100; total time=   0.1s\n",
            "[CV] END ......................max_depth=7, n_estimators=100; total time=   0.1s\n",
            "[CV] END ......................max_depth=7, n_estimators=100; total time=   0.1s\n",
            "[CV] END ......................max_depth=7, n_estimators=100; total time=   0.1s\n",
            "[CV] END ......................max_depth=7, n_estimators=150; total time=   0.2s\n",
            "[CV] END ......................max_depth=7, n_estimators=150; total time=   0.2s\n",
            "[CV] END ......................max_depth=7, n_estimators=150; total time=   0.2s\n",
            "[CV] END ......................max_depth=7, n_estimators=150; total time=   0.2s\n",
            "[CV] END ......................max_depth=7, n_estimators=150; total time=   0.2s\n",
            "[CV] END ......................max_depth=7, n_estimators=150; total time=   0.2s\n",
            "[CV] END ......................max_depth=7, n_estimators=150; total time=   0.2s\n",
            "[CV] END ......................max_depth=7, n_estimators=150; total time=   0.2s\n",
            "[CV] END ......................max_depth=7, n_estimators=150; total time=   0.2s\n",
            "[CV] END ......................max_depth=7, n_estimators=150; total time=   0.2s\n",
            "[CV] END ......................max_depth=7, n_estimators=200; total time=   0.3s\n",
            "[CV] END ......................max_depth=7, n_estimators=200; total time=   0.3s\n",
            "[CV] END ......................max_depth=7, n_estimators=200; total time=   0.4s\n",
            "[CV] END ......................max_depth=7, n_estimators=200; total time=   0.5s\n",
            "[CV] END ......................max_depth=7, n_estimators=200; total time=   0.4s\n",
            "[CV] END ......................max_depth=7, n_estimators=200; total time=   0.5s\n",
            "[CV] END ......................max_depth=7, n_estimators=200; total time=   0.4s\n",
            "[CV] END ......................max_depth=7, n_estimators=200; total time=   0.5s\n",
            "[CV] END ......................max_depth=7, n_estimators=200; total time=   0.4s\n",
            "[CV] END ......................max_depth=7, n_estimators=200; total time=   0.5s\n",
            "[CV] END .......................max_depth=8, n_estimators=10; total time=   0.0s\n",
            "[CV] END .......................max_depth=8, n_estimators=10; total time=   0.0s\n",
            "[CV] END .......................max_depth=8, n_estimators=10; total time=   0.0s\n",
            "[CV] END .......................max_depth=8, n_estimators=10; total time=   0.0s\n",
            "[CV] END .......................max_depth=8, n_estimators=10; total time=   0.0s\n",
            "[CV] END .......................max_depth=8, n_estimators=10; total time=   0.0s\n",
            "[CV] END .......................max_depth=8, n_estimators=10; total time=   0.0s\n",
            "[CV] END .......................max_depth=8, n_estimators=10; total time=   0.0s\n",
            "[CV] END .......................max_depth=8, n_estimators=10; total time=   0.0s\n",
            "[CV] END .......................max_depth=8, n_estimators=10; total time=   0.0s\n",
            "[CV] END .......................max_depth=8, n_estimators=50; total time=   0.1s\n",
            "[CV] END .......................max_depth=8, n_estimators=50; total time=   0.1s\n",
            "[CV] END .......................max_depth=8, n_estimators=50; total time=   0.1s\n",
            "[CV] END .......................max_depth=8, n_estimators=50; total time=   0.1s\n",
            "[CV] END .......................max_depth=8, n_estimators=50; total time=   0.1s\n",
            "[CV] END .......................max_depth=8, n_estimators=50; total time=   0.1s\n",
            "[CV] END .......................max_depth=8, n_estimators=50; total time=   0.1s\n",
            "[CV] END .......................max_depth=8, n_estimators=50; total time=   0.1s\n",
            "[CV] END .......................max_depth=8, n_estimators=50; total time=   0.1s\n",
            "[CV] END .......................max_depth=8, n_estimators=50; total time=   0.1s\n",
            "[CV] END ......................max_depth=8, n_estimators=100; total time=   0.2s\n",
            "[CV] END ......................max_depth=8, n_estimators=100; total time=   0.2s\n",
            "[CV] END ......................max_depth=8, n_estimators=100; total time=   0.2s\n",
            "[CV] END ......................max_depth=8, n_estimators=100; total time=   0.1s\n",
            "[CV] END ......................max_depth=8, n_estimators=100; total time=   0.1s\n",
            "[CV] END ......................max_depth=8, n_estimators=100; total time=   0.1s\n",
            "[CV] END ......................max_depth=8, n_estimators=100; total time=   0.1s\n",
            "[CV] END ......................max_depth=8, n_estimators=100; total time=   0.2s\n",
            "[CV] END ......................max_depth=8, n_estimators=100; total time=   0.1s\n",
            "[CV] END ......................max_depth=8, n_estimators=100; total time=   0.2s\n",
            "[CV] END ......................max_depth=8, n_estimators=150; total time=   0.2s\n",
            "[CV] END ......................max_depth=8, n_estimators=150; total time=   0.2s\n",
            "[CV] END ......................max_depth=8, n_estimators=150; total time=   0.2s\n",
            "[CV] END ......................max_depth=8, n_estimators=150; total time=   0.2s\n",
            "[CV] END ......................max_depth=8, n_estimators=150; total time=   0.2s\n",
            "[CV] END ......................max_depth=8, n_estimators=150; total time=   0.2s\n",
            "[CV] END ......................max_depth=8, n_estimators=150; total time=   0.2s\n",
            "[CV] END ......................max_depth=8, n_estimators=150; total time=   0.2s\n",
            "[CV] END ......................max_depth=8, n_estimators=150; total time=   0.2s\n",
            "[CV] END ......................max_depth=8, n_estimators=150; total time=   0.2s\n",
            "[CV] END ......................max_depth=8, n_estimators=200; total time=   0.3s\n",
            "[CV] END ......................max_depth=8, n_estimators=200; total time=   0.3s\n",
            "[CV] END ......................max_depth=8, n_estimators=200; total time=   0.3s\n",
            "[CV] END ......................max_depth=8, n_estimators=200; total time=   0.3s\n",
            "[CV] END ......................max_depth=8, n_estimators=200; total time=   0.3s\n",
            "[CV] END ......................max_depth=8, n_estimators=200; total time=   0.3s\n",
            "[CV] END ......................max_depth=8, n_estimators=200; total time=   0.3s\n",
            "[CV] END ......................max_depth=8, n_estimators=200; total time=   0.3s\n",
            "[CV] END ......................max_depth=8, n_estimators=200; total time=   0.3s\n",
            "[CV] END ......................max_depth=8, n_estimators=200; total time=   0.3s\n",
            "[CV] END .......................max_depth=9, n_estimators=10; total time=   0.0s\n",
            "[CV] END .......................max_depth=9, n_estimators=10; total time=   0.0s\n",
            "[CV] END .......................max_depth=9, n_estimators=10; total time=   0.0s\n",
            "[CV] END .......................max_depth=9, n_estimators=10; total time=   0.0s\n",
            "[CV] END .......................max_depth=9, n_estimators=10; total time=   0.0s\n",
            "[CV] END .......................max_depth=9, n_estimators=10; total time=   0.0s\n",
            "[CV] END .......................max_depth=9, n_estimators=10; total time=   0.0s\n",
            "[CV] END .......................max_depth=9, n_estimators=10; total time=   0.0s\n",
            "[CV] END .......................max_depth=9, n_estimators=10; total time=   0.0s\n",
            "[CV] END .......................max_depth=9, n_estimators=10; total time=   0.0s\n",
            "[CV] END .......................max_depth=9, n_estimators=50; total time=   0.1s\n",
            "[CV] END .......................max_depth=9, n_estimators=50; total time=   0.1s\n",
            "[CV] END .......................max_depth=9, n_estimators=50; total time=   0.1s\n",
            "[CV] END .......................max_depth=9, n_estimators=50; total time=   0.1s\n",
            "[CV] END .......................max_depth=9, n_estimators=50; total time=   0.1s\n",
            "[CV] END .......................max_depth=9, n_estimators=50; total time=   0.1s\n",
            "[CV] END .......................max_depth=9, n_estimators=50; total time=   0.1s\n",
            "[CV] END .......................max_depth=9, n_estimators=50; total time=   0.1s\n",
            "[CV] END .......................max_depth=9, n_estimators=50; total time=   0.1s\n",
            "[CV] END .......................max_depth=9, n_estimators=50; total time=   0.1s\n",
            "[CV] END ......................max_depth=9, n_estimators=100; total time=   0.1s\n",
            "[CV] END ......................max_depth=9, n_estimators=100; total time=   0.1s\n",
            "[CV] END ......................max_depth=9, n_estimators=100; total time=   0.2s\n",
            "[CV] END ......................max_depth=9, n_estimators=100; total time=   0.2s\n",
            "[CV] END ......................max_depth=9, n_estimators=100; total time=   0.1s\n",
            "[CV] END ......................max_depth=9, n_estimators=100; total time=   0.2s\n",
            "[CV] END ......................max_depth=9, n_estimators=100; total time=   0.1s\n",
            "[CV] END ......................max_depth=9, n_estimators=100; total time=   0.1s\n",
            "[CV] END ......................max_depth=9, n_estimators=100; total time=   0.1s\n",
            "[CV] END ......................max_depth=9, n_estimators=100; total time=   0.1s\n",
            "[CV] END ......................max_depth=9, n_estimators=150; total time=   0.2s\n",
            "[CV] END ......................max_depth=9, n_estimators=150; total time=   0.2s\n",
            "[CV] END ......................max_depth=9, n_estimators=150; total time=   0.2s\n",
            "[CV] END ......................max_depth=9, n_estimators=150; total time=   0.2s\n",
            "[CV] END ......................max_depth=9, n_estimators=150; total time=   0.3s\n",
            "[CV] END ......................max_depth=9, n_estimators=150; total time=   0.4s\n",
            "[CV] END ......................max_depth=9, n_estimators=150; total time=   0.3s\n",
            "[CV] END ......................max_depth=9, n_estimators=150; total time=   0.3s\n",
            "[CV] END ......................max_depth=9, n_estimators=150; total time=   0.3s\n",
            "[CV] END ......................max_depth=9, n_estimators=150; total time=   0.3s\n",
            "[CV] END ......................max_depth=9, n_estimators=200; total time=   0.4s\n",
            "[CV] END ......................max_depth=9, n_estimators=200; total time=   0.4s\n",
            "[CV] END ......................max_depth=9, n_estimators=200; total time=   0.5s\n",
            "[CV] END ......................max_depth=9, n_estimators=200; total time=   0.4s\n",
            "[CV] END ......................max_depth=9, n_estimators=200; total time=   0.5s\n",
            "[CV] END ......................max_depth=9, n_estimators=200; total time=   0.5s\n",
            "[CV] END ......................max_depth=9, n_estimators=200; total time=   0.5s\n",
            "[CV] END ......................max_depth=9, n_estimators=200; total time=   0.4s\n",
            "[CV] END ......................max_depth=9, n_estimators=200; total time=   0.3s\n",
            "[CV] END ......................max_depth=9, n_estimators=200; total time=   0.3s\n",
            "[CV] END ......................max_depth=10, n_estimators=10; total time=   0.0s\n",
            "[CV] END ......................max_depth=10, n_estimators=10; total time=   0.0s\n",
            "[CV] END ......................max_depth=10, n_estimators=10; total time=   0.0s\n",
            "[CV] END ......................max_depth=10, n_estimators=10; total time=   0.0s\n",
            "[CV] END ......................max_depth=10, n_estimators=10; total time=   0.0s\n",
            "[CV] END ......................max_depth=10, n_estimators=10; total time=   0.0s\n",
            "[CV] END ......................max_depth=10, n_estimators=10; total time=   0.0s\n",
            "[CV] END ......................max_depth=10, n_estimators=10; total time=   0.0s\n",
            "[CV] END ......................max_depth=10, n_estimators=10; total time=   0.0s\n",
            "[CV] END ......................max_depth=10, n_estimators=10; total time=   0.0s\n",
            "[CV] END ......................max_depth=10, n_estimators=50; total time=   0.1s\n",
            "[CV] END ......................max_depth=10, n_estimators=50; total time=   0.1s\n",
            "[CV] END ......................max_depth=10, n_estimators=50; total time=   0.1s\n",
            "[CV] END ......................max_depth=10, n_estimators=50; total time=   0.1s\n",
            "[CV] END ......................max_depth=10, n_estimators=50; total time=   0.1s\n",
            "[CV] END ......................max_depth=10, n_estimators=50; total time=   0.1s\n",
            "[CV] END ......................max_depth=10, n_estimators=50; total time=   0.1s\n",
            "[CV] END ......................max_depth=10, n_estimators=50; total time=   0.1s\n",
            "[CV] END ......................max_depth=10, n_estimators=50; total time=   0.1s\n",
            "[CV] END ......................max_depth=10, n_estimators=50; total time=   0.1s\n",
            "[CV] END .....................max_depth=10, n_estimators=100; total time=   0.1s\n",
            "[CV] END .....................max_depth=10, n_estimators=100; total time=   0.1s\n",
            "[CV] END .....................max_depth=10, n_estimators=100; total time=   0.1s\n",
            "[CV] END .....................max_depth=10, n_estimators=100; total time=   0.1s\n",
            "[CV] END .....................max_depth=10, n_estimators=100; total time=   0.1s\n",
            "[CV] END .....................max_depth=10, n_estimators=100; total time=   0.2s\n",
            "[CV] END .....................max_depth=10, n_estimators=100; total time=   0.1s\n",
            "[CV] END .....................max_depth=10, n_estimators=100; total time=   0.1s\n",
            "[CV] END .....................max_depth=10, n_estimators=100; total time=   0.1s\n",
            "[CV] END .....................max_depth=10, n_estimators=100; total time=   0.1s\n",
            "[CV] END .....................max_depth=10, n_estimators=150; total time=   0.2s\n",
            "[CV] END .....................max_depth=10, n_estimators=150; total time=   0.2s\n",
            "[CV] END .....................max_depth=10, n_estimators=150; total time=   0.2s\n",
            "[CV] END .....................max_depth=10, n_estimators=150; total time=   0.2s\n",
            "[CV] END .....................max_depth=10, n_estimators=150; total time=   0.2s\n",
            "[CV] END .....................max_depth=10, n_estimators=150; total time=   0.2s\n",
            "[CV] END .....................max_depth=10, n_estimators=150; total time=   0.2s\n",
            "[CV] END .....................max_depth=10, n_estimators=150; total time=   0.2s\n",
            "[CV] END .....................max_depth=10, n_estimators=150; total time=   0.2s\n",
            "[CV] END .....................max_depth=10, n_estimators=150; total time=   0.2s\n",
            "[CV] END .....................max_depth=10, n_estimators=200; total time=   0.3s\n",
            "[CV] END .....................max_depth=10, n_estimators=200; total time=   0.3s\n",
            "[CV] END .....................max_depth=10, n_estimators=200; total time=   0.3s\n",
            "[CV] END .....................max_depth=10, n_estimators=200; total time=   0.3s\n",
            "[CV] END .....................max_depth=10, n_estimators=200; total time=   0.3s\n",
            "[CV] END .....................max_depth=10, n_estimators=200; total time=   0.3s\n",
            "[CV] END .....................max_depth=10, n_estimators=200; total time=   0.3s\n",
            "[CV] END .....................max_depth=10, n_estimators=200; total time=   0.3s\n",
            "[CV] END .....................max_depth=10, n_estimators=200; total time=   0.3s\n",
            "[CV] END .....................max_depth=10, n_estimators=200; total time=   0.3s\n",
            "[CV] END ......................max_depth=11, n_estimators=10; total time=   0.0s\n",
            "[CV] END ......................max_depth=11, n_estimators=10; total time=   0.0s\n",
            "[CV] END ......................max_depth=11, n_estimators=10; total time=   0.0s\n",
            "[CV] END ......................max_depth=11, n_estimators=10; total time=   0.0s\n",
            "[CV] END ......................max_depth=11, n_estimators=10; total time=   0.0s\n",
            "[CV] END ......................max_depth=11, n_estimators=10; total time=   0.0s\n",
            "[CV] END ......................max_depth=11, n_estimators=10; total time=   0.0s\n",
            "[CV] END ......................max_depth=11, n_estimators=10; total time=   0.0s\n",
            "[CV] END ......................max_depth=11, n_estimators=10; total time=   0.0s\n",
            "[CV] END ......................max_depth=11, n_estimators=10; total time=   0.0s\n",
            "[CV] END ......................max_depth=11, n_estimators=50; total time=   0.1s\n",
            "[CV] END ......................max_depth=11, n_estimators=50; total time=   0.1s\n",
            "[CV] END ......................max_depth=11, n_estimators=50; total time=   0.1s\n",
            "[CV] END ......................max_depth=11, n_estimators=50; total time=   0.1s\n",
            "[CV] END ......................max_depth=11, n_estimators=50; total time=   0.1s\n",
            "[CV] END ......................max_depth=11, n_estimators=50; total time=   0.1s\n",
            "[CV] END ......................max_depth=11, n_estimators=50; total time=   0.1s\n",
            "[CV] END ......................max_depth=11, n_estimators=50; total time=   0.1s\n",
            "[CV] END ......................max_depth=11, n_estimators=50; total time=   0.1s\n",
            "[CV] END ......................max_depth=11, n_estimators=50; total time=   0.1s\n",
            "[CV] END .....................max_depth=11, n_estimators=100; total time=   0.2s\n",
            "[CV] END .....................max_depth=11, n_estimators=100; total time=   0.2s\n",
            "[CV] END .....................max_depth=11, n_estimators=100; total time=   0.1s\n",
            "[CV] END .....................max_depth=11, n_estimators=100; total time=   0.2s\n",
            "[CV] END .....................max_depth=11, n_estimators=100; total time=   0.1s\n",
            "[CV] END .....................max_depth=11, n_estimators=100; total time=   0.2s\n",
            "[CV] END .....................max_depth=11, n_estimators=100; total time=   0.3s\n",
            "[CV] END .....................max_depth=11, n_estimators=100; total time=   0.3s\n",
            "[CV] END .....................max_depth=11, n_estimators=100; total time=   0.2s\n",
            "[CV] END .....................max_depth=11, n_estimators=100; total time=   0.2s\n",
            "[CV] END .....................max_depth=11, n_estimators=150; total time=   0.4s\n",
            "[CV] END .....................max_depth=11, n_estimators=150; total time=   0.4s\n",
            "[CV] END .....................max_depth=11, n_estimators=150; total time=   0.4s\n",
            "[CV] END .....................max_depth=11, n_estimators=150; total time=   0.4s\n",
            "[CV] END .....................max_depth=11, n_estimators=150; total time=   0.4s\n",
            "[CV] END .....................max_depth=11, n_estimators=150; total time=   0.4s\n",
            "[CV] END .....................max_depth=11, n_estimators=150; total time=   0.4s\n",
            "[CV] END .....................max_depth=11, n_estimators=150; total time=   0.3s\n",
            "[CV] END .....................max_depth=11, n_estimators=150; total time=   0.4s\n",
            "[CV] END .....................max_depth=11, n_estimators=150; total time=   0.4s\n",
            "[CV] END .....................max_depth=11, n_estimators=200; total time=   0.5s\n",
            "[CV] END .....................max_depth=11, n_estimators=200; total time=   0.4s\n",
            "[CV] END .....................max_depth=11, n_estimators=200; total time=   0.3s\n",
            "[CV] END .....................max_depth=11, n_estimators=200; total time=   0.3s\n",
            "[CV] END .....................max_depth=11, n_estimators=200; total time=   0.3s\n",
            "[CV] END .....................max_depth=11, n_estimators=200; total time=   0.5s\n",
            "[CV] END .....................max_depth=11, n_estimators=200; total time=   1.3s\n",
            "[CV] END .....................max_depth=11, n_estimators=200; total time=   0.4s\n",
            "[CV] END .....................max_depth=11, n_estimators=200; total time=   0.3s\n",
            "[CV] END .....................max_depth=11, n_estimators=200; total time=   0.3s\n"
          ]
        },
        {
          "output_type": "execute_result",
          "data": {
            "text/plain": [
              "GridSearchCV(cv=10, estimator=RandomForestClassifier(),\n",
              "             param_grid={'max_depth': [2, 3, 4, 5, 6, 7, 8, 9, 10, 11],\n",
              "                         'n_estimators': [10, 50, 100, 150, 200]},\n",
              "             scoring='accuracy', verbose=2)"
            ],
            "text/html": [
              "<style>#sk-container-id-10 {color: black;background-color: white;}#sk-container-id-10 pre{padding: 0;}#sk-container-id-10 div.sk-toggleable {background-color: white;}#sk-container-id-10 label.sk-toggleable__label {cursor: pointer;display: block;width: 100%;margin-bottom: 0;padding: 0.3em;box-sizing: border-box;text-align: center;}#sk-container-id-10 label.sk-toggleable__label-arrow:before {content: \"▸\";float: left;margin-right: 0.25em;color: #696969;}#sk-container-id-10 label.sk-toggleable__label-arrow:hover:before {color: black;}#sk-container-id-10 div.sk-estimator:hover label.sk-toggleable__label-arrow:before {color: black;}#sk-container-id-10 div.sk-toggleable__content {max-height: 0;max-width: 0;overflow: hidden;text-align: left;background-color: #f0f8ff;}#sk-container-id-10 div.sk-toggleable__content pre {margin: 0.2em;color: black;border-radius: 0.25em;background-color: #f0f8ff;}#sk-container-id-10 input.sk-toggleable__control:checked~div.sk-toggleable__content {max-height: 200px;max-width: 100%;overflow: auto;}#sk-container-id-10 input.sk-toggleable__control:checked~label.sk-toggleable__label-arrow:before {content: \"▾\";}#sk-container-id-10 div.sk-estimator input.sk-toggleable__control:checked~label.sk-toggleable__label {background-color: #d4ebff;}#sk-container-id-10 div.sk-label input.sk-toggleable__control:checked~label.sk-toggleable__label {background-color: #d4ebff;}#sk-container-id-10 input.sk-hidden--visually {border: 0;clip: rect(1px 1px 1px 1px);clip: rect(1px, 1px, 1px, 1px);height: 1px;margin: -1px;overflow: hidden;padding: 0;position: absolute;width: 1px;}#sk-container-id-10 div.sk-estimator {font-family: monospace;background-color: #f0f8ff;border: 1px dotted black;border-radius: 0.25em;box-sizing: border-box;margin-bottom: 0.5em;}#sk-container-id-10 div.sk-estimator:hover {background-color: #d4ebff;}#sk-container-id-10 div.sk-parallel-item::after {content: \"\";width: 100%;border-bottom: 1px solid gray;flex-grow: 1;}#sk-container-id-10 div.sk-label:hover label.sk-toggleable__label {background-color: #d4ebff;}#sk-container-id-10 div.sk-serial::before {content: \"\";position: absolute;border-left: 1px solid gray;box-sizing: border-box;top: 0;bottom: 0;left: 50%;z-index: 0;}#sk-container-id-10 div.sk-serial {display: flex;flex-direction: column;align-items: center;background-color: white;padding-right: 0.2em;padding-left: 0.2em;position: relative;}#sk-container-id-10 div.sk-item {position: relative;z-index: 1;}#sk-container-id-10 div.sk-parallel {display: flex;align-items: stretch;justify-content: center;background-color: white;position: relative;}#sk-container-id-10 div.sk-item::before, #sk-container-id-10 div.sk-parallel-item::before {content: \"\";position: absolute;border-left: 1px solid gray;box-sizing: border-box;top: 0;bottom: 0;left: 50%;z-index: -1;}#sk-container-id-10 div.sk-parallel-item {display: flex;flex-direction: column;z-index: 1;position: relative;background-color: white;}#sk-container-id-10 div.sk-parallel-item:first-child::after {align-self: flex-end;width: 50%;}#sk-container-id-10 div.sk-parallel-item:last-child::after {align-self: flex-start;width: 50%;}#sk-container-id-10 div.sk-parallel-item:only-child::after {width: 0;}#sk-container-id-10 div.sk-dashed-wrapped {border: 1px dashed gray;margin: 0 0.4em 0.5em 0.4em;box-sizing: border-box;padding-bottom: 0.4em;background-color: white;}#sk-container-id-10 div.sk-label label {font-family: monospace;font-weight: bold;display: inline-block;line-height: 1.2em;}#sk-container-id-10 div.sk-label-container {text-align: center;}#sk-container-id-10 div.sk-container {/* jupyter's `normalize.less` sets `[hidden] { display: none; }` but bootstrap.min.css set `[hidden] { display: none !important; }` so we also need the `!important` here to be able to override the default hidden behavior on the sphinx rendered scikit-learn.org. See: https://github.com/scikit-learn/scikit-learn/issues/21755 */display: inline-block !important;position: relative;}#sk-container-id-10 div.sk-text-repr-fallback {display: none;}</style><div id=\"sk-container-id-10\" class=\"sk-top-container\"><div class=\"sk-text-repr-fallback\"><pre>GridSearchCV(cv=10, estimator=RandomForestClassifier(),\n",
              "             param_grid={&#x27;max_depth&#x27;: [2, 3, 4, 5, 6, 7, 8, 9, 10, 11],\n",
              "                         &#x27;n_estimators&#x27;: [10, 50, 100, 150, 200]},\n",
              "             scoring=&#x27;accuracy&#x27;, verbose=2)</pre><b>In a Jupyter environment, please rerun this cell to show the HTML representation or trust the notebook. <br />On GitHub, the HTML representation is unable to render, please try loading this page with nbviewer.org.</b></div><div class=\"sk-container\" hidden><div class=\"sk-item sk-dashed-wrapped\"><div class=\"sk-label-container\"><div class=\"sk-label sk-toggleable\"><input class=\"sk-toggleable__control sk-hidden--visually\" id=\"sk-estimator-id-16\" type=\"checkbox\" ><label for=\"sk-estimator-id-16\" class=\"sk-toggleable__label sk-toggleable__label-arrow\">GridSearchCV</label><div class=\"sk-toggleable__content\"><pre>GridSearchCV(cv=10, estimator=RandomForestClassifier(),\n",
              "             param_grid={&#x27;max_depth&#x27;: [2, 3, 4, 5, 6, 7, 8, 9, 10, 11],\n",
              "                         &#x27;n_estimators&#x27;: [10, 50, 100, 150, 200]},\n",
              "             scoring=&#x27;accuracy&#x27;, verbose=2)</pre></div></div></div><div class=\"sk-parallel\"><div class=\"sk-parallel-item\"><div class=\"sk-item\"><div class=\"sk-label-container\"><div class=\"sk-label sk-toggleable\"><input class=\"sk-toggleable__control sk-hidden--visually\" id=\"sk-estimator-id-17\" type=\"checkbox\" ><label for=\"sk-estimator-id-17\" class=\"sk-toggleable__label sk-toggleable__label-arrow\">estimator: RandomForestClassifier</label><div class=\"sk-toggleable__content\"><pre>RandomForestClassifier()</pre></div></div></div><div class=\"sk-serial\"><div class=\"sk-item\"><div class=\"sk-estimator sk-toggleable\"><input class=\"sk-toggleable__control sk-hidden--visually\" id=\"sk-estimator-id-18\" type=\"checkbox\" ><label for=\"sk-estimator-id-18\" class=\"sk-toggleable__label sk-toggleable__label-arrow\">RandomForestClassifier</label><div class=\"sk-toggleable__content\"><pre>RandomForestClassifier()</pre></div></div></div></div></div></div></div></div></div></div>"
            ]
          },
          "metadata": {},
          "execution_count": 90
        }
      ],
      "source": [
        "rf_model = RandomForestClassifier()\n",
        "\n",
        "rf_grid = GridSearchCV(estimator=rf_model,\n",
        "                       param_grid = param_dict,\n",
        "                       cv = 10, verbose=2, scoring='accuracy')\n",
        "\n",
        "rf_grid.fit(x_train_std,y_train)"
      ]
    },
    {
      "cell_type": "code",
      "execution_count": null,
      "metadata": {
        "colab": {
          "base_uri": "https://localhost:8080/"
        },
        "id": "VlweEGMejPft",
        "outputId": "b4f9ea45-2f0c-433b-9b89-61a42ec2c236"
      },
      "outputs": [
        {
          "output_type": "execute_result",
          "data": {
            "text/plain": [
              "{'max_depth': 2, 'n_estimators': 10}"
            ]
          },
          "metadata": {},
          "execution_count": 91
        }
      ],
      "source": [
        "rf_grid.best_params_"
      ]
    },
    {
      "cell_type": "code",
      "execution_count": null,
      "metadata": {
        "colab": {
          "base_uri": "https://localhost:8080/",
          "height": 74
        },
        "id": "4WdHpGJ1jiib",
        "outputId": "c48674e1-dabb-4245-8c5f-94a899f8bbe6"
      },
      "outputs": [
        {
          "output_type": "execute_result",
          "data": {
            "text/plain": [
              "RandomForestClassifier(max_depth=2, n_estimators=10)"
            ],
            "text/html": [
              "<style>#sk-container-id-11 {color: black;background-color: white;}#sk-container-id-11 pre{padding: 0;}#sk-container-id-11 div.sk-toggleable {background-color: white;}#sk-container-id-11 label.sk-toggleable__label {cursor: pointer;display: block;width: 100%;margin-bottom: 0;padding: 0.3em;box-sizing: border-box;text-align: center;}#sk-container-id-11 label.sk-toggleable__label-arrow:before {content: \"▸\";float: left;margin-right: 0.25em;color: #696969;}#sk-container-id-11 label.sk-toggleable__label-arrow:hover:before {color: black;}#sk-container-id-11 div.sk-estimator:hover label.sk-toggleable__label-arrow:before {color: black;}#sk-container-id-11 div.sk-toggleable__content {max-height: 0;max-width: 0;overflow: hidden;text-align: left;background-color: #f0f8ff;}#sk-container-id-11 div.sk-toggleable__content pre {margin: 0.2em;color: black;border-radius: 0.25em;background-color: #f0f8ff;}#sk-container-id-11 input.sk-toggleable__control:checked~div.sk-toggleable__content {max-height: 200px;max-width: 100%;overflow: auto;}#sk-container-id-11 input.sk-toggleable__control:checked~label.sk-toggleable__label-arrow:before {content: \"▾\";}#sk-container-id-11 div.sk-estimator input.sk-toggleable__control:checked~label.sk-toggleable__label {background-color: #d4ebff;}#sk-container-id-11 div.sk-label input.sk-toggleable__control:checked~label.sk-toggleable__label {background-color: #d4ebff;}#sk-container-id-11 input.sk-hidden--visually {border: 0;clip: rect(1px 1px 1px 1px);clip: rect(1px, 1px, 1px, 1px);height: 1px;margin: -1px;overflow: hidden;padding: 0;position: absolute;width: 1px;}#sk-container-id-11 div.sk-estimator {font-family: monospace;background-color: #f0f8ff;border: 1px dotted black;border-radius: 0.25em;box-sizing: border-box;margin-bottom: 0.5em;}#sk-container-id-11 div.sk-estimator:hover {background-color: #d4ebff;}#sk-container-id-11 div.sk-parallel-item::after {content: \"\";width: 100%;border-bottom: 1px solid gray;flex-grow: 1;}#sk-container-id-11 div.sk-label:hover label.sk-toggleable__label {background-color: #d4ebff;}#sk-container-id-11 div.sk-serial::before {content: \"\";position: absolute;border-left: 1px solid gray;box-sizing: border-box;top: 0;bottom: 0;left: 50%;z-index: 0;}#sk-container-id-11 div.sk-serial {display: flex;flex-direction: column;align-items: center;background-color: white;padding-right: 0.2em;padding-left: 0.2em;position: relative;}#sk-container-id-11 div.sk-item {position: relative;z-index: 1;}#sk-container-id-11 div.sk-parallel {display: flex;align-items: stretch;justify-content: center;background-color: white;position: relative;}#sk-container-id-11 div.sk-item::before, #sk-container-id-11 div.sk-parallel-item::before {content: \"\";position: absolute;border-left: 1px solid gray;box-sizing: border-box;top: 0;bottom: 0;left: 50%;z-index: -1;}#sk-container-id-11 div.sk-parallel-item {display: flex;flex-direction: column;z-index: 1;position: relative;background-color: white;}#sk-container-id-11 div.sk-parallel-item:first-child::after {align-self: flex-end;width: 50%;}#sk-container-id-11 div.sk-parallel-item:last-child::after {align-self: flex-start;width: 50%;}#sk-container-id-11 div.sk-parallel-item:only-child::after {width: 0;}#sk-container-id-11 div.sk-dashed-wrapped {border: 1px dashed gray;margin: 0 0.4em 0.5em 0.4em;box-sizing: border-box;padding-bottom: 0.4em;background-color: white;}#sk-container-id-11 div.sk-label label {font-family: monospace;font-weight: bold;display: inline-block;line-height: 1.2em;}#sk-container-id-11 div.sk-label-container {text-align: center;}#sk-container-id-11 div.sk-container {/* jupyter's `normalize.less` sets `[hidden] { display: none; }` but bootstrap.min.css set `[hidden] { display: none !important; }` so we also need the `!important` here to be able to override the default hidden behavior on the sphinx rendered scikit-learn.org. See: https://github.com/scikit-learn/scikit-learn/issues/21755 */display: inline-block !important;position: relative;}#sk-container-id-11 div.sk-text-repr-fallback {display: none;}</style><div id=\"sk-container-id-11\" class=\"sk-top-container\"><div class=\"sk-text-repr-fallback\"><pre>RandomForestClassifier(max_depth=2, n_estimators=10)</pre><b>In a Jupyter environment, please rerun this cell to show the HTML representation or trust the notebook. <br />On GitHub, the HTML representation is unable to render, please try loading this page with nbviewer.org.</b></div><div class=\"sk-container\" hidden><div class=\"sk-item\"><div class=\"sk-estimator sk-toggleable\"><input class=\"sk-toggleable__control sk-hidden--visually\" id=\"sk-estimator-id-19\" type=\"checkbox\" checked><label for=\"sk-estimator-id-19\" class=\"sk-toggleable__label sk-toggleable__label-arrow\">RandomForestClassifier</label><div class=\"sk-toggleable__content\"><pre>RandomForestClassifier(max_depth=2, n_estimators=10)</pre></div></div></div></div></div>"
            ]
          },
          "metadata": {},
          "execution_count": 92
        }
      ],
      "source": [
        "best_rf_model = RandomForestClassifier(max_depth=2,n_estimators = 10)\n",
        "best_rf_model.fit(x_train_std,y_train)"
      ]
    },
    {
      "cell_type": "code",
      "execution_count": null,
      "metadata": {
        "id": "4Nw7C2q7jorv"
      },
      "outputs": [],
      "source": [
        "y_pred_train = best_rf_model.predict(x_train_std)\n",
        "y_pred_test = best_rf_model.predict(x_test_std)\n",
        "\n"
      ]
    },
    {
      "cell_type": "code",
      "execution_count": null,
      "metadata": {
        "id": "Zw0hFyBSlM4d"
      },
      "outputs": [],
      "source": [
        "train_accuracy = accuracy_score(y_train,y_pred_train)\n",
        "test_accuracy = accuracy_score(y_test,y_pred_test)"
      ]
    },
    {
      "cell_type": "code",
      "execution_count": null,
      "metadata": {
        "colab": {
          "base_uri": "https://localhost:8080/"
        },
        "id": "_wL5BMQ8lTN8",
        "outputId": "bfbea942-10f5-428e-e5d8-144bbcf0e95a"
      },
      "outputs": [
        {
          "output_type": "execute_result",
          "data": {
            "text/plain": [
              "0.9213483146067416"
            ]
          },
          "metadata": {},
          "execution_count": 95
        }
      ],
      "source": [
        "train_accuracy"
      ]
    },
    {
      "cell_type": "code",
      "execution_count": null,
      "metadata": {
        "colab": {
          "base_uri": "https://localhost:8080/"
        },
        "id": "9uQbFjqElUkC",
        "outputId": "e04c7cfe-618e-4685-90bd-deafae6e47ab"
      },
      "outputs": [
        {
          "output_type": "execute_result",
          "data": {
            "text/plain": [
              "0.8717948717948718"
            ]
          },
          "metadata": {},
          "execution_count": 96
        }
      ],
      "source": [
        "test_accuracy"
      ]
    },
    {
      "cell_type": "code",
      "execution_count": null,
      "metadata": {
        "id": "W5uN3L7bld9S"
      },
      "outputs": [],
      "source": [
        "test_cm = confusion_matrix(y_test,y_pred_test)"
      ]
    },
    {
      "cell_type": "code",
      "execution_count": null,
      "metadata": {
        "colab": {
          "base_uri": "https://localhost:8080/"
        },
        "id": "992SkjVdlkBA",
        "outputId": "69b25bd3-dd66-4e07-d418-612a4eb3680e"
      },
      "outputs": [
        {
          "output_type": "execute_result",
          "data": {
            "text/plain": [
              "array([[17,  0],\n",
              "       [ 5, 17]])"
            ]
          },
          "metadata": {},
          "execution_count": 98
        }
      ],
      "source": [
        "test_cm"
      ]
    },
    {
      "cell_type": "code",
      "execution_count": null,
      "metadata": {
        "colab": {
          "base_uri": "https://localhost:8080/",
          "height": 466
        },
        "id": "6nCyGEiZlz_B",
        "outputId": "436daa63-cd59-413e-d41a-f76a52a151bf"
      },
      "outputs": [
        {
          "output_type": "execute_result",
          "data": {
            "text/plain": [
              "<sklearn.metrics._plot.confusion_matrix.ConfusionMatrixDisplay at 0x7b8c5f76a710>"
            ]
          },
          "metadata": {},
          "execution_count": 99
        },
        {
          "output_type": "display_data",
          "data": {
            "text/plain": [
              "<Figure size 640x480 with 2 Axes>"
            ],
            "image/png": "[encoded data removed]"
          },
          "metadata": {}
        }
      ],
      "source": [
        "disp= ConfusionMatrixDisplay(test_cm)\n",
        "disp.plot()"
      ]
    }
  ],
  "metadata": {
    "colab": {
      "provenance": [],
      "authorship_tag": "ABX9TyPLHp+b+vy2s/51QiFyqctR",
      "include_colab_link": true
    },
    "kernelspec": {
      "display_name": "Python 3",
      "name": "python3"
    },
    "language_info": {
      "name": "python"
    }
  },
  "nbformat": 4,
  "nbformat_minor": 0
}